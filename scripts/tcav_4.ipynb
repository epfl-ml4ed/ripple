{
 "cells": [
  {
   "cell_type": "code",
   "execution_count": null,
   "id": "0e848600",
   "metadata": {},
   "outputs": [],
   "source": []
  },
  {
   "cell_type": "code",
   "execution_count": null,
   "id": "e32c4fb3",
   "metadata": {},
   "outputs": [],
   "source": []
  },
  {
   "cell_type": "code",
   "execution_count": null,
   "id": "84f4e29d",
   "metadata": {},
   "outputs": [],
   "source": []
  },
  {
   "cell_type": "code",
   "execution_count": null,
   "id": "97e555d8",
   "metadata": {},
   "outputs": [],
   "source": []
  },
  {
   "cell_type": "code",
   "execution_count": null,
   "id": "4e7c9f86",
   "metadata": {},
   "outputs": [],
   "source": []
  },
  {
   "cell_type": "code",
   "execution_count": null,
   "id": "a73f4301",
   "metadata": {},
   "outputs": [],
   "source": []
  },
  {
   "cell_type": "code",
   "execution_count": null,
   "id": "555e2145",
   "metadata": {},
   "outputs": [],
   "source": []
  },
  {
   "cell_type": "code",
   "execution_count": null,
   "id": "618ff10a",
   "metadata": {},
   "outputs": [],
   "source": []
  },
  {
   "cell_type": "code",
   "execution_count": null,
   "id": "0a894fa8",
   "metadata": {},
   "outputs": [],
   "source": []
  },
  {
   "cell_type": "code",
   "execution_count": null,
   "id": "2a9af96b",
   "metadata": {},
   "outputs": [],
   "source": []
  },
  {
   "cell_type": "code",
   "execution_count": null,
   "id": "b24c2fb9",
   "metadata": {},
   "outputs": [],
   "source": []
  },
  {
   "cell_type": "code",
   "execution_count": null,
   "id": "7fb06da3",
   "metadata": {},
   "outputs": [],
   "source": []
  },
  {
   "cell_type": "code",
   "execution_count": null,
   "id": "b89f4084",
   "metadata": {},
   "outputs": [],
   "source": []
  },
  {
   "cell_type": "code",
   "execution_count": null,
   "id": "b89e64da",
   "metadata": {},
   "outputs": [],
   "source": []
  },
  {
   "cell_type": "code",
   "execution_count": null,
   "id": "697304e7",
   "metadata": {},
   "outputs": [],
   "source": []
  },
  {
   "cell_type": "code",
   "execution_count": null,
   "id": "83e9c607",
   "metadata": {},
   "outputs": [],
   "source": []
  },
  {
   "cell_type": "code",
   "execution_count": null,
   "id": "88cc02ba",
   "metadata": {},
   "outputs": [],
   "source": []
  },
  {
   "cell_type": "markdown",
   "id": "df59df94",
   "metadata": {},
   "source": [
    "### Remove saved ones concepts trying new course"
   ]
  },
  {
   "cell_type": "code",
   "execution_count": 1,
   "id": "0b27ee5a",
   "metadata": {},
   "outputs": [
    {
     "name": "stdout",
     "output_type": "stream",
     "text": [
      "rm: cannot remove 'cav': No such file or directory\n",
      "rm: cannot remove 'Raindrop/code/cav': No such file or directory\n"
     ]
    }
   ],
   "source": [
    "%rm -r cav\n",
    "%rm -r Raindrop/code/cav"
   ]
  },
  {
   "cell_type": "code",
   "execution_count": 1,
   "id": "2c7ca7b2",
   "metadata": {},
   "outputs": [
    {
     "name": "stderr",
     "output_type": "stream",
     "text": [
      "/opt/conda/envs/py39/lib/python3.9/site-packages/tqdm/auto.py:22: TqdmWarning: IProgress not found. Please update jupyter and ipywidgets. See https://ipywidgets.readthedocs.io/en/stable/user_install.html\n",
      "  from .autonotebook import tqdm as notebook_tqdm\n"
     ]
    }
   ],
   "source": [
    "import numpy as np\n",
    "import os\n",
    "import pandas as pd\n",
    "import ast\n",
    "from matplotlib import pyplot as plt\n",
    "\n",
    "from captum.attr import LayerGradientXActivation, LayerIntegratedGradients\n",
    "\n",
    "from captum.concept import TCAV\n",
    "from captum.concept import Concept\n",
    "\n",
    "from captum.concept._utils.data_iterator import dataset_to_dataloader, CustomIterableDataset\n",
    "from captum.concept._utils.common import concepts_to_str\n",
    "from scipy.stats import ttest_ind\n",
    "import torch\n",
    "import random\n",
    "import seaborn as sns"
   ]
  },
  {
   "cell_type": "code",
   "execution_count": 2,
   "id": "0b78b5cd",
   "metadata": {},
   "outputs": [
    {
     "name": "stdout",
     "output_type": "stream",
     "text": [
      "/beerslaw/ML4ED/Raindrop/code\n"
     ]
    }
   ],
   "source": [
    "%cd Raindrop/code\n",
    "from models_rd import *\n",
    "from utils_rd import *"
   ]
  },
  {
   "cell_type": "code",
   "execution_count": 75,
   "id": "6d0b6ce3",
   "metadata": {},
   "outputs": [],
   "source": [
    "Target = 0\n",
    "test_target = 0\n",
    "num_rands = 100\n",
    "d_inp = 6\n",
    "np.random.seed(0)\n",
    "torch.manual_seed(0)\n",
    "torch.cuda.manual_seed(0)\n",
    "random.seed(0)\n",
    "base_path = '/beerslaw/raindrop_data/prep_data'\n",
    "raindrop_data_path = '/beerslaw/raindrop_data'\n",
    "easy_fail_path = '/beerslaw/raindrop_data/easy-fail/'\n",
    "MOOC = 'dsp-001'\n",
    "percentile = 40\n",
    "Pdict_list = np.load(os.path.join(base_path, f\"{MOOC}_{percentile}_data_hard_fail.npy\"), allow_pickle=True)\n",
    "arr_outcomes = np.load(os.path.join(base_path, f\"{MOOC}_{percentile}_y_hard_fail.npy\"), allow_pickle=True)"
   ]
  },
  {
   "cell_type": "code",
   "execution_count": 4,
   "id": "56e8469e",
   "metadata": {},
   "outputs": [],
   "source": [
    "marras_feats = pd.read_csv(f'/beerslaw/raindrop_data/easy-fail/eq_week-marras_et_al-{MOOC.replace(\"-\", \"_\")}/feature_labels.csv')\n",
    "number_id_mapping = pd.read_csv(f'/beerslaw/raindrop_data/easy-fail/user_id_mapping-{MOOC.replace(\"-\", \"_\")}.csv')\n",
    "\n",
    "hard_fail_idx = number_id_mapping.merge(marras_feats, on='Unnamed: 0', how='inner')['Unnamed: 0']\n",
    "number_id_mapping = number_id_mapping.merge(marras_feats, on='Unnamed: 0', how='inner')[['user_id', 'label-pass-fail']]\n"
   ]
  },
  {
   "cell_type": "code",
   "execution_count": 5,
   "id": "9abdb93d",
   "metadata": {},
   "outputs": [],
   "source": [
    "marras_features = np.load(f\"{easy_fail_path}/eq_week-marras_et_al-{MOOC.replace('-', '_')}/feature_values.npz\")['feature_values']\n",
    "boroujeni_features = np.load(f\"{easy_fail_path}/eq_week-boroujeni_et_al-{MOOC.replace('-', '_')}/feature_values.npz\")['feature_values']\n",
    "chen_features = np.load(f\"{easy_fail_path}/eq_week-chen_cui-{MOOC.replace('-', '_')}/feature_values.npz\")['feature_values']\n",
    "lalle_features = np.load(f\"{easy_fail_path}/eq_week-lalle_conati-{MOOC.replace('-', '_')}/feature_values.npz\")['feature_values']\n",
    "mubarak_features = np.load(f\"{easy_fail_path}/eq_week-mubarak_et_al-{MOOC.replace('-', '_')}/feature_values.npz\")['feature_values']\n",
    "\n",
    "mubarak_features = mubarak_features[hard_fail_idx]\n",
    "\n",
    "marras_features = np.nan_to_num(marras_features, nan=0)\n",
    "boroujeni_features = np.nan_to_num(boroujeni_features, nan=0)\n",
    "chen_features = np.nan_to_num(chen_features, nan=0)\n",
    "lalle_features = np.nan_to_num(lalle_features, nan=0)\n",
    "mubarak_features = np.nan_to_num(mubarak_features, nan=0)\n",
    "\n",
    "marras_names = open(f\"{easy_fail_path}/eq_week-marras_et_al-{MOOC.replace('-', '_')}/settings.txt\", 'r').read()\n",
    "marras_names = ast.literal_eval(marras_names)['feature_names']\n",
    "boroujeni_names = open(f\"{easy_fail_path}/eq_week-boroujeni_et_al-{MOOC.replace('-', '_')}/settings.txt\", 'r').read()\n",
    "boroujeni_names = ast.literal_eval(boroujeni_names)['feature_names']\n",
    "chen_names = open(f\"{easy_fail_path}/eq_week-chen_cui-{MOOC.replace('-', '_')}/settings.txt\", 'r').read()\n",
    "chen_names = ast.literal_eval(chen_names)['feature_names']\n",
    "lalle_names = open(f\"{easy_fail_path}/eq_week-lalle_conati-{MOOC.replace('-', '_')}/settings.txt\", 'r').read()\n",
    "lalle_names = ast.literal_eval(lalle_names)['feature_names']\n",
    "mubarak_names = open(f\"{easy_fail_path}/eq_week-mubarak_et_al-{MOOC.replace('-', '_')}/settings.txt\", 'r').read()\n",
    "mubarak_names = ast.literal_eval(mubarak_names)['feature_names']\n",
    "\n",
    "marras_names = [f\"{'_'.join(name.split('_')[:-1])} {name.split('_')[-1].split(' ')[1]}\" if 'function ' in name else name for name in marras_names]\n",
    "boroujeni_names = [f\"{'_'.join(name.split('_')[:-1])} {name.split('_')[-1].split(' ')[1]}\" if 'function ' in name else name for name in boroujeni_names]\n",
    "chen_names = [f\"{'_'.join(name.split('_')[:-1])} {name.split('_')[-1].split(' ')[1]}\" if 'function ' in name else name for name in chen_names]\n",
    "lalle_names = [f\"{'_'.join(name.split('_')[:-1])} {name.split('_')[-1].split(' ')[1]}\" if 'function ' in name else name for name in lalle_names]\n",
    "mubarak_names = [f\"{'_'.join(name.split('_')[:-1])} {name.split('_')[-1].split(' ')[1]}\" if 'function ' in name else name for name in mubarak_names]\n",
    "\n",
    "features_df = pd.DataFrame()\n",
    "features_df['user_id'] = number_id_mapping['user_id']\n",
    "features_df['label-pass-fail'] = number_id_mapping['label-pass-fail']\n",
    "features_df[marras_names] = [[student[:, i] for i in range(marras_features.shape[2])] for student in marras_features]\n",
    "features_df[boroujeni_names] = [[student[:, i] for i in range(boroujeni_features.shape[2])] for student in boroujeni_features]\n",
    "features_df[chen_names] = [[student[:, i] for i in range(chen_features.shape[2])] for student in chen_features]\n",
    "features_df[lalle_names] = [[student[:, i] for i in range(lalle_features.shape[2])] for student in lalle_features]\n",
    "features_df[mubarak_names] = [[student[:, i] for i in range(mubarak_features.shape[2])] for student in mubarak_features]\n",
    "\n",
    "features_df['relative_time_online'] = features_df['time_sessions sum'].apply(lambda x: [i/sum(x) for i in x] if sum(x) != 0 else x)\n",
    "features_df['relative_video_clicks'] = features_df['total_clicks_video'].apply(lambda x: [i/sum(x) for i in x] if sum(x) != 0 else x)\n",
    "\n",
    "\n",
    "boroujeni_lq_features = np.load(f\"{easy_fail_path}/lq_week-boroujeni_et_al-{MOOC.replace('-', '_')}/feature_values.npz\", allow_pickle=True)['feature_values']\n",
    "boroujeni_lq_features = boroujeni_lq_features[hard_fail_idx]\n",
    "boroujeni_features = np.nan_to_num(boroujeni_lq_features, nan=0)\n",
    "\n",
    "boroujeni_lq_names = open(f\"{easy_fail_path}/lq_week-boroujeni_et_al-{MOOC.replace('-', '_')}/settings.txt\", 'r').read()\n",
    "boroujeni_lq_names = ast.literal_eval(boroujeni_lq_names)['feature_names']\n",
    "boroujeni_lq_names = [f\"{'_'.join(name.split('_')[:-1])} {name.split('_')[-1].split(' ')[1]}\" if 'function ' in name else name for name in boroujeni_lq_names]\n",
    "boroujeni_lq_features = boroujeni_lq_features[:, -1]\n",
    "features_df[boroujeni_lq_names[-3:]] = [student[-3:] for student in boroujeni_lq_features]\n",
    "\n"
   ]
  },
  {
   "cell_type": "code",
   "execution_count": 6,
   "id": "7569a989",
   "metadata": {},
   "outputs": [],
   "source": [
    "args_train, args_val, args_test = np.load(os.path.join(raindrop_data_path, \n",
    "                                                               'split_args', f\"split_{MOOC.replace('-', '_')}.npy\"),\n",
    "                                                 allow_pickle=True)\n",
    "Ptrain = Pdict_list[args_train]\n",
    "Pval = Pdict_list[args_val]\n",
    "Ptest = Pdict_list[args_test]\n",
    "ytrain = arr_outcomes[args_train, :]\n",
    "yval = arr_outcomes[args_val, :]\n",
    "ytest = arr_outcomes[args_test, :]\n",
    "\n",
    "\n",
    "train_zero_indices = [i for i, item in enumerate(Ptrain) if item['length'] == 0]\n",
    "#zero_Ptrain = Ptrain[zero_indices]\n",
    "Ptrain = np.delete(Ptrain, train_zero_indices, axis=0)\n",
    "ytrain = np.delete(ytrain, train_zero_indices, axis=0)\n",
    "\n",
    "val_zero_indices = [i for i, item in enumerate(Pval) if item['length'] == 0]\n",
    "#zero_Ptrain = Ptrain[zero_indices]\n",
    "Pval = np.delete(Pval, val_zero_indices, axis=0)\n",
    "yval = np.delete(yval, val_zero_indices, axis=0)\n",
    "\n",
    "test_zero_indices = [i for i, item in enumerate(Ptest) if item['length'] == 0]\n",
    "zero_ytest = ytest[test_zero_indices]\n",
    "Ptest = np.delete(Ptest, test_zero_indices, axis=0)  \n",
    "ytest = np.delete(ytest, test_zero_indices, axis=0)"
   ]
  },
  {
   "cell_type": "code",
   "execution_count": 7,
   "id": "e90908c3",
   "metadata": {},
   "outputs": [
    {
     "name": "stderr",
     "output_type": "stream",
     "text": [
      "/opt/conda/envs/py39/lib/python3.9/site-packages/numpy/core/fromnumeric.py:86: VisibleDeprecationWarning: Creating an ndarray from ragged nested sequences (which is a list-or-tuple of lists-or-tuples-or ndarrays with different lengths or shapes) is deprecated. If you meant to do this, you must specify 'dtype=object' when creating the ndarray.\n",
      "  return ufunc.reduce(obj, axis, dtype, out, **passkwargs)\n"
     ]
    }
   ],
   "source": [
    "T, F = Ptrain[0]['arr'].shape\n",
    "D = len(Ptrain[0]['extended_static'])\n",
    "\n",
    "Ptrain_tensor = np.zeros((len(Ptrain), T, F))\n",
    "Ptrain_static_tensor = np.zeros((len(Ptrain), D))\n",
    "\n",
    "for i in range(len(Ptrain)):\n",
    "    Ptrain_tensor[i] = Ptrain[i]['arr']\n",
    "    Ptrain_static_tensor[i] = Ptrain[i]['extended_static']\n",
    "\n",
    "mf, stdf = getStats(Ptrain_tensor)\n",
    "ms, ss = getStats_static(Ptrain_static_tensor, dataset='P12')\n",
    "\n",
    "Ptrain_tensor, Ptrain_static_tensor, Ptrain_time_tensor, ytrain_tensor = tensorize_normalize(Ptrain, ytrain, mf,\n",
    "                                                                                             stdf, ms, ss)\n",
    "Pval_tensor, Pval_static_tensor, Pval_time_tensor, yval_tensor = tensorize_normalize(Pval, yval, mf, stdf, ms, ss)\n",
    "\n",
    "Ptest_tensor, Ptest_static_tensor, Ptest_time_tensor, ytest_tensor = tensorize_normalize(Ptest, ytest, mf, stdf, ms, ss)\n",
    "\n",
    "\n",
    "Ptrain_tensor = Ptrain_tensor.permute(1, 0, 2)\n",
    "Pval_tensor = Pval_tensor.permute(1, 0, 2)\n",
    "Ptest_tensor = Ptest_tensor.permute(1, 0, 2)\n",
    "\n",
    "Ptrain_time_tensor = Ptrain_time_tensor.squeeze(2).permute(1, 0)\n",
    "Pval_time_tensor = Pval_time_tensor.squeeze(2).permute(1, 0)\n",
    "Ptest_time_tensor = Ptest_time_tensor.squeeze(2).permute(1, 0)"
   ]
  },
  {
   "cell_type": "code",
   "execution_count": 8,
   "id": "edd1fdee",
   "metadata": {},
   "outputs": [],
   "source": [
    "P_tensor = torch.cat([Ptrain_tensor, Pval_tensor], axis=1)\n",
    "P_static_tensor = torch.cat([Ptrain_static_tensor, Pval_static_tensor])\n",
    "P_time_tensor = torch.cat([Ptrain_time_tensor, Pval_time_tensor], axis=1)\n",
    "y_tensor = torch.cat([ytrain_tensor, yval_tensor])\n",
    "\n",
    "user_id_list = [item['id'] for item in Ptrain]\n",
    "user_id_list += [item['id'] for item in Pval]"
   ]
  },
  {
   "cell_type": "code",
   "execution_count": 9,
   "id": "36a88971",
   "metadata": {},
   "outputs": [],
   "source": [
    "features_df = features_df.drop(args_test, axis=0)\n",
    "features_df = features_df.drop(args_train[train_zero_indices])\n",
    "features_df = features_df.drop(args_val[val_zero_indices])\n",
    "\n",
    "features_df = features_df.reset_index(drop=True)"
   ]
  },
  {
   "cell_type": "code",
   "execution_count": 10,
   "id": "9fcc56e9",
   "metadata": {},
   "outputs": [],
   "source": [
    "num_con_students = P_tensor.shape[1]\n",
    "num_test_students = Ptest_tensor.shape[1]\n",
    "assert num_con_students == len(features_df)"
   ]
  },
  {
   "cell_type": "markdown",
   "id": "cf61e016",
   "metadata": {},
   "source": [
    "# Extracting user_ids corresponding to a rule"
   ]
  },
  {
   "cell_type": "markdown",
   "id": "3c712ed7",
   "metadata": {},
   "source": [
    "### Random concepts"
   ]
  },
  {
   "cell_type": "code",
   "execution_count": 11,
   "id": "8c0f208e",
   "metadata": {},
   "outputs": [],
   "source": [
    "rand_concepts = []\n",
    "\n",
    "for rand_idx in range(num_rands):\n",
    "    rand_args = np.random.choice(num_con_students, size=(100,), replace=False)\n",
    "    \n",
    "    rand_P_tensor = P_tensor[:, rand_args, :]\n",
    "    rand_P_static_tensor = P_static_tensor[rand_args]\n",
    "    rand_P_time_tensor = P_time_tensor[:, rand_args]\n",
    "    rand_y_tensor = y_tensor[rand_args]\n",
    "    \n",
    "    rand_concept = Concept(id=1000+rand_idx, name=f\"rand_{rand_idx}\", data_iter=dataset_to_dataloader(tuple([{'src': rand_P_tensor.cuda(), \n",
    "                                                                        'static': rand_P_static_tensor.cuda(),\n",
    "                                                                        'times': rand_P_time_tensor.cuda(),\n",
    "                                                                        'lengths': torch.sum(rand_P_time_tensor > 0, dim=0).cuda()\n",
    "                                                                              }])))\n",
    "    rand_concepts.append(rand_concept)\n",
    "    "
   ]
  },
  {
   "cell_type": "code",
   "execution_count": 12,
   "id": "4b0f93f8",
   "metadata": {},
   "outputs": [
    {
     "data": {
      "text/plain": [
       "tensor([0.4963])"
      ]
     },
     "execution_count": 12,
     "metadata": {},
     "output_type": "execute_result"
    }
   ],
   "source": [
    "torch.rand(1)"
   ]
  },
  {
   "cell_type": "markdown",
   "id": "c6d9af91",
   "metadata": {},
   "source": [
    "# Defining rule functions"
   ]
  },
  {
   "cell_type": "code",
   "execution_count": 13,
   "id": "7f592fce",
   "metadata": {},
   "outputs": [],
   "source": [
    "def give_top_bot_percent(input_series, n):\n",
    "    series = input_series[input_series != 0]\n",
    "    return series.iloc[np.argsort(series)[-int(len(series)*n):]], series.iloc[np.argsort(series)[:int(len(series)*n)]]"
   ]
  },
  {
   "cell_type": "code",
   "execution_count": 14,
   "id": "ca834957",
   "metadata": {},
   "outputs": [],
   "source": [
    "experimental_sets = []"
   ]
  },
  {
   "cell_type": "markdown",
   "id": "634d0e1f",
   "metadata": {},
   "source": [
    "## Effort concept:"
   ]
  },
  {
   "cell_type": "code",
   "execution_count": 15,
   "id": "2d8c1002",
   "metadata": {},
   "outputs": [],
   "source": [
    "def effort(features_df, n):\n",
    "    # Top: Intersection\n",
    "    # Bot: Union\n",
    "    effort_df = features_df[['user_id', 'time_sessions sum', 'total_clicks_video']]\n",
    "    \n",
    "    top_time_sessions_sum, bot_time_sessions_sum = give_top_bot_percent(effort_df['time_sessions sum'].apply(sum), n)\n",
    "    top_total_video_clicks, bot_total_video_clicks = give_top_bot_percent(effort_df['total_clicks_video'].apply(sum), n)\n",
    "    \n",
    "    top_intersection = np.array(list(set(top_time_sessions_sum.index).intersection(top_total_video_clicks.index)))\n",
    "    bot_intersection = np.array(list(set(bot_time_sessions_sum.index).union(bot_total_video_clicks.index)))\n",
    "    \n",
    "    lim = np.min([len(top_intersection), len(bot_intersection)])\n",
    "    \n",
    "    top_intersection = top_intersection[np.random.choice(len(top_intersection), size=(lim,), replace=False)] if len(top_intersection) > lim else top_intersection\n",
    "    bot_intersection = bot_intersection[np.random.choice(len(bot_intersection), size=(lim,), replace=False)] if len(bot_intersection) > lim else bot_intersection\n",
    "    \n",
    "    return top_intersection, bot_intersection"
   ]
  },
  {
   "cell_type": "code",
   "execution_count": 16,
   "id": "62e75e21",
   "metadata": {},
   "outputs": [
    {
     "name": "stdout",
     "output_type": "stream",
     "text": [
      "94\n",
      "94\n"
     ]
    }
   ],
   "source": [
    "top_effort_args, bot_effort_args = effort(features_df, 0.05)\n",
    "\n",
    "top_effort_P_tensor = P_tensor[:, top_effort_args, :]\n",
    "top_effort_P_static_tensor = P_static_tensor[top_effort_args]\n",
    "top_effort_P_time_tensor = P_time_tensor[:, top_effort_args]\n",
    "top_effort_y_tensor = y_tensor[top_effort_args]\n",
    "\n",
    "top_effort_con = Concept(id=0, name=\"High Effort\", data_iter=dataset_to_dataloader(tuple([{'src': top_effort_P_tensor.cuda(), \n",
    "                                                                    'static': top_effort_P_static_tensor.cuda(),\n",
    "                                                                    'times': top_effort_P_time_tensor.cuda(),\n",
    "                                                                    'lengths': torch.sum(top_effort_P_time_tensor > 0, dim=0).cuda()\n",
    "                                                                          }])))\n",
    "\n",
    "bot_effort_P_tensor = P_tensor[:, bot_effort_args, :]\n",
    "bot_effort_P_static_tensor = P_static_tensor[bot_effort_args]\n",
    "bot_effort_P_time_tensor = P_time_tensor[:, bot_effort_args]\n",
    "bot_effort_y_tensor = y_tensor[bot_effort_args]\n",
    "\n",
    "bot_effort_con = Concept(id=1, name=\"Low Effort\", data_iter=dataset_to_dataloader(tuple([{'src': bot_effort_P_tensor.cuda(), \n",
    "                                                                    'static': bot_effort_P_static_tensor.cuda(),\n",
    "                                                                    'times': bot_effort_P_time_tensor.cuda(),\n",
    "                                                                    'lengths': torch.sum(bot_effort_P_time_tensor > 0, dim=0).cuda()\n",
    "                                                                          }])))\n",
    "\n",
    "\n",
    "#for rand_concept in rand_concepts:\n",
    "#    experimental_sets.append([top_effort_con, rand_concept])\n",
    "#for rand_concept in rand_concepts:\n",
    "#    experimental_sets.append([bot_effort_con, rand_concept])   \n",
    "if len(top_effort_args) > 0:\n",
    "    for rand_concept in rand_concepts:\n",
    "        experimental_sets.append([top_effort_con, bot_effort_con, rand_concept])\n",
    "    \n",
    "print(len(top_effort_args))\n",
    "print(len(bot_effort_args))"
   ]
  },
  {
   "cell_type": "markdown",
   "id": "2f1dc4f3",
   "metadata": {},
   "source": [
    "### "
   ]
  },
  {
   "cell_type": "markdown",
   "id": "d77b23f7",
   "metadata": {},
   "source": [
    "## Consistency concept:"
   ]
  },
  {
   "cell_type": "code",
   "execution_count": 17,
   "id": "161efc36",
   "metadata": {},
   "outputs": [],
   "source": [
    "def consistency(features_df, n, add_mean_session = True):\n",
    "    add_mean_session = True\n",
    "    consistency_df = features_df[['relative_time_online', 'relative_video_clicks', 'time_sessions mean']]\n",
    "\n",
    "\n",
    "    ratio_1 = consistency_df['relative_time_online'].apply(lambda x: sum(x[int(len(x)/2):])/sum(x[:int(len(x)/2)]))\n",
    "    ratio_1.replace([np.inf, -np.inf], np.nan, inplace=True)\n",
    "    ratio_1.fillna(0, inplace=True)\n",
    "\n",
    "\n",
    "\n",
    "\n",
    "\n",
    "    ratio_2 = consistency_df['relative_video_clicks'].apply(lambda x: sum(x[int(len(x)/2):])/sum(x[:int(len(x)/2)]))\n",
    "    ratio_2.replace([np.inf, -np.inf], np.nan, inplace=True)\n",
    "    ratio_2.fillna(0, inplace=True)    \n",
    "\n",
    "\n",
    "\n",
    "    ratio_3 = consistency_df['time_sessions mean'].apply(lambda x: sum(x[int(len(x)/2):])/sum(x[:int(len(x)/2)]))\n",
    "    ratio_3.replace([np.inf, -np.inf], np.nan, inplace=True)\n",
    "    ratio_3.fillna(0, inplace=True)   \n",
    "\n",
    "    ratio = (ratio_1 + ratio_2 + ratio_3)/3 if add_mean_session else (ratio_1 + ratio_2)/2\n",
    "\n",
    "\n",
    "    first_half, second_half = give_top_bot_percent(ratio, n)\n",
    "    _, uniform = give_top_bot_percent(np.abs(ratio - 1), n)\n",
    "\n",
    "    first_half = np.array(first_half.index)\n",
    "    second_half = np.array(second_half.index)\n",
    "    uniform = np.array(uniform.index)\n",
    "\n",
    "    lim = np.min([len(first_half), len(uniform)])\n",
    "\n",
    "    first_half = first_half[np.random.choice(len(first_half), size=(lim,), replace=False)] if len(first_half) > lim else first_half\n",
    "    second_half = second_half[np.random.choice(len(second_half), size=(lim,), replace=False)] if len(second_half) > lim else second_half\n",
    "    uniform = uniform[np.random.choice(len(uniform), size=(lim,), replace=False)] if len(uniform) > lim else uniform\n",
    "\n",
    "\n",
    "    return first_half, second_half, uniform\n"
   ]
  },
  {
   "cell_type": "code",
   "execution_count": 18,
   "id": "45396c9e",
   "metadata": {},
   "outputs": [
    {
     "name": "stdout",
     "output_type": "stream",
     "text": [
      "224\n",
      "224\n",
      "224\n"
     ]
    }
   ],
   "source": [
    "first_half_args, second_half_args, uniform_args = consistency(features_df, 0.1)\n",
    "\n",
    "first_half_P_tensor = P_tensor[:, first_half_args, :]\n",
    "first_half_P_static_tensor = P_static_tensor[first_half_args]\n",
    "first_half_P_time_tensor = P_time_tensor[:, first_half_args]\n",
    "first_half_y_tensor = y_tensor[first_half_args]\n",
    "\n",
    "first_half_con = Concept(id=10, name=\"First Half Consistency\", data_iter=dataset_to_dataloader(tuple([{'src': first_half_P_tensor.cuda(), \n",
    "                                                                    'static': first_half_P_static_tensor.cuda(),\n",
    "                                                                    'times': first_half_P_time_tensor.cuda(),\n",
    "                                                                    'lengths': torch.sum(first_half_P_time_tensor > 0, dim=0).cuda()\n",
    "                                                                          }])))\n",
    "\n",
    "\n",
    "second_half_P_tensor = P_tensor[:, second_half_args, :]\n",
    "second_half_P_static_tensor = P_static_tensor[second_half_args]\n",
    "second_half_P_time_tensor = P_time_tensor[:, second_half_args]\n",
    "second_half_y_tensor = y_tensor[second_half_args]\n",
    "\n",
    "second_half_con = Concept(id=11, name=\"Second Half Consistency\", data_iter=dataset_to_dataloader(tuple([{'src': second_half_P_tensor.cuda(), \n",
    "                                                                    'static': second_half_P_static_tensor.cuda(),\n",
    "                                                                    'times': second_half_P_time_tensor.cuda(),\n",
    "                                                                    'lengths': torch.sum(second_half_P_time_tensor > 0, dim=0).cuda()\n",
    "                                                                          }])))\n",
    "\n",
    "uniform_P_tensor = P_tensor[:, uniform_args, :]\n",
    "uniform_P_static_tensor = P_static_tensor[uniform_args]\n",
    "uniform_P_time_tensor = P_time_tensor[:, uniform_args]\n",
    "uniform_y_tensor = y_tensor[uniform_args]\n",
    "\n",
    "uniform_con = Concept(id=12, name=\"Uniform Consistency\", data_iter=dataset_to_dataloader(tuple([{'src': uniform_P_tensor.cuda(), \n",
    "                                                                    'static': uniform_P_static_tensor.cuda(),\n",
    "                                                                    'times': uniform_P_time_tensor.cuda(),\n",
    "                                                                    'lengths': torch.sum(uniform_P_time_tensor > 0, dim=0).cuda()\n",
    "                                                                          }])))\n",
    "\n",
    "\n",
    "\n",
    "\n",
    "#for rand_concept in rand_concepts:\n",
    "#    experimental_sets.append([first_half_con, rand_concept])\n",
    "#for rand_concept in rand_concepts:\n",
    "#    experimental_sets.append([second_half_con, rand_concept])    \n",
    "#for rand_concept in rand_concepts:\n",
    "#    experimental_sets.append([uniform_con, rand_concept])  \n",
    "if len(first_half_args) > 0:\n",
    "    for rand_concept in rand_concepts:\n",
    "        experimental_sets.append([first_half_con, second_half_con, uniform_con, rand_concept])\n",
    "\n",
    "\n",
    "\n",
    "print(len(first_half_args))\n",
    "print(len(second_half_args))\n",
    "print(len(uniform_args))"
   ]
  },
  {
   "cell_type": "markdown",
   "id": "6e56ffca",
   "metadata": {},
   "source": [
    "## Regularity concept:"
   ]
  },
  {
   "cell_type": "code",
   "execution_count": 19,
   "id": "edfe8d3c",
   "metadata": {},
   "outputs": [],
   "source": [
    "\n",
    "def regularity(features_df, n):\n",
    "    # Top Intersection\n",
    "    # Bot Union\n",
    "    regularity_df = features_df[['user_id', 'regularity_periodicity_m1', 'regularity_periodicity_m2', 'regularity_periodicity_m3']]\n",
    "    top_m1, bot_m1 = give_top_bot_percent(regularity_df['regularity_periodicity_m1'], n)\n",
    "    top_m2, bot_m2 = give_top_bot_percent(regularity_df['regularity_periodicity_m2'], n)\n",
    "    top_m3, bot_m3 = give_top_bot_percent(regularity_df['regularity_periodicity_m3'], n)\n",
    "    \n",
    "    top_intersection = np.array(list(set(top_m1.index).intersection(top_m2.index).intersection(top_m3.index)))\n",
    "    bot_intersection = np.array(list(set(bot_m1.index).union(bot_m2.index).union(bot_m3.index)))\n",
    "    \n",
    "    lim = np.min([len(top_intersection), len(bot_intersection)])\n",
    "    \n",
    "    top_intersection = top_intersection[np.random.choice(len(top_intersection), size=(lim,), replace=False)] if len(top_intersection) > lim else top_intersection\n",
    "    bot_intersection = bot_intersection[np.random.choice(len(bot_intersection), size=(lim,), replace=False)] if len(bot_intersection) > lim else bot_intersection\n",
    "\n",
    "    \n",
    "    return top_intersection, bot_intersection"
   ]
  },
  {
   "cell_type": "code",
   "execution_count": 20,
   "id": "18b470fd",
   "metadata": {},
   "outputs": [
    {
     "name": "stdout",
     "output_type": "stream",
     "text": [
      "39\n",
      "39\n"
     ]
    }
   ],
   "source": [
    "top_regularity_args, bot_regularity_args = regularity(features_df, 0.05)\n",
    "\n",
    "top_regularity_P_tensor = P_tensor[:, top_regularity_args, :]\n",
    "top_regularity_P_static_tensor = P_static_tensor[top_regularity_args]\n",
    "top_regularity_P_time_tensor = P_time_tensor[:, top_regularity_args]\n",
    "top_regularity_y_tensor = y_tensor[top_regularity_args]\n",
    "\n",
    "top_regularity_con = Concept(id=20, name=\"High Regularity\", data_iter=dataset_to_dataloader(tuple([{'src': top_regularity_P_tensor.cuda(), \n",
    "                                                                    'static': top_regularity_P_static_tensor.cuda(),\n",
    "                                                                    'times': top_regularity_P_time_tensor.cuda(),\n",
    "                                                                    'lengths': torch.sum(top_regularity_P_time_tensor > 0, dim=0).cuda()\n",
    "                                                                          }])))\n",
    "\n",
    "bot_regularity_P_tensor = P_tensor[:, bot_regularity_args, :]\n",
    "bot_regularity_P_static_tensor = P_static_tensor[bot_regularity_args]\n",
    "bot_regularity_P_time_tensor = P_time_tensor[:, bot_regularity_args]\n",
    "bot_regularity_y_tensor = y_tensor[bot_regularity_args]\n",
    "\n",
    "bot_regularity_con = Concept(id=21, name=\"Low Regularity\", data_iter=dataset_to_dataloader(tuple([{'src': bot_regularity_P_tensor.cuda(), \n",
    "                                                                    'static': bot_regularity_P_static_tensor.cuda(),\n",
    "                                                                    'times': bot_regularity_P_time_tensor.cuda(),\n",
    "                                                                    'lengths': torch.sum(bot_regularity_P_time_tensor > 0, dim=0).cuda()\n",
    "                                                                          }])))\n",
    "\n",
    "#if len(top_regularity_args) > 0:\n",
    "#    for rand_concept in rand_concepts:\n",
    "#        experimental_sets.append([top_regularity_con, rand_concept])\n",
    "#        \n",
    "#if len(bot_regularity_args) > 0:\n",
    "#    for rand_concept in rand_concepts:\n",
    "#        experimental_sets.append([bot_regularity_con, rand_concept])    \n",
    "\n",
    "if len(top_regularity_args) > 0:\n",
    "    for rand_concept in rand_concepts:\n",
    "        experimental_sets.append([top_regularity_con, bot_regularity_con, rand_concept])\n",
    "\n",
    "    \n",
    "    \n",
    "print(len(top_regularity_args))\n",
    "print(len(bot_regularity_args))"
   ]
  },
  {
   "cell_type": "markdown",
   "id": "403d7f4b",
   "metadata": {},
   "source": [
    "## Proactivity concept:"
   ]
  },
  {
   "cell_type": "code",
   "execution_count": 21,
   "id": "deec4a62",
   "metadata": {},
   "outputs": [],
   "source": [
    "def proactivity(features_df, n):\n",
    "\n",
    "    # Top: Intersection\n",
    "    # Bot: Union\n",
    "    proactivity_df = features_df[['user_id', 'content_anticipation', 'delay_lecture']]\n",
    "    \n",
    "    top_anticipation, bot_anticipation = give_top_bot_percent(proactivity_df['content_anticipation'].apply(sum), n)\n",
    "    top_delay, bot_delay = give_top_bot_percent(proactivity_df['delay_lecture'].apply(sum), n)\n",
    "    \n",
    "    top_intersection = np.array(list(set(top_anticipation.index).intersection(bot_delay.index)))\n",
    "    bot_intersection = np.array(list(set(bot_anticipation.index).union(top_delay.index)))\n",
    "    \n",
    "    lim = np.min([len(top_intersection), len(bot_intersection)])\n",
    "    \n",
    "    top_intersection = top_intersection[np.random.choice(len(top_intersection), size=(lim,), replace=False)] if len(top_intersection) > lim else top_intersection\n",
    "    bot_intersection = bot_intersection[np.random.choice(len(bot_intersection), size=(lim,), replace=False)] if len(bot_intersection) > lim else bot_intersection\n",
    "    \n",
    "    return top_intersection, bot_intersection"
   ]
  },
  {
   "cell_type": "code",
   "execution_count": 22,
   "id": "c5cae808",
   "metadata": {},
   "outputs": [
    {
     "name": "stdout",
     "output_type": "stream",
     "text": [
      "92\n",
      "92\n"
     ]
    }
   ],
   "source": [
    "top_proactivity_args, bot_proactivity_args = proactivity(features_df, 0.05)\n",
    "\n",
    "top_proactivity_P_tensor = P_tensor[:, top_proactivity_args, :]\n",
    "top_proactivity_P_static_tensor = P_static_tensor[top_proactivity_args]\n",
    "top_proactivity_P_time_tensor = P_time_tensor[:, top_proactivity_args]\n",
    "top_proactivity_y_tensor = y_tensor[top_proactivity_args]\n",
    "\n",
    "top_proactivity_con = Concept(id=30, name=\"High Proactivity\", data_iter=dataset_to_dataloader(tuple([{'src': top_proactivity_P_tensor.cuda(), \n",
    "                                                                    'static': top_proactivity_P_static_tensor.cuda(),\n",
    "                                                                    'times': top_proactivity_P_time_tensor.cuda(),\n",
    "                                                                    'lengths': torch.sum(top_proactivity_P_time_tensor > 0, dim=0).cuda()\n",
    "                                                                          }])))\n",
    "\n",
    "bot_proactivity_P_tensor = P_tensor[:, bot_proactivity_args, :]\n",
    "bot_proactivity_P_static_tensor = P_static_tensor[bot_proactivity_args]\n",
    "bot_proactivity_P_time_tensor = P_time_tensor[:, bot_proactivity_args]\n",
    "bot_proactivity_y_tensor = y_tensor[bot_proactivity_args]\n",
    "\n",
    "bot_proactivity_con = Concept(id=31, name=\"Low Proactivity\", data_iter=dataset_to_dataloader(tuple([{'src': bot_proactivity_P_tensor.cuda(), \n",
    "                                                                    'static': bot_proactivity_P_static_tensor.cuda(),\n",
    "                                                                    'times': bot_proactivity_P_time_tensor.cuda(),\n",
    "                                                                    'lengths': torch.sum(bot_proactivity_P_time_tensor > 0, dim=0).cuda()\n",
    "                                                                          }])))\n",
    "\n",
    "\n",
    "#for rand_concept in rand_concepts:\n",
    "#    experimental_sets.append([top_proactivity_con, rand_concept])\n",
    "#for rand_concept in rand_concepts:\n",
    "#    experimental_sets.append([bot_proactivity_con, rand_concept])    \n",
    "\n",
    "if len(top_proactivity_args) > 0:\n",
    "    for rand_concept in rand_concepts:\n",
    "        experimental_sets.append([top_proactivity_con, bot_proactivity_con, rand_concept])\n",
    "\n",
    "\n",
    "print(len(top_proactivity_args))\n",
    "print(len(bot_proactivity_args))"
   ]
  },
  {
   "cell_type": "code",
   "execution_count": null,
   "id": "54f83f25",
   "metadata": {},
   "outputs": [],
   "source": []
  },
  {
   "cell_type": "code",
   "execution_count": null,
   "id": "1fe32669",
   "metadata": {},
   "outputs": [],
   "source": []
  },
  {
   "cell_type": "code",
   "execution_count": null,
   "id": "06ee70b1",
   "metadata": {},
   "outputs": [],
   "source": []
  },
  {
   "cell_type": "code",
   "execution_count": 215,
   "id": "dc3451d3",
   "metadata": {},
   "outputs": [
    {
     "data": {
      "text/plain": [
       "0.7270356999598877"
      ]
     },
     "execution_count": 215,
     "metadata": {},
     "output_type": "execute_result"
    }
   ],
   "source": [
    "sum(features_df['label-pass-fail'])/len(features_df)"
   ]
  },
  {
   "cell_type": "code",
   "execution_count": 220,
   "id": "8793b814",
   "metadata": {},
   "outputs": [
    {
     "data": {
      "text/plain": [
       "tensor(0.7270)"
      ]
     },
     "execution_count": 220,
     "metadata": {},
     "output_type": "execute_result"
    }
   ],
   "source": [
    "1 - (sum(y_tensor)/len(y_tensor))"
   ]
  },
  {
   "cell_type": "code",
   "execution_count": 217,
   "id": "221a818a",
   "metadata": {},
   "outputs": [
    {
     "data": {
      "text/plain": [
       "True"
      ]
     },
     "execution_count": 217,
     "metadata": {},
     "output_type": "execute_result"
    }
   ],
   "source": [
    "len(y_tensor) == len(features_df)"
   ]
  },
  {
   "cell_type": "code",
   "execution_count": null,
   "id": "16ab8aa7",
   "metadata": {},
   "outputs": [],
   "source": []
  },
  {
   "cell_type": "code",
   "execution_count": 78,
   "id": "0712862d",
   "metadata": {},
   "outputs": [],
   "source": [
    "proactivity_df = features_df[['user_id', 'content_anticipation', 'delay_lecture']]"
   ]
  },
  {
   "cell_type": "code",
   "execution_count": 79,
   "id": "fd453ca2",
   "metadata": {},
   "outputs": [],
   "source": [
    "n = 0.05"
   ]
  },
  {
   "cell_type": "code",
   "execution_count": 84,
   "id": "130074f1",
   "metadata": {},
   "outputs": [],
   "source": [
    "top_anticipation, bot_anticipation = give_top_bot_percent(proactivity_df['content_anticipation'].apply(sum), n)\n",
    "top_delay, bot_delay = give_top_bot_percent(proactivity_df['delay_lecture'].apply(sum), n)"
   ]
  },
  {
   "cell_type": "code",
   "execution_count": 82,
   "id": "541aa3e2",
   "metadata": {},
   "outputs": [
    {
     "data": {
      "text/plain": [
       "2053   -248964.000000\n",
       "496    -221228.440476\n",
       "259    -212058.500000\n",
       "478    -177432.166667\n",
       "171    -115021.019048\n",
       "            ...      \n",
       "2305     30804.000000\n",
       "3036     30836.250000\n",
       "124      32055.500000\n",
       "598      32081.523810\n",
       "559      33997.000000\n",
       "Name: delay_lecture, Length: 126, dtype: float64"
      ]
     },
     "execution_count": 82,
     "metadata": {},
     "output_type": "execute_result"
    }
   ],
   "source": [
    "bot_delay"
   ]
  },
  {
   "cell_type": "code",
   "execution_count": 87,
   "id": "b0e25bc2",
   "metadata": {},
   "outputs": [
    {
     "data": {
      "text/plain": [
       "(array([0.        , 0.01923077, 0.0212766 , 0.04255319, 0.06382979,\n",
       "        0.08510638, 0.37029382]),\n",
       " array([4148,    1,   13,    3,    2,    7,    1]))"
      ]
     },
     "execution_count": 87,
     "metadata": {},
     "output_type": "execute_result"
    }
   ],
   "source": [
    "np.unique(proactivity_df['content_anticipation'].apply(sum), return_counts=True)"
   ]
  },
  {
   "cell_type": "code",
   "execution_count": 85,
   "id": "956423a0",
   "metadata": {},
   "outputs": [
    {
     "data": {
      "text/plain": [
       "2537    0.370294\n",
       "Name: content_anticipation, dtype: float64"
      ]
     },
     "execution_count": 85,
     "metadata": {},
     "output_type": "execute_result"
    }
   ],
   "source": [
    "top_anticipation"
   ]
  },
  {
   "cell_type": "code",
   "execution_count": 71,
   "id": "a3e97b31",
   "metadata": {},
   "outputs": [
    {
     "data": {
      "text/plain": [
       "user_id                                                                3354459\n",
       "label-pass-fail                                                            1.0\n",
       "competency_strength          [0.0, 0.0, 0.0, 0.0, 0.0, 0.0, 0.0, 0.0, 0.0, ...\n",
       "competency_alignment         [0.0, 0.0, 0.0, 0.0, 0.0, 0.0, 0.0, 0.0, 0.0, ...\n",
       "competency_anticipation      [0.0, 0.0, 0.0, 0.0, 0.0, 0.0, 0.0, 0.0, 0.0, ...\n",
       "                                                   ...                        \n",
       "speed_playback_ mean         [0.0, 1.0, 1.0, 0.0, 1.0, 1.0, 1.0, 0.0, 0.0, ...\n",
       "relative_time_online         [0.0, 0.2508670520231214, 0.6, 0.0, 0.0, 0.0, ...\n",
       "relative_video_clicks        [0.0, 0.2916666666666667, 0.4166666666666667, ...\n",
       "regularity_periodicity_m2                                             6.571598\n",
       "regularity_periodicity_m3                                             2.606194\n",
       "Name: 2537, Length: 63, dtype: object"
      ]
     },
     "execution_count": 71,
     "metadata": {},
     "output_type": "execute_result"
    }
   ],
   "source": [
    "features_df.iloc[2537]"
   ]
  },
  {
   "cell_type": "code",
   "execution_count": 73,
   "id": "3d4e790a",
   "metadata": {},
   "outputs": [
    {
     "data": {
      "text/plain": [
       "content_anticipation    [0.0, 0.09615384615384616, 0.1702127659574468,...\n",
       "delay_lecture           [0.0, 0.0, 0.0, 0.0, 0.0, 0.0, 0.0, 0.0, 0.0, ...\n",
       "Name: 2537, dtype: object"
      ]
     },
     "execution_count": 73,
     "metadata": {},
     "output_type": "execute_result"
    }
   ],
   "source": [
    "features_df.iloc[2537][['content_anticipation', 'delay_lecture']]"
   ]
  },
  {
   "cell_type": "code",
   "execution_count": 77,
   "id": "3e21dfb8",
   "metadata": {},
   "outputs": [
    {
     "data": {
      "text/plain": [
       "array([36630.,     0.,     0.,     0.,     0.,     0.,     0.,     0.,\n",
       "           0.,     0.,     0.,     0.,     0.])"
      ]
     },
     "execution_count": 77,
     "metadata": {},
     "output_type": "execute_result"
    }
   ],
   "source": [
    "features_df.iloc[97]['delay_lecture']"
   ]
  },
  {
   "cell_type": "markdown",
   "id": "4bf01972",
   "metadata": {},
   "source": [
    "## Control concept:"
   ]
  },
  {
   "cell_type": "code",
   "execution_count": 23,
   "id": "d6e7180c",
   "metadata": {},
   "outputs": [],
   "source": [
    "def control(features_df, n):\n",
    "    # Waiting for more features\n",
    "    \n",
    "    control_df = features_df[['user_id', 'frequency_action_Video.Pause', 'fraction_spent_ratio_duration_Video.Play', 'speed_playback_ mean']]\n",
    "    \n",
    "    #top_pause_freq, bot_pause_freq = give_top_bot_percent(control_df['frequency_action_Video.Pause'].apply(sum), n)\n",
    "    top_frac_spent, bot_frac_spent = give_top_bot_percent(control_df['fraction_spent_ratio_duration_Video.Play'].apply(sum), n)\n",
    "    top_change_rate, bot_change_rate = give_top_bot_percent(control_df['speed_playback_ mean'].apply(sum), n)\n",
    "    \n",
    "    #top_intersection = np.array(list(set(top_pause_freq.index).intersection(top_frac_spent.index).intersection(top_change_rate.index)))\n",
    "    #bot_intersection = np.array(list(set(bot_pause_freq.index).intersection(bot_frac_spent.index).intersection(bot_change_rate.index)))\n",
    "    top_intersection = np.array(list(set(top_frac_spent.index).intersection(top_change_rate.index)))\n",
    "    bot_intersection = np.array(list(set(bot_frac_spent.index).intersection(bot_change_rate.index)))\n",
    "   \n",
    "    lim = np.min([len(top_intersection), len(bot_intersection)])\n",
    "    \n",
    "    top_intersection = top_intersection[np.random.choice(len(top_intersection), size=(lim,), replace=False)] if len(top_intersection) > lim else top_intersection\n",
    "    bot_intersection = bot_intersection[np.random.choice(len(bot_intersection), size=(lim,), replace=False)] if len(bot_intersection) > lim else bot_intersection\n",
    "    \n",
    "    return top_intersection, bot_intersection"
   ]
  },
  {
   "cell_type": "code",
   "execution_count": 24,
   "id": "45de83d6",
   "metadata": {},
   "outputs": [
    {
     "name": "stdout",
     "output_type": "stream",
     "text": [
      "0\n",
      "0\n"
     ]
    }
   ],
   "source": [
    "top_control_args, bot_control_args = control(features_df, 0.2)\n",
    "\n",
    "top_control_P_tensor = P_tensor[:, top_control_args, :]\n",
    "top_control_P_static_tensor = P_static_tensor[top_control_args]\n",
    "top_control_P_time_tensor = P_time_tensor[:, top_control_args]\n",
    "top_control_y_tensor = y_tensor[top_control_args]\n",
    "\n",
    "top_control_con = Concept(id=40, name=\"High Control\", data_iter=dataset_to_dataloader(tuple([{'src': top_control_P_tensor.cuda(), \n",
    "                                                                    'static': top_control_P_static_tensor.cuda(),\n",
    "                                                                    'times': top_control_P_time_tensor.cuda(),\n",
    "                                                                    'lengths': torch.sum(top_control_P_time_tensor > 0, dim=0).cuda()\n",
    "                                                                          }])))\n",
    "\n",
    "bot_control_P_tensor = P_tensor[:, bot_control_args, :]\n",
    "bot_control_P_static_tensor = P_static_tensor[bot_control_args]\n",
    "bot_control_P_time_tensor = P_time_tensor[:, bot_control_args]\n",
    "bot_control_y_tensor = y_tensor[bot_control_args]\n",
    "\n",
    "bot_control_con = Concept(id=41, name=\"Low Control\", data_iter=dataset_to_dataloader(tuple([{'src': bot_control_P_tensor.cuda(), \n",
    "                                                                    'static': bot_control_P_static_tensor.cuda(),\n",
    "                                                                    'times': bot_control_P_time_tensor.cuda(),\n",
    "                                                                    'lengths': torch.sum(bot_control_P_time_tensor > 0, dim=0).cuda()\n",
    "                                                                          }])))\n",
    "\n",
    "#if len(top_control_args) > 0:\n",
    "#    for rand_concept in rand_concepts:\n",
    "#        experimental_sets.append([top_control_con, rand_concept])\n",
    "        \n",
    "#if len(bot_control_args) > 0:\n",
    "#    for rand_concept in rand_concepts:\n",
    "#        experimental_sets.append([bot_control_con, rand_concept])    \n",
    "\n",
    "if len(top_control_args) > 0:\n",
    "    for rand_concept in rand_concepts:\n",
    "        experimental_sets.append([top_control_con, bot_control_con, rand_concept])\n",
    "\n",
    "print(len(top_control_args))\n",
    "print(len(bot_control_args))"
   ]
  },
  {
   "cell_type": "markdown",
   "id": "ac68db5a",
   "metadata": {},
   "source": [
    "## Assessment concept:"
   ]
  },
  {
   "cell_type": "code",
   "execution_count": 25,
   "id": "fe823aae",
   "metadata": {},
   "outputs": [],
   "source": [
    "def assessment(features_df, n):\n",
    "    # Top: Intersection\n",
    "    # Bot: Union\n",
    "    assessment_df = features_df[['user_id', 'competency_strength', 'student_shape']]\n",
    "    \n",
    "    top_competency_strength, bot_competency_strength = give_top_bot_percent(assessment_df['competency_strength'].apply(sum), n)\n",
    "    top_student_shape, bot_student_shape = give_top_bot_percent(assessment_df['student_shape'].apply(sum), n)\n",
    "    \n",
    "    top_intersection = np.array(list(set(top_student_shape.index).intersection(top_competency_strength.index)))\n",
    "    bot_intersection = np.array(list(set(bot_student_shape.index).union(bot_competency_strength.index)))\n",
    "    \n",
    "    lim = np.min([len(top_intersection), len(bot_intersection)])\n",
    "    \n",
    "    top_intersection = top_intersection[np.random.choice(len(top_intersection), size=(lim,), replace=False)] if len(top_intersection) > lim else top_intersection\n",
    "    bot_intersection = bot_intersection[np.random.choice(len(bot_intersection), size=(lim,), replace=False)] if len(bot_intersection) > lim else bot_intersection\n",
    "    \n",
    "    return top_intersection, bot_intersection"
   ]
  },
  {
   "cell_type": "code",
   "execution_count": 26,
   "id": "fe324570",
   "metadata": {},
   "outputs": [
    {
     "name": "stdout",
     "output_type": "stream",
     "text": [
      "96\n",
      "96\n"
     ]
    }
   ],
   "source": [
    "top_assessment_args, bot_assessment_args = assessment(features_df, 0.5)\n",
    "\n",
    "top_assessment_P_tensor = P_tensor[:, top_assessment_args, :]\n",
    "top_assessment_P_static_tensor = P_static_tensor[top_assessment_args]\n",
    "top_assessment_P_time_tensor = P_time_tensor[:, top_assessment_args]\n",
    "top_assessment_y_tensor = y_tensor[top_assessment_args]\n",
    "\n",
    "top_assessment_con = Concept(id=50, name=\"High Assessment\", data_iter=dataset_to_dataloader(tuple([{'src': top_assessment_P_tensor.cuda(), \n",
    "                                                                    'static': top_assessment_P_static_tensor.cuda(),\n",
    "                                                                    'times': top_assessment_P_time_tensor.cuda(),\n",
    "                                                                    'lengths': torch.sum(top_assessment_P_time_tensor > 0, dim=0).cuda()\n",
    "                                                                          }])))\n",
    "\n",
    "bot_assessment_P_tensor = P_tensor[:, bot_assessment_args, :]\n",
    "bot_assessment_P_static_tensor = P_static_tensor[bot_assessment_args]\n",
    "bot_assessment_P_time_tensor = P_time_tensor[:, bot_assessment_args]\n",
    "bot_assessment_y_tensor = y_tensor[bot_assessment_args]\n",
    "\n",
    "bot_assessment_con = Concept(id=51, name=\"Low Assessment\", data_iter=dataset_to_dataloader(tuple([{'src': bot_assessment_P_tensor.cuda(), \n",
    "                                                                    'static': bot_assessment_P_static_tensor.cuda(),\n",
    "                                                                    'times': bot_assessment_P_time_tensor.cuda(),\n",
    "                                                                    'lengths': torch.sum(bot_assessment_P_time_tensor > 0, dim=0).cuda()\n",
    "                                                                          }])))\n",
    "\n",
    "#if len(top_assessment_args) > 0:\n",
    "#    for rand_concept in rand_concepts:\n",
    "#        experimental_sets.append([top_assessment_con, rand_concept])\n",
    "#if len(bot_assessment_args) > 0:\n",
    "#    for rand_concept in rand_concepts:\n",
    "#        experimental_sets.append([bot_assessment_con, rand_concept])    \n",
    "if len(top_assessment_args) > 0:\n",
    "    for rand_concept in rand_concepts:\n",
    "        experimental_sets.append([top_assessment_con, bot_assessment_con, rand_concept])\n",
    "\n",
    "\n",
    "print(len(top_assessment_args))\n",
    "print(len(bot_assessment_args))"
   ]
  },
  {
   "cell_type": "code",
   "execution_count": 27,
   "id": "ef6d666c",
   "metadata": {},
   "outputs": [
    {
     "name": "stdout",
     "output_type": "stream",
     "text": [
      "5.0\n"
     ]
    }
   ],
   "source": [
    "num_result_concepts = len(experimental_sets)/num_rands\n",
    "print(num_result_concepts)"
   ]
  },
  {
   "cell_type": "code",
   "execution_count": 28,
   "id": "f682ae8c",
   "metadata": {},
   "outputs": [],
   "source": [
    "from sklearn.preprocessing import normalize"
   ]
  },
  {
   "cell_type": "code",
   "execution_count": null,
   "id": "da1b7eb3",
   "metadata": {},
   "outputs": [],
   "source": []
  },
  {
   "cell_type": "code",
   "execution_count": 29,
   "id": "a0bb698e",
   "metadata": {},
   "outputs": [],
   "source": [
    "needed_features = features_df[['user_id', 'label-pass-fail', 'time_sessions sum', 'total_clicks_video', \n",
    "                               'relative_time_online', 'relative_video_clicks', 'time_sessions mean',\n",
    "                              'regularity_periodicity_m1', 'regularity_periodicity_m2', 'regularity_periodicity_m3',\n",
    "                              #'content_anticipation', 'delay_lecture',\n",
    "                              'competency_strength', 'student_shape']]"
   ]
  },
  {
   "cell_type": "code",
   "execution_count": 30,
   "id": "403d173a",
   "metadata": {},
   "outputs": [
    {
     "name": "stderr",
     "output_type": "stream",
     "text": [
      "/tmp/ipykernel_1298198/2620598013.py:1: SettingWithCopyWarning: \n",
      "A value is trying to be set on a copy of a slice from a DataFrame.\n",
      "Try using .loc[row_indexer,col_indexer] = value instead\n",
      "\n",
      "See the caveats in the documentation: https://pandas.pydata.org/pandas-docs/stable/user_guide/indexing.html#returning-a-view-versus-a-copy\n",
      "  needed_features.loc[:, 'time_sessions sum'] = normalize(np.array(needed_features['time_sessions sum'].apply(sum)).reshape(1, -1)).ravel()\n",
      "/tmp/ipykernel_1298198/2620598013.py:2: SettingWithCopyWarning: \n",
      "A value is trying to be set on a copy of a slice from a DataFrame.\n",
      "Try using .loc[row_indexer,col_indexer] = value instead\n",
      "\n",
      "See the caveats in the documentation: https://pandas.pydata.org/pandas-docs/stable/user_guide/indexing.html#returning-a-view-versus-a-copy\n",
      "  needed_features.loc[:, 'total_clicks_video'] = normalize(np.array(needed_features['total_clicks_video'].apply(sum)).reshape(1, -1)).ravel()\n",
      "/tmp/ipykernel_1298198/2620598013.py:4: SettingWithCopyWarning: \n",
      "A value is trying to be set on a copy of a slice from a DataFrame.\n",
      "Try using .loc[row_indexer,col_indexer] = value instead\n",
      "\n",
      "See the caveats in the documentation: https://pandas.pydata.org/pandas-docs/stable/user_guide/indexing.html#returning-a-view-versus-a-copy\n",
      "  needed_features.loc[:, 'relative_time_online'] = normalize(np.array(needed_features['relative_time_online'].apply(sum)).reshape(1, -1)).ravel()\n",
      "/tmp/ipykernel_1298198/2620598013.py:5: SettingWithCopyWarning: \n",
      "A value is trying to be set on a copy of a slice from a DataFrame.\n",
      "Try using .loc[row_indexer,col_indexer] = value instead\n",
      "\n",
      "See the caveats in the documentation: https://pandas.pydata.org/pandas-docs/stable/user_guide/indexing.html#returning-a-view-versus-a-copy\n",
      "  needed_features.loc[:, 'relative_video_clicks'] = normalize(np.array(needed_features['relative_video_clicks'].apply(sum)).reshape(1, -1)).ravel()\n",
      "/tmp/ipykernel_1298198/2620598013.py:6: SettingWithCopyWarning: \n",
      "A value is trying to be set on a copy of a slice from a DataFrame.\n",
      "Try using .loc[row_indexer,col_indexer] = value instead\n",
      "\n",
      "See the caveats in the documentation: https://pandas.pydata.org/pandas-docs/stable/user_guide/indexing.html#returning-a-view-versus-a-copy\n",
      "  needed_features.loc[:, 'time_sessions mean'] = normalize(np.array(needed_features['time_sessions mean'].apply(sum)).reshape(1, -1)).ravel()\n",
      "/tmp/ipykernel_1298198/2620598013.py:8: SettingWithCopyWarning: \n",
      "A value is trying to be set on a copy of a slice from a DataFrame.\n",
      "Try using .loc[row_indexer,col_indexer] = value instead\n",
      "\n",
      "See the caveats in the documentation: https://pandas.pydata.org/pandas-docs/stable/user_guide/indexing.html#returning-a-view-versus-a-copy\n",
      "  needed_features.loc[:, 'regularity_periodicity_m1'] = normalize(np.array(needed_features['regularity_periodicity_m1']).reshape(1, -1)).ravel()\n",
      "/tmp/ipykernel_1298198/2620598013.py:9: SettingWithCopyWarning: \n",
      "A value is trying to be set on a copy of a slice from a DataFrame.\n",
      "Try using .loc[row_indexer,col_indexer] = value instead\n",
      "\n",
      "See the caveats in the documentation: https://pandas.pydata.org/pandas-docs/stable/user_guide/indexing.html#returning-a-view-versus-a-copy\n",
      "  needed_features.loc[:, 'regularity_periodicity_m2'] = normalize(np.array(needed_features['regularity_periodicity_m2']).reshape(1, -1)).ravel()\n",
      "/tmp/ipykernel_1298198/2620598013.py:10: SettingWithCopyWarning: \n",
      "A value is trying to be set on a copy of a slice from a DataFrame.\n",
      "Try using .loc[row_indexer,col_indexer] = value instead\n",
      "\n",
      "See the caveats in the documentation: https://pandas.pydata.org/pandas-docs/stable/user_guide/indexing.html#returning-a-view-versus-a-copy\n",
      "  needed_features.loc[:, 'regularity_periodicity_m3'] = normalize(np.array(needed_features['regularity_periodicity_m3']).reshape(1, -1)).ravel()\n",
      "/tmp/ipykernel_1298198/2620598013.py:15: SettingWithCopyWarning: \n",
      "A value is trying to be set on a copy of a slice from a DataFrame.\n",
      "Try using .loc[row_indexer,col_indexer] = value instead\n",
      "\n",
      "See the caveats in the documentation: https://pandas.pydata.org/pandas-docs/stable/user_guide/indexing.html#returning-a-view-versus-a-copy\n",
      "  needed_features.loc[:, 'competency_strength'] = normalize(np.array(needed_features['competency_strength'].apply(sum)).reshape(1, -1)).ravel()\n",
      "/tmp/ipykernel_1298198/2620598013.py:16: SettingWithCopyWarning: \n",
      "A value is trying to be set on a copy of a slice from a DataFrame.\n",
      "Try using .loc[row_indexer,col_indexer] = value instead\n",
      "\n",
      "See the caveats in the documentation: https://pandas.pydata.org/pandas-docs/stable/user_guide/indexing.html#returning-a-view-versus-a-copy\n",
      "  needed_features.loc[:, 'student_shape'] = normalize(np.array(needed_features['student_shape'].apply(lambda x: -sum(x))).reshape(1, -1)).ravel()\n"
     ]
    }
   ],
   "source": [
    "\n",
    "needed_features.loc[:, 'time_sessions sum'] = normalize(np.array(needed_features['time_sessions sum'].apply(sum)).reshape(1, -1)).ravel()\n",
    "needed_features.loc[:, 'total_clicks_video'] = normalize(np.array(needed_features['total_clicks_video'].apply(sum)).reshape(1, -1)).ravel()\n",
    "\n",
    "needed_features.loc[:, 'relative_time_online'] = normalize(np.array(needed_features['relative_time_online'].apply(sum)).reshape(1, -1)).ravel()\n",
    "needed_features.loc[:, 'relative_video_clicks'] = normalize(np.array(needed_features['relative_video_clicks'].apply(sum)).reshape(1, -1)).ravel()\n",
    "needed_features.loc[:, 'time_sessions mean'] = normalize(np.array(needed_features['time_sessions mean'].apply(sum)).reshape(1, -1)).ravel()\n",
    "\n",
    "needed_features.loc[:, 'regularity_periodicity_m1'] = normalize(np.array(needed_features['regularity_periodicity_m1']).reshape(1, -1)).ravel()\n",
    "needed_features.loc[:, 'regularity_periodicity_m2'] = normalize(np.array(needed_features['regularity_periodicity_m2']).reshape(1, -1)).ravel()\n",
    "needed_features.loc[:, 'regularity_periodicity_m3'] = normalize(np.array(needed_features['regularity_periodicity_m3']).reshape(1, -1)).ravel()\n",
    "\n",
    "#needed_features.loc[:, 'content_anticipation'] = normalize(np.array(needed_features['content_anticipation'].apply(sum)).reshape(1, -1)).ravel()\n",
    "#needed_features.loc[:, 'delay_lecture'] = normalize(np.array(needed_features['delay_lecture'].apply(lambda x: -sum(x))).reshape(1, -1)).ravel()\n",
    "\n",
    "needed_features.loc[:, 'competency_strength'] = normalize(np.array(needed_features['competency_strength'].apply(sum)).reshape(1, -1)).ravel()\n",
    "needed_features.loc[:, 'student_shape'] = normalize(np.array(needed_features['student_shape'].apply(lambda x: -sum(x))).reshape(1, -1)).ravel()\n",
    "\n",
    "\n"
   ]
  },
  {
   "cell_type": "code",
   "execution_count": 31,
   "id": "d339d8dc",
   "metadata": {},
   "outputs": [
    {
     "data": {
      "text/html": [
       "<div>\n",
       "<style scoped>\n",
       "    .dataframe tbody tr th:only-of-type {\n",
       "        vertical-align: middle;\n",
       "    }\n",
       "\n",
       "    .dataframe tbody tr th {\n",
       "        vertical-align: top;\n",
       "    }\n",
       "\n",
       "    .dataframe thead th {\n",
       "        text-align: right;\n",
       "    }\n",
       "</style>\n",
       "<table border=\"1\" class=\"dataframe\">\n",
       "  <thead>\n",
       "    <tr style=\"text-align: right;\">\n",
       "      <th></th>\n",
       "      <th>user_id</th>\n",
       "      <th>label-pass-fail</th>\n",
       "      <th>time_sessions sum</th>\n",
       "      <th>total_clicks_video</th>\n",
       "      <th>relative_time_online</th>\n",
       "      <th>relative_video_clicks</th>\n",
       "      <th>time_sessions mean</th>\n",
       "      <th>regularity_periodicity_m1</th>\n",
       "      <th>regularity_periodicity_m2</th>\n",
       "      <th>regularity_periodicity_m3</th>\n",
       "      <th>competency_strength</th>\n",
       "      <th>student_shape</th>\n",
       "    </tr>\n",
       "  </thead>\n",
       "  <tbody>\n",
       "    <tr>\n",
       "      <th>0</th>\n",
       "      <td>2632293</td>\n",
       "      <td>0.0</td>\n",
       "      <td>0.034906</td>\n",
       "      <td>0.029024</td>\n",
       "      <td>0.01533</td>\n",
       "      <td>0.014793</td>\n",
       "      <td>0.036409</td>\n",
       "      <td>0.022404</td>\n",
       "      <td>0.027935</td>\n",
       "      <td>0.011844</td>\n",
       "      <td>0.013539</td>\n",
       "      <td>-0.000000</td>\n",
       "    </tr>\n",
       "    <tr>\n",
       "      <th>1</th>\n",
       "      <td>1819463</td>\n",
       "      <td>0.0</td>\n",
       "      <td>0.033244</td>\n",
       "      <td>0.027558</td>\n",
       "      <td>0.01533</td>\n",
       "      <td>0.014793</td>\n",
       "      <td>0.023724</td>\n",
       "      <td>0.021635</td>\n",
       "      <td>0.036598</td>\n",
       "      <td>0.033409</td>\n",
       "      <td>0.028986</td>\n",
       "      <td>-0.058495</td>\n",
       "    </tr>\n",
       "    <tr>\n",
       "      <th>2</th>\n",
       "      <td>460152</td>\n",
       "      <td>0.0</td>\n",
       "      <td>0.006044</td>\n",
       "      <td>0.000880</td>\n",
       "      <td>0.01533</td>\n",
       "      <td>0.014793</td>\n",
       "      <td>0.011269</td>\n",
       "      <td>0.002858</td>\n",
       "      <td>0.013367</td>\n",
       "      <td>0.017872</td>\n",
       "      <td>0.036402</td>\n",
       "      <td>-0.000000</td>\n",
       "    </tr>\n",
       "    <tr>\n",
       "      <th>3</th>\n",
       "      <td>2606388</td>\n",
       "      <td>0.0</td>\n",
       "      <td>0.025096</td>\n",
       "      <td>0.025506</td>\n",
       "      <td>0.01533</td>\n",
       "      <td>0.014793</td>\n",
       "      <td>0.016200</td>\n",
       "      <td>0.022593</td>\n",
       "      <td>0.013263</td>\n",
       "      <td>0.014289</td>\n",
       "      <td>0.031627</td>\n",
       "      <td>-0.000000</td>\n",
       "    </tr>\n",
       "    <tr>\n",
       "      <th>4</th>\n",
       "      <td>1343935</td>\n",
       "      <td>1.0</td>\n",
       "      <td>0.003218</td>\n",
       "      <td>0.005570</td>\n",
       "      <td>0.01533</td>\n",
       "      <td>0.014793</td>\n",
       "      <td>0.006899</td>\n",
       "      <td>0.004597</td>\n",
       "      <td>0.007982</td>\n",
       "      <td>0.020980</td>\n",
       "      <td>0.003272</td>\n",
       "      <td>-0.000000</td>\n",
       "    </tr>\n",
       "    <tr>\n",
       "      <th>...</th>\n",
       "      <td>...</td>\n",
       "      <td>...</td>\n",
       "      <td>...</td>\n",
       "      <td>...</td>\n",
       "      <td>...</td>\n",
       "      <td>...</td>\n",
       "      <td>...</td>\n",
       "      <td>...</td>\n",
       "      <td>...</td>\n",
       "      <td>...</td>\n",
       "      <td>...</td>\n",
       "      <td>...</td>\n",
       "    </tr>\n",
       "    <tr>\n",
       "      <th>4981</th>\n",
       "      <td>2894520</td>\n",
       "      <td>1.0</td>\n",
       "      <td>0.000000</td>\n",
       "      <td>0.000000</td>\n",
       "      <td>0.00000</td>\n",
       "      <td>0.000000</td>\n",
       "      <td>0.000000</td>\n",
       "      <td>0.000857</td>\n",
       "      <td>0.001214</td>\n",
       "      <td>0.003451</td>\n",
       "      <td>0.000000</td>\n",
       "      <td>-0.000000</td>\n",
       "    </tr>\n",
       "    <tr>\n",
       "      <th>4982</th>\n",
       "      <td>932224</td>\n",
       "      <td>1.0</td>\n",
       "      <td>0.000000</td>\n",
       "      <td>0.000000</td>\n",
       "      <td>0.00000</td>\n",
       "      <td>0.000000</td>\n",
       "      <td>0.000000</td>\n",
       "      <td>0.000857</td>\n",
       "      <td>0.001214</td>\n",
       "      <td>0.003451</td>\n",
       "      <td>0.000000</td>\n",
       "      <td>-0.000000</td>\n",
       "    </tr>\n",
       "    <tr>\n",
       "      <th>4983</th>\n",
       "      <td>2639566</td>\n",
       "      <td>1.0</td>\n",
       "      <td>0.000000</td>\n",
       "      <td>0.000000</td>\n",
       "      <td>0.00000</td>\n",
       "      <td>0.000000</td>\n",
       "      <td>0.000000</td>\n",
       "      <td>0.000857</td>\n",
       "      <td>0.001214</td>\n",
       "      <td>0.003451</td>\n",
       "      <td>0.000000</td>\n",
       "      <td>-0.000000</td>\n",
       "    </tr>\n",
       "    <tr>\n",
       "      <th>4984</th>\n",
       "      <td>123904</td>\n",
       "      <td>1.0</td>\n",
       "      <td>0.000000</td>\n",
       "      <td>0.000000</td>\n",
       "      <td>0.00000</td>\n",
       "      <td>0.000000</td>\n",
       "      <td>0.000000</td>\n",
       "      <td>0.000857</td>\n",
       "      <td>0.001214</td>\n",
       "      <td>0.003451</td>\n",
       "      <td>0.000000</td>\n",
       "      <td>-0.000000</td>\n",
       "    </tr>\n",
       "    <tr>\n",
       "      <th>4985</th>\n",
       "      <td>3041574</td>\n",
       "      <td>1.0</td>\n",
       "      <td>0.008792</td>\n",
       "      <td>0.000000</td>\n",
       "      <td>0.01533</td>\n",
       "      <td>0.000000</td>\n",
       "      <td>0.009425</td>\n",
       "      <td>0.006512</td>\n",
       "      <td>0.008806</td>\n",
       "      <td>0.009447</td>\n",
       "      <td>0.000654</td>\n",
       "      <td>-0.000000</td>\n",
       "    </tr>\n",
       "  </tbody>\n",
       "</table>\n",
       "<p>4986 rows × 12 columns</p>\n",
       "</div>"
      ],
      "text/plain": [
       "      user_id  label-pass-fail  time_sessions sum  total_clicks_video  \\\n",
       "0     2632293              0.0           0.034906            0.029024   \n",
       "1     1819463              0.0           0.033244            0.027558   \n",
       "2      460152              0.0           0.006044            0.000880   \n",
       "3     2606388              0.0           0.025096            0.025506   \n",
       "4     1343935              1.0           0.003218            0.005570   \n",
       "...       ...              ...                ...                 ...   \n",
       "4981  2894520              1.0           0.000000            0.000000   \n",
       "4982   932224              1.0           0.000000            0.000000   \n",
       "4983  2639566              1.0           0.000000            0.000000   \n",
       "4984   123904              1.0           0.000000            0.000000   \n",
       "4985  3041574              1.0           0.008792            0.000000   \n",
       "\n",
       "      relative_time_online  relative_video_clicks  time_sessions mean  \\\n",
       "0                  0.01533               0.014793            0.036409   \n",
       "1                  0.01533               0.014793            0.023724   \n",
       "2                  0.01533               0.014793            0.011269   \n",
       "3                  0.01533               0.014793            0.016200   \n",
       "4                  0.01533               0.014793            0.006899   \n",
       "...                    ...                    ...                 ...   \n",
       "4981               0.00000               0.000000            0.000000   \n",
       "4982               0.00000               0.000000            0.000000   \n",
       "4983               0.00000               0.000000            0.000000   \n",
       "4984               0.00000               0.000000            0.000000   \n",
       "4985               0.01533               0.000000            0.009425   \n",
       "\n",
       "      regularity_periodicity_m1  regularity_periodicity_m2  \\\n",
       "0                      0.022404                   0.027935   \n",
       "1                      0.021635                   0.036598   \n",
       "2                      0.002858                   0.013367   \n",
       "3                      0.022593                   0.013263   \n",
       "4                      0.004597                   0.007982   \n",
       "...                         ...                        ...   \n",
       "4981                   0.000857                   0.001214   \n",
       "4982                   0.000857                   0.001214   \n",
       "4983                   0.000857                   0.001214   \n",
       "4984                   0.000857                   0.001214   \n",
       "4985                   0.006512                   0.008806   \n",
       "\n",
       "      regularity_periodicity_m3  competency_strength  student_shape  \n",
       "0                      0.011844             0.013539      -0.000000  \n",
       "1                      0.033409             0.028986      -0.058495  \n",
       "2                      0.017872             0.036402      -0.000000  \n",
       "3                      0.014289             0.031627      -0.000000  \n",
       "4                      0.020980             0.003272      -0.000000  \n",
       "...                         ...                  ...            ...  \n",
       "4981                   0.003451             0.000000      -0.000000  \n",
       "4982                   0.003451             0.000000      -0.000000  \n",
       "4983                   0.003451             0.000000      -0.000000  \n",
       "4984                   0.003451             0.000000      -0.000000  \n",
       "4985                   0.009447             0.000654      -0.000000  \n",
       "\n",
       "[4986 rows x 12 columns]"
      ]
     },
     "execution_count": 31,
     "metadata": {},
     "output_type": "execute_result"
    }
   ],
   "source": [
    "needed_features"
   ]
  },
  {
   "cell_type": "code",
   "execution_count": 32,
   "id": "80f043e8",
   "metadata": {},
   "outputs": [],
   "source": [
    "final_scores = []\n",
    "for r in range(needed_features.shape[0]):\n",
    "    final_scores.append(np.mean(needed_features.iloc[r, 2:]))"
   ]
  },
  {
   "cell_type": "code",
   "execution_count": null,
   "id": "fbc8c250",
   "metadata": {},
   "outputs": [],
   "source": []
  },
  {
   "cell_type": "code",
   "execution_count": 33,
   "id": "8b2abcfe",
   "metadata": {},
   "outputs": [
    {
     "data": {
      "text/plain": [
       "4205"
      ]
     },
     "execution_count": 33,
     "metadata": {},
     "output_type": "execute_result"
    }
   ],
   "source": [
    "np.argmax(final_scores)"
   ]
  },
  {
   "cell_type": "code",
   "execution_count": 34,
   "id": "c5a58a55",
   "metadata": {},
   "outputs": [
    {
     "data": {
      "text/plain": [
       "user_id                                                                 101589\n",
       "label-pass-fail                                                            0.0\n",
       "competency_strength          [0.0, 0.0, 0.47321250000000004, 0.066666666666...\n",
       "competency_alignment         [0.0, 0.0, 0.0, 0.1, 0.0, 0.0, 1.0, 0.0, 0.0, ...\n",
       "competency_anticipation      [0.0, 0.0, 0.0, 0.09090909090909091, 0.0, 0.0,...\n",
       "                                                   ...                        \n",
       "speed_playback_ mean         [0.0, 0.0, 1.0, 1.0, 1.0, 1.0, 1.0, 1.0, 1.0, ...\n",
       "relative_time_online         [0.0, 0.0, 0.12520204925892442, 0.247226103394...\n",
       "relative_video_clicks        [0.0, 0.0, 0.060849598163030996, 0.06314580941...\n",
       "regularity_periodicity_m2                                             4.309426\n",
       "regularity_periodicity_m3                                             0.198062\n",
       "Name: 4205, Length: 63, dtype: object"
      ]
     },
     "execution_count": 34,
     "metadata": {},
     "output_type": "execute_result"
    }
   ],
   "source": [
    "features_df.loc[4205]"
   ]
  },
  {
   "cell_type": "code",
   "execution_count": 97,
   "id": "64fe7422",
   "metadata": {},
   "outputs": [],
   "source": [
    "sorted_needed_features = needed_features.loc[np.argsort(final_scores)]"
   ]
  },
  {
   "cell_type": "code",
   "execution_count": 163,
   "id": "8fbc57d1",
   "metadata": {},
   "outputs": [
    {
     "data": {
      "text/html": [
       "<div>\n",
       "<style scoped>\n",
       "    .dataframe tbody tr th:only-of-type {\n",
       "        vertical-align: middle;\n",
       "    }\n",
       "\n",
       "    .dataframe tbody tr th {\n",
       "        vertical-align: top;\n",
       "    }\n",
       "\n",
       "    .dataframe thead th {\n",
       "        text-align: right;\n",
       "    }\n",
       "</style>\n",
       "<table border=\"1\" class=\"dataframe\">\n",
       "  <thead>\n",
       "    <tr style=\"text-align: right;\">\n",
       "      <th></th>\n",
       "      <th>user_id</th>\n",
       "      <th>label-pass-fail</th>\n",
       "      <th>time_sessions sum</th>\n",
       "      <th>total_clicks_video</th>\n",
       "      <th>relative_time_online</th>\n",
       "      <th>relative_video_clicks</th>\n",
       "      <th>time_sessions mean</th>\n",
       "      <th>regularity_periodicity_m1</th>\n",
       "      <th>regularity_periodicity_m2</th>\n",
       "      <th>regularity_periodicity_m3</th>\n",
       "      <th>competency_strength</th>\n",
       "      <th>student_shape</th>\n",
       "    </tr>\n",
       "  </thead>\n",
       "  <tbody>\n",
       "    <tr>\n",
       "      <th>4896</th>\n",
       "      <td>1641844</td>\n",
       "      <td>1.0</td>\n",
       "      <td>0.000000</td>\n",
       "      <td>0.000000</td>\n",
       "      <td>0.00000</td>\n",
       "      <td>0.000000</td>\n",
       "      <td>0.000000</td>\n",
       "      <td>0.000914</td>\n",
       "      <td>0.002910</td>\n",
       "      <td>0.006996</td>\n",
       "      <td>0.013087</td>\n",
       "      <td>-0.058495</td>\n",
       "    </tr>\n",
       "    <tr>\n",
       "      <th>4614</th>\n",
       "      <td>1027935</td>\n",
       "      <td>1.0</td>\n",
       "      <td>0.000000</td>\n",
       "      <td>0.000000</td>\n",
       "      <td>0.00000</td>\n",
       "      <td>0.000000</td>\n",
       "      <td>0.000000</td>\n",
       "      <td>0.001917</td>\n",
       "      <td>0.001040</td>\n",
       "      <td>0.004880</td>\n",
       "      <td>0.016686</td>\n",
       "      <td>-0.058495</td>\n",
       "    </tr>\n",
       "    <tr>\n",
       "      <th>1890</th>\n",
       "      <td>1138688</td>\n",
       "      <td>1.0</td>\n",
       "      <td>0.001070</td>\n",
       "      <td>0.001759</td>\n",
       "      <td>0.01533</td>\n",
       "      <td>0.014793</td>\n",
       "      <td>0.002295</td>\n",
       "      <td>0.000922</td>\n",
       "      <td>0.001593</td>\n",
       "      <td>0.001915</td>\n",
       "      <td>0.013087</td>\n",
       "      <td>-0.058495</td>\n",
       "    </tr>\n",
       "    <tr>\n",
       "      <th>1257</th>\n",
       "      <td>55072</td>\n",
       "      <td>1.0</td>\n",
       "      <td>0.000189</td>\n",
       "      <td>0.002932</td>\n",
       "      <td>0.01533</td>\n",
       "      <td>0.014793</td>\n",
       "      <td>0.000406</td>\n",
       "      <td>0.002513</td>\n",
       "      <td>0.003641</td>\n",
       "      <td>0.003451</td>\n",
       "      <td>0.013087</td>\n",
       "      <td>-0.058495</td>\n",
       "    </tr>\n",
       "    <tr>\n",
       "      <th>4741</th>\n",
       "      <td>550046</td>\n",
       "      <td>1.0</td>\n",
       "      <td>0.000000</td>\n",
       "      <td>0.000000</td>\n",
       "      <td>0.00000</td>\n",
       "      <td>0.000000</td>\n",
       "      <td>0.000000</td>\n",
       "      <td>0.000224</td>\n",
       "      <td>0.001094</td>\n",
       "      <td>0.001536</td>\n",
       "      <td>0.000000</td>\n",
       "      <td>-0.000000</td>\n",
       "    </tr>\n",
       "    <tr>\n",
       "      <th>4795</th>\n",
       "      <td>184010</td>\n",
       "      <td>1.0</td>\n",
       "      <td>0.000000</td>\n",
       "      <td>0.000000</td>\n",
       "      <td>0.00000</td>\n",
       "      <td>0.000000</td>\n",
       "      <td>0.000000</td>\n",
       "      <td>0.001212</td>\n",
       "      <td>0.000272</td>\n",
       "      <td>0.001536</td>\n",
       "      <td>0.000000</td>\n",
       "      <td>-0.000000</td>\n",
       "    </tr>\n",
       "    <tr>\n",
       "      <th>4791</th>\n",
       "      <td>567287</td>\n",
       "      <td>1.0</td>\n",
       "      <td>0.000000</td>\n",
       "      <td>0.000000</td>\n",
       "      <td>0.00000</td>\n",
       "      <td>0.000000</td>\n",
       "      <td>0.000000</td>\n",
       "      <td>0.001360</td>\n",
       "      <td>0.000759</td>\n",
       "      <td>0.001536</td>\n",
       "      <td>0.000000</td>\n",
       "      <td>-0.000000</td>\n",
       "    </tr>\n",
       "    <tr>\n",
       "      <th>4573</th>\n",
       "      <td>2198341</td>\n",
       "      <td>1.0</td>\n",
       "      <td>0.000000</td>\n",
       "      <td>0.000000</td>\n",
       "      <td>0.00000</td>\n",
       "      <td>0.000000</td>\n",
       "      <td>0.000000</td>\n",
       "      <td>0.001485</td>\n",
       "      <td>0.000716</td>\n",
       "      <td>0.001536</td>\n",
       "      <td>0.000000</td>\n",
       "      <td>-0.000000</td>\n",
       "    </tr>\n",
       "    <tr>\n",
       "      <th>4809</th>\n",
       "      <td>2663458</td>\n",
       "      <td>1.0</td>\n",
       "      <td>0.000000</td>\n",
       "      <td>0.000000</td>\n",
       "      <td>0.00000</td>\n",
       "      <td>0.000000</td>\n",
       "      <td>0.000000</td>\n",
       "      <td>0.000540</td>\n",
       "      <td>0.001466</td>\n",
       "      <td>0.001915</td>\n",
       "      <td>0.000000</td>\n",
       "      <td>-0.000000</td>\n",
       "    </tr>\n",
       "    <tr>\n",
       "      <th>4685</th>\n",
       "      <td>2132951</td>\n",
       "      <td>1.0</td>\n",
       "      <td>0.000000</td>\n",
       "      <td>0.000000</td>\n",
       "      <td>0.00000</td>\n",
       "      <td>0.000000</td>\n",
       "      <td>0.000000</td>\n",
       "      <td>0.000857</td>\n",
       "      <td>0.001214</td>\n",
       "      <td>0.002767</td>\n",
       "      <td>0.000000</td>\n",
       "      <td>-0.000000</td>\n",
       "    </tr>\n",
       "    <tr>\n",
       "      <th>4906</th>\n",
       "      <td>2714718</td>\n",
       "      <td>1.0</td>\n",
       "      <td>0.000000</td>\n",
       "      <td>0.000000</td>\n",
       "      <td>0.00000</td>\n",
       "      <td>0.000000</td>\n",
       "      <td>0.000000</td>\n",
       "      <td>0.000857</td>\n",
       "      <td>0.001214</td>\n",
       "      <td>0.003451</td>\n",
       "      <td>0.000000</td>\n",
       "      <td>-0.000000</td>\n",
       "    </tr>\n",
       "    <tr>\n",
       "      <th>4839</th>\n",
       "      <td>2304468</td>\n",
       "      <td>1.0</td>\n",
       "      <td>0.000000</td>\n",
       "      <td>0.000000</td>\n",
       "      <td>0.00000</td>\n",
       "      <td>0.000000</td>\n",
       "      <td>0.000000</td>\n",
       "      <td>0.000857</td>\n",
       "      <td>0.001214</td>\n",
       "      <td>0.003451</td>\n",
       "      <td>0.000000</td>\n",
       "      <td>-0.000000</td>\n",
       "    </tr>\n",
       "    <tr>\n",
       "      <th>4842</th>\n",
       "      <td>2781920</td>\n",
       "      <td>1.0</td>\n",
       "      <td>0.000000</td>\n",
       "      <td>0.000000</td>\n",
       "      <td>0.00000</td>\n",
       "      <td>0.000000</td>\n",
       "      <td>0.000000</td>\n",
       "      <td>0.000857</td>\n",
       "      <td>0.001214</td>\n",
       "      <td>0.003451</td>\n",
       "      <td>0.000000</td>\n",
       "      <td>-0.000000</td>\n",
       "    </tr>\n",
       "    <tr>\n",
       "      <th>4844</th>\n",
       "      <td>2119172</td>\n",
       "      <td>1.0</td>\n",
       "      <td>0.000000</td>\n",
       "      <td>0.000000</td>\n",
       "      <td>0.00000</td>\n",
       "      <td>0.000000</td>\n",
       "      <td>0.000000</td>\n",
       "      <td>0.000857</td>\n",
       "      <td>0.001214</td>\n",
       "      <td>0.003451</td>\n",
       "      <td>0.000000</td>\n",
       "      <td>-0.000000</td>\n",
       "    </tr>\n",
       "    <tr>\n",
       "      <th>4846</th>\n",
       "      <td>2525320</td>\n",
       "      <td>1.0</td>\n",
       "      <td>0.000000</td>\n",
       "      <td>0.000000</td>\n",
       "      <td>0.00000</td>\n",
       "      <td>0.000000</td>\n",
       "      <td>0.000000</td>\n",
       "      <td>0.000857</td>\n",
       "      <td>0.001214</td>\n",
       "      <td>0.003451</td>\n",
       "      <td>0.000000</td>\n",
       "      <td>-0.000000</td>\n",
       "    </tr>\n",
       "    <tr>\n",
       "      <th>4847</th>\n",
       "      <td>2255123</td>\n",
       "      <td>1.0</td>\n",
       "      <td>0.000000</td>\n",
       "      <td>0.000000</td>\n",
       "      <td>0.00000</td>\n",
       "      <td>0.000000</td>\n",
       "      <td>0.000000</td>\n",
       "      <td>0.000857</td>\n",
       "      <td>0.001214</td>\n",
       "      <td>0.003451</td>\n",
       "      <td>0.000000</td>\n",
       "      <td>-0.000000</td>\n",
       "    </tr>\n",
       "    <tr>\n",
       "      <th>4848</th>\n",
       "      <td>109087</td>\n",
       "      <td>1.0</td>\n",
       "      <td>0.000000</td>\n",
       "      <td>0.000000</td>\n",
       "      <td>0.00000</td>\n",
       "      <td>0.000000</td>\n",
       "      <td>0.000000</td>\n",
       "      <td>0.000857</td>\n",
       "      <td>0.001214</td>\n",
       "      <td>0.003451</td>\n",
       "      <td>0.000000</td>\n",
       "      <td>-0.000000</td>\n",
       "    </tr>\n",
       "    <tr>\n",
       "      <th>4854</th>\n",
       "      <td>516539</td>\n",
       "      <td>1.0</td>\n",
       "      <td>0.000000</td>\n",
       "      <td>0.000000</td>\n",
       "      <td>0.00000</td>\n",
       "      <td>0.000000</td>\n",
       "      <td>0.000000</td>\n",
       "      <td>0.000857</td>\n",
       "      <td>0.001214</td>\n",
       "      <td>0.003451</td>\n",
       "      <td>0.000000</td>\n",
       "      <td>-0.000000</td>\n",
       "    </tr>\n",
       "    <tr>\n",
       "      <th>4928</th>\n",
       "      <td>105111</td>\n",
       "      <td>1.0</td>\n",
       "      <td>0.000000</td>\n",
       "      <td>0.000000</td>\n",
       "      <td>0.00000</td>\n",
       "      <td>0.000000</td>\n",
       "      <td>0.000000</td>\n",
       "      <td>0.000857</td>\n",
       "      <td>0.001214</td>\n",
       "      <td>0.003451</td>\n",
       "      <td>0.000000</td>\n",
       "      <td>-0.000000</td>\n",
       "    </tr>\n",
       "    <tr>\n",
       "      <th>4927</th>\n",
       "      <td>85247</td>\n",
       "      <td>1.0</td>\n",
       "      <td>0.000000</td>\n",
       "      <td>0.000000</td>\n",
       "      <td>0.00000</td>\n",
       "      <td>0.000000</td>\n",
       "      <td>0.000000</td>\n",
       "      <td>0.000857</td>\n",
       "      <td>0.001214</td>\n",
       "      <td>0.003451</td>\n",
       "      <td>0.000000</td>\n",
       "      <td>-0.000000</td>\n",
       "    </tr>\n",
       "    <tr>\n",
       "      <th>4865</th>\n",
       "      <td>2694985</td>\n",
       "      <td>1.0</td>\n",
       "      <td>0.000000</td>\n",
       "      <td>0.000000</td>\n",
       "      <td>0.00000</td>\n",
       "      <td>0.000000</td>\n",
       "      <td>0.000000</td>\n",
       "      <td>0.000857</td>\n",
       "      <td>0.001214</td>\n",
       "      <td>0.003451</td>\n",
       "      <td>0.000000</td>\n",
       "      <td>-0.000000</td>\n",
       "    </tr>\n",
       "    <tr>\n",
       "      <th>4869</th>\n",
       "      <td>2765250</td>\n",
       "      <td>1.0</td>\n",
       "      <td>0.000000</td>\n",
       "      <td>0.000000</td>\n",
       "      <td>0.00000</td>\n",
       "      <td>0.000000</td>\n",
       "      <td>0.000000</td>\n",
       "      <td>0.000857</td>\n",
       "      <td>0.001214</td>\n",
       "      <td>0.003451</td>\n",
       "      <td>0.000000</td>\n",
       "      <td>-0.000000</td>\n",
       "    </tr>\n",
       "    <tr>\n",
       "      <th>4876</th>\n",
       "      <td>1301807</td>\n",
       "      <td>1.0</td>\n",
       "      <td>0.000000</td>\n",
       "      <td>0.000000</td>\n",
       "      <td>0.00000</td>\n",
       "      <td>0.000000</td>\n",
       "      <td>0.000000</td>\n",
       "      <td>0.000857</td>\n",
       "      <td>0.001214</td>\n",
       "      <td>0.003451</td>\n",
       "      <td>0.000000</td>\n",
       "      <td>-0.000000</td>\n",
       "    </tr>\n",
       "    <tr>\n",
       "      <th>4881</th>\n",
       "      <td>2685859</td>\n",
       "      <td>1.0</td>\n",
       "      <td>0.000000</td>\n",
       "      <td>0.000000</td>\n",
       "      <td>0.00000</td>\n",
       "      <td>0.000000</td>\n",
       "      <td>0.000000</td>\n",
       "      <td>0.000857</td>\n",
       "      <td>0.001214</td>\n",
       "      <td>0.003451</td>\n",
       "      <td>0.000000</td>\n",
       "      <td>-0.000000</td>\n",
       "    </tr>\n",
       "    <tr>\n",
       "      <th>4883</th>\n",
       "      <td>2542828</td>\n",
       "      <td>1.0</td>\n",
       "      <td>0.000000</td>\n",
       "      <td>0.000000</td>\n",
       "      <td>0.00000</td>\n",
       "      <td>0.000000</td>\n",
       "      <td>0.000000</td>\n",
       "      <td>0.000857</td>\n",
       "      <td>0.001214</td>\n",
       "      <td>0.003451</td>\n",
       "      <td>0.000000</td>\n",
       "      <td>-0.000000</td>\n",
       "    </tr>\n",
       "    <tr>\n",
       "      <th>4838</th>\n",
       "      <td>1381700</td>\n",
       "      <td>1.0</td>\n",
       "      <td>0.000000</td>\n",
       "      <td>0.000000</td>\n",
       "      <td>0.00000</td>\n",
       "      <td>0.000000</td>\n",
       "      <td>0.000000</td>\n",
       "      <td>0.000857</td>\n",
       "      <td>0.001214</td>\n",
       "      <td>0.003451</td>\n",
       "      <td>0.000000</td>\n",
       "      <td>-0.000000</td>\n",
       "    </tr>\n",
       "    <tr>\n",
       "      <th>4887</th>\n",
       "      <td>691302</td>\n",
       "      <td>1.0</td>\n",
       "      <td>0.000000</td>\n",
       "      <td>0.000000</td>\n",
       "      <td>0.00000</td>\n",
       "      <td>0.000000</td>\n",
       "      <td>0.000000</td>\n",
       "      <td>0.000857</td>\n",
       "      <td>0.001214</td>\n",
       "      <td>0.003451</td>\n",
       "      <td>0.000000</td>\n",
       "      <td>-0.000000</td>\n",
       "    </tr>\n",
       "    <tr>\n",
       "      <th>4888</th>\n",
       "      <td>1249451</td>\n",
       "      <td>1.0</td>\n",
       "      <td>0.000000</td>\n",
       "      <td>0.000000</td>\n",
       "      <td>0.00000</td>\n",
       "      <td>0.000000</td>\n",
       "      <td>0.000000</td>\n",
       "      <td>0.000857</td>\n",
       "      <td>0.001214</td>\n",
       "      <td>0.003451</td>\n",
       "      <td>0.000000</td>\n",
       "      <td>-0.000000</td>\n",
       "    </tr>\n",
       "    <tr>\n",
       "      <th>4890</th>\n",
       "      <td>175370</td>\n",
       "      <td>1.0</td>\n",
       "      <td>0.000000</td>\n",
       "      <td>0.000000</td>\n",
       "      <td>0.00000</td>\n",
       "      <td>0.000000</td>\n",
       "      <td>0.000000</td>\n",
       "      <td>0.000857</td>\n",
       "      <td>0.001214</td>\n",
       "      <td>0.003451</td>\n",
       "      <td>0.000000</td>\n",
       "      <td>-0.000000</td>\n",
       "    </tr>\n",
       "    <tr>\n",
       "      <th>4919</th>\n",
       "      <td>2506920</td>\n",
       "      <td>1.0</td>\n",
       "      <td>0.000000</td>\n",
       "      <td>0.000000</td>\n",
       "      <td>0.00000</td>\n",
       "      <td>0.000000</td>\n",
       "      <td>0.000000</td>\n",
       "      <td>0.000857</td>\n",
       "      <td>0.001214</td>\n",
       "      <td>0.003451</td>\n",
       "      <td>0.000000</td>\n",
       "      <td>-0.000000</td>\n",
       "    </tr>\n",
       "  </tbody>\n",
       "</table>\n",
       "</div>"
      ],
      "text/plain": [
       "      user_id  label-pass-fail  time_sessions sum  total_clicks_video  \\\n",
       "4896  1641844              1.0           0.000000            0.000000   \n",
       "4614  1027935              1.0           0.000000            0.000000   \n",
       "1890  1138688              1.0           0.001070            0.001759   \n",
       "1257    55072              1.0           0.000189            0.002932   \n",
       "4741   550046              1.0           0.000000            0.000000   \n",
       "4795   184010              1.0           0.000000            0.000000   \n",
       "4791   567287              1.0           0.000000            0.000000   \n",
       "4573  2198341              1.0           0.000000            0.000000   \n",
       "4809  2663458              1.0           0.000000            0.000000   \n",
       "4685  2132951              1.0           0.000000            0.000000   \n",
       "4906  2714718              1.0           0.000000            0.000000   \n",
       "4839  2304468              1.0           0.000000            0.000000   \n",
       "4842  2781920              1.0           0.000000            0.000000   \n",
       "4844  2119172              1.0           0.000000            0.000000   \n",
       "4846  2525320              1.0           0.000000            0.000000   \n",
       "4847  2255123              1.0           0.000000            0.000000   \n",
       "4848   109087              1.0           0.000000            0.000000   \n",
       "4854   516539              1.0           0.000000            0.000000   \n",
       "4928   105111              1.0           0.000000            0.000000   \n",
       "4927    85247              1.0           0.000000            0.000000   \n",
       "4865  2694985              1.0           0.000000            0.000000   \n",
       "4869  2765250              1.0           0.000000            0.000000   \n",
       "4876  1301807              1.0           0.000000            0.000000   \n",
       "4881  2685859              1.0           0.000000            0.000000   \n",
       "4883  2542828              1.0           0.000000            0.000000   \n",
       "4838  1381700              1.0           0.000000            0.000000   \n",
       "4887   691302              1.0           0.000000            0.000000   \n",
       "4888  1249451              1.0           0.000000            0.000000   \n",
       "4890   175370              1.0           0.000000            0.000000   \n",
       "4919  2506920              1.0           0.000000            0.000000   \n",
       "\n",
       "      relative_time_online  relative_video_clicks  time_sessions mean  \\\n",
       "4896               0.00000               0.000000            0.000000   \n",
       "4614               0.00000               0.000000            0.000000   \n",
       "1890               0.01533               0.014793            0.002295   \n",
       "1257               0.01533               0.014793            0.000406   \n",
       "4741               0.00000               0.000000            0.000000   \n",
       "4795               0.00000               0.000000            0.000000   \n",
       "4791               0.00000               0.000000            0.000000   \n",
       "4573               0.00000               0.000000            0.000000   \n",
       "4809               0.00000               0.000000            0.000000   \n",
       "4685               0.00000               0.000000            0.000000   \n",
       "4906               0.00000               0.000000            0.000000   \n",
       "4839               0.00000               0.000000            0.000000   \n",
       "4842               0.00000               0.000000            0.000000   \n",
       "4844               0.00000               0.000000            0.000000   \n",
       "4846               0.00000               0.000000            0.000000   \n",
       "4847               0.00000               0.000000            0.000000   \n",
       "4848               0.00000               0.000000            0.000000   \n",
       "4854               0.00000               0.000000            0.000000   \n",
       "4928               0.00000               0.000000            0.000000   \n",
       "4927               0.00000               0.000000            0.000000   \n",
       "4865               0.00000               0.000000            0.000000   \n",
       "4869               0.00000               0.000000            0.000000   \n",
       "4876               0.00000               0.000000            0.000000   \n",
       "4881               0.00000               0.000000            0.000000   \n",
       "4883               0.00000               0.000000            0.000000   \n",
       "4838               0.00000               0.000000            0.000000   \n",
       "4887               0.00000               0.000000            0.000000   \n",
       "4888               0.00000               0.000000            0.000000   \n",
       "4890               0.00000               0.000000            0.000000   \n",
       "4919               0.00000               0.000000            0.000000   \n",
       "\n",
       "      regularity_periodicity_m1  regularity_periodicity_m2  \\\n",
       "4896                   0.000914                   0.002910   \n",
       "4614                   0.001917                   0.001040   \n",
       "1890                   0.000922                   0.001593   \n",
       "1257                   0.002513                   0.003641   \n",
       "4741                   0.000224                   0.001094   \n",
       "4795                   0.001212                   0.000272   \n",
       "4791                   0.001360                   0.000759   \n",
       "4573                   0.001485                   0.000716   \n",
       "4809                   0.000540                   0.001466   \n",
       "4685                   0.000857                   0.001214   \n",
       "4906                   0.000857                   0.001214   \n",
       "4839                   0.000857                   0.001214   \n",
       "4842                   0.000857                   0.001214   \n",
       "4844                   0.000857                   0.001214   \n",
       "4846                   0.000857                   0.001214   \n",
       "4847                   0.000857                   0.001214   \n",
       "4848                   0.000857                   0.001214   \n",
       "4854                   0.000857                   0.001214   \n",
       "4928                   0.000857                   0.001214   \n",
       "4927                   0.000857                   0.001214   \n",
       "4865                   0.000857                   0.001214   \n",
       "4869                   0.000857                   0.001214   \n",
       "4876                   0.000857                   0.001214   \n",
       "4881                   0.000857                   0.001214   \n",
       "4883                   0.000857                   0.001214   \n",
       "4838                   0.000857                   0.001214   \n",
       "4887                   0.000857                   0.001214   \n",
       "4888                   0.000857                   0.001214   \n",
       "4890                   0.000857                   0.001214   \n",
       "4919                   0.000857                   0.001214   \n",
       "\n",
       "      regularity_periodicity_m3  competency_strength  student_shape  \n",
       "4896                   0.006996             0.013087      -0.058495  \n",
       "4614                   0.004880             0.016686      -0.058495  \n",
       "1890                   0.001915             0.013087      -0.058495  \n",
       "1257                   0.003451             0.013087      -0.058495  \n",
       "4741                   0.001536             0.000000      -0.000000  \n",
       "4795                   0.001536             0.000000      -0.000000  \n",
       "4791                   0.001536             0.000000      -0.000000  \n",
       "4573                   0.001536             0.000000      -0.000000  \n",
       "4809                   0.001915             0.000000      -0.000000  \n",
       "4685                   0.002767             0.000000      -0.000000  \n",
       "4906                   0.003451             0.000000      -0.000000  \n",
       "4839                   0.003451             0.000000      -0.000000  \n",
       "4842                   0.003451             0.000000      -0.000000  \n",
       "4844                   0.003451             0.000000      -0.000000  \n",
       "4846                   0.003451             0.000000      -0.000000  \n",
       "4847                   0.003451             0.000000      -0.000000  \n",
       "4848                   0.003451             0.000000      -0.000000  \n",
       "4854                   0.003451             0.000000      -0.000000  \n",
       "4928                   0.003451             0.000000      -0.000000  \n",
       "4927                   0.003451             0.000000      -0.000000  \n",
       "4865                   0.003451             0.000000      -0.000000  \n",
       "4869                   0.003451             0.000000      -0.000000  \n",
       "4876                   0.003451             0.000000      -0.000000  \n",
       "4881                   0.003451             0.000000      -0.000000  \n",
       "4883                   0.003451             0.000000      -0.000000  \n",
       "4838                   0.003451             0.000000      -0.000000  \n",
       "4887                   0.003451             0.000000      -0.000000  \n",
       "4888                   0.003451             0.000000      -0.000000  \n",
       "4890                   0.003451             0.000000      -0.000000  \n",
       "4919                   0.003451             0.000000      -0.000000  "
      ]
     },
     "execution_count": 163,
     "metadata": {},
     "output_type": "execute_result"
    }
   ],
   "source": [
    "sorted_needed_features[sorted_needed_features['label-pass-fail'] == 1].head(30)"
   ]
  },
  {
   "cell_type": "code",
   "execution_count": 233,
   "id": "a58645bc",
   "metadata": {},
   "outputs": [
    {
     "data": {
      "text/plain": [
       "tensor([0, 1, 0,  ..., 0, 0, 0])"
      ]
     },
     "execution_count": 233,
     "metadata": {},
     "output_type": "execute_result"
    }
   ],
   "source": [
    "y_tensor[sorted_needed_features['label-pass-fail'] == 1]"
   ]
  },
  {
   "cell_type": "code",
   "execution_count": 200,
   "id": "cea18333",
   "metadata": {
    "scrolled": true
   },
   "outputs": [
    {
     "data": {
      "text/plain": [
       "0       False\n",
       "1       False\n",
       "2       False\n",
       "3       False\n",
       "4       False\n",
       "        ...  \n",
       "4981    False\n",
       "4982    False\n",
       "4983    False\n",
       "4984    False\n",
       "4985    False\n",
       "Name: label-pass-fail, Length: 4986, dtype: bool"
      ]
     },
     "execution_count": 200,
     "metadata": {},
     "output_type": "execute_result"
    }
   ],
   "source": [
    "features_df['label-pass-fail'] == (1-y_tensor)"
   ]
  },
  {
   "cell_type": "code",
   "execution_count": 212,
   "id": "ab7ee8ef",
   "metadata": {},
   "outputs": [
    {
     "data": {
      "text/plain": [
       "3020"
      ]
     },
     "execution_count": 212,
     "metadata": {},
     "output_type": "execute_result"
    }
   ],
   "source": [
    "sum(features_df['label-pass-fail'].values.ravel() == np.array(ynot).ravel())/"
   ]
  },
  {
   "cell_type": "code",
   "execution_count": 213,
   "id": "29f0cf70",
   "metadata": {},
   "outputs": [
    {
     "data": {
      "text/plain": [
       "0       0.0\n",
       "1       0.0\n",
       "2       0.0\n",
       "3       0.0\n",
       "4       1.0\n",
       "       ... \n",
       "4981    1.0\n",
       "4982    1.0\n",
       "4983    1.0\n",
       "4984    1.0\n",
       "4985    1.0\n",
       "Name: label-pass-fail, Length: 4986, dtype: float64"
      ]
     },
     "execution_count": 213,
     "metadata": {},
     "output_type": "execute_result"
    }
   ],
   "source": [
    "features_df['label-pass-fail']"
   ]
  },
  {
   "cell_type": "code",
   "execution_count": 207,
   "id": "e2554dde",
   "metadata": {},
   "outputs": [],
   "source": [
    "ynot = 1-y_tensor"
   ]
  },
  {
   "cell_type": "code",
   "execution_count": 210,
   "id": "7ddebbf1",
   "metadata": {},
   "outputs": [
    {
     "data": {
      "text/plain": [
       "array([0, 1, 0, ..., 1, 1, 1])"
      ]
     },
     "execution_count": 210,
     "metadata": {},
     "output_type": "execute_result"
    }
   ],
   "source": [
    "np.array(ynot).ravel()"
   ]
  },
  {
   "cell_type": "code",
   "execution_count": 198,
   "id": "f77c3400",
   "metadata": {},
   "outputs": [
    {
     "data": {
      "text/plain": [
       "tensor([0, 1, 0,  ..., 1, 1, 1])"
      ]
     },
     "execution_count": 198,
     "metadata": {},
     "output_type": "execute_result"
    }
   ],
   "source": [
    "(1-y_tensor)"
   ]
  },
  {
   "cell_type": "code",
   "execution_count": null,
   "id": "fa92658d",
   "metadata": {},
   "outputs": [],
   "source": []
  },
  {
   "cell_type": "code",
   "execution_count": 189,
   "id": "a7cdeab5",
   "metadata": {},
   "outputs": [
    {
     "data": {
      "text/plain": [
       "tensor([False,  True, False,  ...,  True,  True,  True])"
      ]
     },
     "execution_count": 189,
     "metadata": {},
     "output_type": "execute_result"
    }
   ],
   "source": [
    "y_tensor == 0"
   ]
  },
  {
   "cell_type": "code",
   "execution_count": null,
   "id": "c433b235",
   "metadata": {},
   "outputs": [],
   "source": []
  },
  {
   "cell_type": "code",
   "execution_count": 154,
   "id": "dc1675da",
   "metadata": {},
   "outputs": [
    {
     "data": {
      "text/plain": [
       "0.000552234195650757"
      ]
     },
     "execution_count": 154,
     "metadata": {},
     "output_type": "execute_result"
    }
   ],
   "source": [
    "final_scores[4927]"
   ]
  },
  {
   "cell_type": "code",
   "execution_count": 72,
   "id": "31310090",
   "metadata": {},
   "outputs": [
    {
     "data": {
      "text/plain": [
       "0.0371643094372617"
      ]
     },
     "execution_count": 72,
     "metadata": {},
     "output_type": "execute_result"
    }
   ],
   "source": [
    "final_scores[861]"
   ]
  },
  {
   "cell_type": "code",
   "execution_count": 69,
   "id": "3320b391",
   "metadata": {},
   "outputs": [
    {
     "data": {
      "text/plain": [
       "0.8790419161676647"
      ]
     },
     "execution_count": 69,
     "metadata": {},
     "output_type": "execute_result"
    }
   ],
   "source": [
    "sum(needed_features['label-pass-fail'])/len(needed_features)"
   ]
  },
  {
   "cell_type": "code",
   "execution_count": 52,
   "id": "488d5923",
   "metadata": {},
   "outputs": [
    {
     "data": {
      "text/plain": [
       "user_id                      6.134274e+06\n",
       "label-pass-fail              1.000000e+00\n",
       "time_sessions sum            1.400966e-01\n",
       "total_clicks_video           3.471292e-01\n",
       "relative_time_online         1.747675e-02\n",
       "relative_video_clicks        1.709214e-02\n",
       "time_sessions mean           5.158335e-02\n",
       "regularity_periodicity_m1    1.150469e-01\n",
       "regularity_periodicity_m2    1.667360e-02\n",
       "regularity_periodicity_m3    1.626844e-02\n",
       "competency_strength          0.000000e+00\n",
       "student_shape               -0.000000e+00\n",
       "Name: 392, dtype: float64"
      ]
     },
     "execution_count": 52,
     "metadata": {},
     "output_type": "execute_result"
    }
   ],
   "source": [
    "needed_features.loc[392]"
   ]
  },
  {
   "cell_type": "code",
   "execution_count": 65,
   "id": "9ceda860",
   "metadata": {},
   "outputs": [
    {
     "data": {
      "text/plain": [
       "user_id                      4.861729e+06\n",
       "label-pass-fail              1.000000e+00\n",
       "time_sessions sum            0.000000e+00\n",
       "total_clicks_video           0.000000e+00\n",
       "relative_time_online         0.000000e+00\n",
       "relative_video_clicks        0.000000e+00\n",
       "time_sessions mean           0.000000e+00\n",
       "regularity_periodicity_m1    1.882764e-03\n",
       "regularity_periodicity_m2    4.519337e-04\n",
       "regularity_periodicity_m3    2.418333e-03\n",
       "competency_strength          0.000000e+00\n",
       "student_shape               -0.000000e+00\n",
       "Name: 3733, dtype: float64"
      ]
     },
     "execution_count": 65,
     "metadata": {},
     "output_type": "execute_result"
    }
   ],
   "source": [
    "needed_features.loc[3733]"
   ]
  },
  {
   "cell_type": "code",
   "execution_count": 110,
   "id": "2fb6ff03",
   "metadata": {},
   "outputs": [
    {
     "data": {
      "text/plain": [
       "user_id                      6.781868e+06\n",
       "label-pass-fail              0.000000e+00\n",
       "time_sessions sum            2.708524e-01\n",
       "total_clicks_video           3.025267e-01\n",
       "relative_time_online         1.747675e-02\n",
       "relative_video_clicks        1.709214e-02\n",
       "time_sessions mean           6.592108e-02\n",
       "regularity_periodicity_m1    1.510131e-01\n",
       "regularity_periodicity_m2    2.753720e-02\n",
       "regularity_periodicity_m3    2.286245e-02\n",
       "competency_strength          0.000000e+00\n",
       "student_shape               -0.000000e+00\n",
       "Name: 2849, dtype: float64"
      ]
     },
     "execution_count": 110,
     "metadata": {},
     "output_type": "execute_result"
    }
   ],
   "source": [
    "needed_features.loc[2849]"
   ]
  },
  {
   "cell_type": "code",
   "execution_count": 66,
   "id": "daa495ba",
   "metadata": {},
   "outputs": [
    {
     "data": {
      "text/plain": [
       "0.8939077305560775"
      ]
     },
     "execution_count": 66,
     "metadata": {},
     "output_type": "execute_result"
    }
   ],
   "source": [
    "sum(needed_features.iloc[2537].values[2:])"
   ]
  },
  {
   "cell_type": "code",
   "execution_count": 67,
   "id": "8e0e2137",
   "metadata": {},
   "outputs": [
    {
     "data": {
      "text/plain": [
       "user_id                      3.354459e+06\n",
       "label-pass-fail              1.000000e+00\n",
       "time_sessions sum            6.761871e-04\n",
       "total_clicks_video           2.101690e-03\n",
       "relative_time_online         1.747675e-02\n",
       "relative_video_clicks        1.709214e-02\n",
       "time_sessions mean           1.196013e-03\n",
       "regularity_periodicity_m1    1.270044e-02\n",
       "regularity_periodicity_m2    1.590516e-02\n",
       "regularity_periodicity_m3    1.416192e-02\n",
       "content_anticipation         8.125974e-01\n",
       "delay_lecture               -0.000000e+00\n",
       "competency_strength          0.000000e+00\n",
       "student_shape               -0.000000e+00\n",
       "Name: 2537, dtype: float64"
      ]
     },
     "execution_count": 67,
     "metadata": {},
     "output_type": "execute_result"
    }
   ],
   "source": [
    "needed_features.iloc[2537]"
   ]
  },
  {
   "cell_type": "code",
   "execution_count": 65,
   "id": "5e1c3f36",
   "metadata": {},
   "outputs": [
    {
     "data": {
      "text/plain": [
       "0.044936559203752474"
      ]
     },
     "execution_count": 65,
     "metadata": {},
     "output_type": "execute_result"
    }
   ],
   "source": [
    "sum(needed_features.iloc[2538].values[2:])"
   ]
  },
  {
   "cell_type": "code",
   "execution_count": null,
   "id": "370624a7",
   "metadata": {},
   "outputs": [],
   "source": []
  },
  {
   "cell_type": "code",
   "execution_count": 72,
   "id": "fe10ed38",
   "metadata": {},
   "outputs": [
    {
     "data": {
      "text/plain": [
       "(4986, 12)"
      ]
     },
     "execution_count": 72,
     "metadata": {},
     "output_type": "execute_result"
    }
   ],
   "source": [
    "needed_features.shape"
   ]
  },
  {
   "cell_type": "code",
   "execution_count": 42,
   "id": "3b2f791f",
   "metadata": {},
   "outputs": [
    {
     "data": {
      "text/plain": [
       "user_id                                                                3354459\n",
       "label-pass-fail                                                            1.0\n",
       "competency_strength          [0.0, 0.0, 0.0, 0.0, 0.0, 0.0, 0.0, 0.0, 0.0, ...\n",
       "competency_alignment         [0.0, 0.0, 0.0, 0.0, 0.0, 0.0, 0.0, 0.0, 0.0, ...\n",
       "competency_anticipation      [0.0, 0.0, 0.0, 0.0, 0.0, 0.0, 0.0, 0.0, 0.0, ...\n",
       "                                                   ...                        \n",
       "speed_playback_ mean         [0.0, 1.0, 1.0, 0.0, 1.0, 1.0, 1.0, 0.0, 0.0, ...\n",
       "relative_time_online         [0.0, 0.2508670520231214, 0.6, 0.0, 0.0, 0.0, ...\n",
       "relative_video_clicks        [0.0, 0.2916666666666667, 0.4166666666666667, ...\n",
       "regularity_periodicity_m2                                             6.571598\n",
       "regularity_periodicity_m3                                             2.606194\n",
       "Name: 2537, Length: 63, dtype: object"
      ]
     },
     "execution_count": 42,
     "metadata": {},
     "output_type": "execute_result"
    }
   ],
   "source": [
    "features_df.loc[2537]"
   ]
  },
  {
   "cell_type": "code",
   "execution_count": null,
   "id": "46587388",
   "metadata": {},
   "outputs": [],
   "source": [
    "needed_featu"
   ]
  },
  {
   "cell_type": "code",
   "execution_count": 55,
   "id": "5ae47434",
   "metadata": {},
   "outputs": [
    {
     "data": {
      "text/html": [
       "<div>\n",
       "<style scoped>\n",
       "    .dataframe tbody tr th:only-of-type {\n",
       "        vertical-align: middle;\n",
       "    }\n",
       "\n",
       "    .dataframe tbody tr th {\n",
       "        vertical-align: top;\n",
       "    }\n",
       "\n",
       "    .dataframe thead th {\n",
       "        text-align: right;\n",
       "    }\n",
       "</style>\n",
       "<table border=\"1\" class=\"dataframe\">\n",
       "  <thead>\n",
       "    <tr style=\"text-align: right;\">\n",
       "      <th></th>\n",
       "      <th>user_id</th>\n",
       "      <th>label-pass-fail</th>\n",
       "      <th>competency_strength</th>\n",
       "      <th>competency_alignment</th>\n",
       "      <th>competency_anticipation</th>\n",
       "      <th>content_alignment</th>\n",
       "      <th>content_anticipation</th>\n",
       "      <th>student_speed</th>\n",
       "      <th>student_shape</th>\n",
       "      <th>regularity_peak_dayhour</th>\n",
       "      <th>...</th>\n",
       "      <th>frequency_action_relative_Video.Play</th>\n",
       "      <th>frequency_action_relative_Video.Pause</th>\n",
       "      <th>frequency_action_relative_Video.Load</th>\n",
       "      <th>frequency_action_total_Video.SeekBackward</th>\n",
       "      <th>frequency_action_total_Video.SeekForward</th>\n",
       "      <th>speed_playback_ mean</th>\n",
       "      <th>relative_time_online</th>\n",
       "      <th>relative_video_clicks</th>\n",
       "      <th>regularity_periodicity_m2</th>\n",
       "      <th>regularity_periodicity_m3</th>\n",
       "    </tr>\n",
       "  </thead>\n",
       "  <tbody>\n",
       "    <tr>\n",
       "      <th>0</th>\n",
       "      <td>2632293</td>\n",
       "      <td>0.0</td>\n",
       "      <td>[0.3333333333333333, 0.10277777777777777, 0.13...</td>\n",
       "      <td>[0.5, 0.0, 0.0, 0.1, 0.0, 0.0, 0.0, 0.0, 0.0, ...</td>\n",
       "      <td>[0.025, 0.027777777777777776, 0.0625, 0.045454...</td>\n",
       "      <td>[1.0, 0.0, 0.0, 0.15384615384615385, 0.5, 0.25...</td>\n",
       "      <td>[0.11666666666666667, 0.08771929824561403, 0.1...</td>\n",
       "      <td>[4616.5, 4800.0, 3103.5, 1146.5, 364.0, 1779.0...</td>\n",
       "      <td>[0.0, 0.0, 0.0, 0.0, 0.0, 0.0, 0.0, 0.0, 0.0, ...</td>\n",
       "      <td>[3.8489853505047056, 9.25386201069869, 2.45795...</td>\n",
       "      <td>...</td>\n",
       "      <td>[0.0, 0.0, 0.0, 0.0, 0.0, 0.0, 0.0, 0.0, 0.0, ...</td>\n",
       "      <td>[0.0, 0.0, 0.0, 0.0, 0.0, 0.0, 0.0, 0.0, 0.0, ...</td>\n",
       "      <td>[1.0, 1.0, 1.0, 1.0, 1.0, 1.0, 1.0, 0.0, 1.0, ...</td>\n",
       "      <td>[0.0, 0.0, 0.0, 0.0, 0.0, 0.0, 0.0, 0.0, 0.0, ...</td>\n",
       "      <td>[0.0, 0.0, 0.0, 0.0, 0.0, 0.0, 0.0, 0.0, 0.0, ...</td>\n",
       "      <td>[1.0, 1.0, 1.0, 1.0, 1.0, 1.0, 1.0, 0.0, 1.0, ...</td>\n",
       "      <td>[0.04203713389121339, 0.10695606694560669, 0.0...</td>\n",
       "      <td>[0.2222222222222222, 0.08080808080808081, 0.12...</td>\n",
       "      <td>23.005697</td>\n",
       "      <td>3.432225</td>\n",
       "    </tr>\n",
       "    <tr>\n",
       "      <th>1</th>\n",
       "      <td>1819463</td>\n",
       "      <td>0.0</td>\n",
       "      <td>[0.3333333333333333, 0.5, 0.25, 0.166666666666...</td>\n",
       "      <td>[0.5, 0.25, 0.25, 0.1, 0.0, 0.0, 0.0, 0.5, 0.1...</td>\n",
       "      <td>[0.025, 0.0, 0.0, 0.09090909090909091, 0.0, 0....</td>\n",
       "      <td>[1.0, 0.0, 0.0, 0.5384615384615384, 0.75, 0.0,...</td>\n",
       "      <td>[0.11666666666666667, 0.0, 0.09433962264150944...</td>\n",
       "      <td>[1265.0, 0.0, 2884.0000000000005, 1717.6666666...</td>\n",
       "      <td>[0.0, 1.0, 0.0, 0.0, 0.0, 0.0, 0.0, 0.0, 0.0, ...</td>\n",
       "      <td>[3.590163946871888, 3.1780538303479458, 6.8289...</td>\n",
       "      <td>...</td>\n",
       "      <td>[0.0, 0.0, 0.0, 0.0, 0.0, 0.0, 0.0, 0.0, 0.0, ...</td>\n",
       "      <td>[0.0, 0.0, 0.0, 0.0, 0.0, 0.0, 0.0, 0.0, 0.0, ...</td>\n",
       "      <td>[1.0, 0.0, 1.0, 1.0, 1.0, 1.0, 0.0, 1.0, 1.0, ...</td>\n",
       "      <td>[0.0, 0.0, 0.0, 0.0, 0.0, 0.0, 0.0, 0.0, 0.0, ...</td>\n",
       "      <td>[0.0, 0.0, 0.0, 0.0, 0.0, 0.0, 0.0, 0.0, 0.0, ...</td>\n",
       "      <td>[1.0, 0.0, 1.0, 1.0, 1.0, 1.0, 0.0, 1.0, 1.0, ...</td>\n",
       "      <td>[0.106950403295006, 0.0, 0.0267719238029861, 0...</td>\n",
       "      <td>[0.11702127659574468, 0.0, 0.06382978723404255...</td>\n",
       "      <td>30.139742</td>\n",
       "      <td>9.681496</td>\n",
       "    </tr>\n",
       "    <tr>\n",
       "      <th>2</th>\n",
       "      <td>460152</td>\n",
       "      <td>0.0</td>\n",
       "      <td>[0.9473684210526315, 0.825, 0.4047620833333333...</td>\n",
       "      <td>[0.0, 0.0, 0.0, 0.0, 0.0, 0.0, 1.0, 0.0, 0.0, ...</td>\n",
       "      <td>[0.0, 0.0, 0.0, 0.045454545454545456, 0.066666...</td>\n",
       "      <td>[0.5, 0.0, 0.0, 0.0, 0.08333333333333333, 0.0,...</td>\n",
       "      <td>[0.0, 0.0, 0.0, 0.0, 0.0, 0.0, 0.0, 0.0, 0.0, ...</td>\n",
       "      <td>[0.0, 0.0, 1239.0, 2150.5, 753.5, 1218.0, 690....</td>\n",
       "      <td>[0.0, 0.0, 0.0, 0.0, 0.0, 0.0, 0.0, 0.0, 0.0, ...</td>\n",
       "      <td>[7.847156057187413, 3.1780538303479458, 6.3561...</td>\n",
       "      <td>...</td>\n",
       "      <td>[0.0, 0.0, 0.0, 0.0, 0.0, 0.0, 0.0, 0.0, 0.0, ...</td>\n",
       "      <td>[0.0, 0.0, 0.0, 0.0, 0.0, 0.0, 0.0, 0.0, 0.0, ...</td>\n",
       "      <td>[1.0, 0.0, 0.0, 0.0, 1.0, 0.0, 0.0, 0.0, 0.0, ...</td>\n",
       "      <td>[0.0, 0.0, 0.0, 0.0, 0.0, 0.0, 0.0, 0.0, 0.0, ...</td>\n",
       "      <td>[0.0, 0.0, 0.0, 0.0, 0.0, 0.0, 0.0, 0.0, 0.0, ...</td>\n",
       "      <td>[1.0, 0.0, 0.0, 0.0, 1.0, 0.0, 0.0, 0.0, 0.0, ...</td>\n",
       "      <td>[0.05776854823484991, 0.0, 0.0, 0.292807249386...</td>\n",
       "      <td>[0.6666666666666666, 0.0, 0.0, 0.0, 0.33333333...</td>\n",
       "      <td>11.007916</td>\n",
       "      <td>5.179264</td>\n",
       "    </tr>\n",
       "    <tr>\n",
       "      <th>3</th>\n",
       "      <td>2606388</td>\n",
       "      <td>0.0</td>\n",
       "      <td>[0.5, 0.3333333333333333, 0.0, 0.0, 0.33333333...</td>\n",
       "      <td>[0.5, 0.25, 0.0, 0.0, 0.14285714285714285, 1.0...</td>\n",
       "      <td>[0.0, 0.0, 0.0, 0.0, 0.0, 0.0, 0.0, 0.0, 0.0, ...</td>\n",
       "      <td>[1.0, 0.0, 0.0, 0.07692307692307693, 0.4166666...</td>\n",
       "      <td>[0.11666666666666667, 0.0, 0.09433962264150944...</td>\n",
       "      <td>[585.0, 1382.0, 0.0, 0.0, 1254.0, 966.0, 219.0...</td>\n",
       "      <td>[0.0, 0.0, 0.0, 0.0, 0.0, 0.0, 0.0, 0.0, 0.0, ...</td>\n",
       "      <td>[17.228238555930574, 5.083079324106266, 16.032...</td>\n",
       "      <td>...</td>\n",
       "      <td>[0.0, 0.0, 0.0, 0.0, 0.0, 0.0, 0.0, 0.0, 0.0, ...</td>\n",
       "      <td>[0.0, 0.0, 0.0, 0.0, 0.0, 0.0, 0.0, 0.0, 0.0, ...</td>\n",
       "      <td>[1.0, 0.0, 1.0, 1.0, 1.0, 1.0, 0.0, 0.0, 1.0, ...</td>\n",
       "      <td>[0.0, 0.0, 0.0, 0.0, 0.0, 0.0, 0.0, 0.0, 0.0, ...</td>\n",
       "      <td>[0.0, 0.0, 0.0, 0.0, 0.0, 0.0, 0.0, 0.0, 0.0, ...</td>\n",
       "      <td>[1.0, 0.0, 1.0, 1.0, 1.0, 1.0, 0.0, 0.0, 1.0, ...</td>\n",
       "      <td>[0.20246430844775848, 0.0, 0.09398017641174866...</td>\n",
       "      <td>[0.26436781609195403, 0.0, 0.13793103448275862...</td>\n",
       "      <td>10.922873</td>\n",
       "      <td>4.140864</td>\n",
       "    </tr>\n",
       "    <tr>\n",
       "      <th>4</th>\n",
       "      <td>1343935</td>\n",
       "      <td>1.0</td>\n",
       "      <td>[0.25, 0.0, 0.0, 0.0, 0.0, 0.0, 0.0, 0.0, 0.0,...</td>\n",
       "      <td>[0.5, 0.0, 0.0, 0.0, 0.0, 0.0, 0.0, 0.0, 0.0, ...</td>\n",
       "      <td>[0.0, 0.0, 0.0, 0.0, 0.0, 0.0, 0.0, 0.0, 0.0, ...</td>\n",
       "      <td>[0.5, 0.0, 0.0, 0.0, 0.08333333333333333, 0.0,...</td>\n",
       "      <td>[0.0, 0.03508771929824561, 0.01886792452830188...</td>\n",
       "      <td>[1915.0, 0.0, 0.0, 0.0, 0.0, 0.0, 0.0, 0.0, 0....</td>\n",
       "      <td>[0.0, 0.0, 0.0, 0.0, 0.0, 0.0, 0.0, 0.0, 0.0, ...</td>\n",
       "      <td>[5.767714515507577, 2.4849066497880004, 3.1780...</td>\n",
       "      <td>...</td>\n",
       "      <td>[0.0, 0.0, 0.0, 0.0, 0.0, 0.0, 0.0, 0.0, 0.0, ...</td>\n",
       "      <td>[0.0, 0.0, 0.0, 0.0, 0.0, 0.0, 0.0, 0.0, 0.0, ...</td>\n",
       "      <td>[1.0, 1.0, 1.0, 0.0, 1.0, 1.0, 1.0, 1.0, 1.0, ...</td>\n",
       "      <td>[0.0, 0.0, 0.0, 0.0, 0.0, 0.0, 0.0, 0.0, 0.0, ...</td>\n",
       "      <td>[0.0, 0.0, 0.0, 0.0, 0.0, 0.0, 0.0, 0.0, 0.0, ...</td>\n",
       "      <td>[1.0, 1.0, 1.0, 0.0, 1.0, 1.0, 1.0, 1.0, 1.0, ...</td>\n",
       "      <td>[0.30957446808510636, 0.0, 0.0, 0.0, 0.0, 0.0,...</td>\n",
       "      <td>[0.21052631578947367, 0.10526315789473684, 0.0...</td>\n",
       "      <td>6.573647</td>\n",
       "      <td>6.079782</td>\n",
       "    </tr>\n",
       "    <tr>\n",
       "      <th>...</th>\n",
       "      <td>...</td>\n",
       "      <td>...</td>\n",
       "      <td>...</td>\n",
       "      <td>...</td>\n",
       "      <td>...</td>\n",
       "      <td>...</td>\n",
       "      <td>...</td>\n",
       "      <td>...</td>\n",
       "      <td>...</td>\n",
       "      <td>...</td>\n",
       "      <td>...</td>\n",
       "      <td>...</td>\n",
       "      <td>...</td>\n",
       "      <td>...</td>\n",
       "      <td>...</td>\n",
       "      <td>...</td>\n",
       "      <td>...</td>\n",
       "      <td>...</td>\n",
       "      <td>...</td>\n",
       "      <td>...</td>\n",
       "      <td>...</td>\n",
       "    </tr>\n",
       "    <tr>\n",
       "      <th>4981</th>\n",
       "      <td>2894520</td>\n",
       "      <td>1.0</td>\n",
       "      <td>[0.0, 0.0, 0.0, 0.0, 0.0, 0.0, 0.0, 0.0, 0.0, ...</td>\n",
       "      <td>[0.0, 0.0, 0.0, 0.0, 0.0, 0.0, 0.0, 0.0, 0.0, ...</td>\n",
       "      <td>[0.0, 0.0, 0.0, 0.0, 0.0, 0.0, 0.0, 0.0, 0.0, ...</td>\n",
       "      <td>[0.0, 0.0, 0.0, 0.0, 0.0, 0.0, 0.0, 0.0, 0.0, ...</td>\n",
       "      <td>[0.0, 0.0, 0.0, 0.0, 0.0, 0.0, 0.0, 0.0, 0.0, ...</td>\n",
       "      <td>[0.0, 0.0, 0.0, 0.0, 0.0, 0.0, 0.0, 0.0, 0.0, ...</td>\n",
       "      <td>[0.0, 0.0, 0.0, 0.0, 0.0, 0.0, 0.0, 0.0, 0.0, ...</td>\n",
       "      <td>[0.0, 0.0, 0.0, 0.0, 0.0, 3.1780538303479458, ...</td>\n",
       "      <td>...</td>\n",
       "      <td>[0.0, 0.0, 0.0, 0.0, 0.0, 0.0, 0.0, 0.0, 0.0, ...</td>\n",
       "      <td>[0.0, 0.0, 0.0, 0.0, 0.0, 0.0, 0.0, 0.0, 0.0, ...</td>\n",
       "      <td>[0.0, 0.0, 0.0, 0.0, 0.0, 0.0, 0.0, 0.0, 0.0, ...</td>\n",
       "      <td>[0.0, 0.0, 0.0, 0.0, 0.0, 0.0, 0.0, 0.0, 0.0, ...</td>\n",
       "      <td>[0.0, 0.0, 0.0, 0.0, 0.0, 0.0, 0.0, 0.0, 0.0, ...</td>\n",
       "      <td>[0.0, 0.0, 0.0, 0.0, 0.0, 0.0, 0.0, 0.0, 0.0, ...</td>\n",
       "      <td>[0.0, 0.0, 0.0, 0.0, 0.0, 0.0, 0.0, 0.0, 0.0, ...</td>\n",
       "      <td>[0.0, 0.0, 0.0, 0.0, 0.0, 0.0, 0.0, 0.0, 0.0, ...</td>\n",
       "      <td>1.000000</td>\n",
       "      <td>1.000000</td>\n",
       "    </tr>\n",
       "    <tr>\n",
       "      <th>4982</th>\n",
       "      <td>932224</td>\n",
       "      <td>1.0</td>\n",
       "      <td>[0.0, 0.0, 0.0, 0.0, 0.0, 0.0, 0.0, 0.0, 0.0, ...</td>\n",
       "      <td>[0.0, 0.0, 0.0, 0.0, 0.0, 0.0, 0.0, 0.0, 0.0, ...</td>\n",
       "      <td>[0.0, 0.0, 0.0, 0.0, 0.0, 0.0, 0.0, 0.0, 0.0, ...</td>\n",
       "      <td>[0.0, 0.0, 0.0, 0.0, 0.0, 0.0, 0.0, 0.0, 0.0, ...</td>\n",
       "      <td>[0.0, 0.0, 0.0, 0.0, 0.0, 0.0, 0.0, 0.0, 0.0, ...</td>\n",
       "      <td>[0.0, 0.0, 0.0, 0.0, 0.0, 0.0, 0.0, 0.0, 0.0, ...</td>\n",
       "      <td>[0.0, 0.0, 0.0, 0.0, 0.0, 0.0, 0.0, 0.0, 0.0, ...</td>\n",
       "      <td>[0.0, 0.0, 0.0, 0.0, 0.0, 3.1780538303479458, ...</td>\n",
       "      <td>...</td>\n",
       "      <td>[0.0, 0.0, 0.0, 0.0, 0.0, 0.0, 0.0, 0.0, 0.0, ...</td>\n",
       "      <td>[0.0, 0.0, 0.0, 0.0, 0.0, 0.0, 0.0, 0.0, 0.0, ...</td>\n",
       "      <td>[0.0, 0.0, 0.0, 0.0, 0.0, 0.0, 0.0, 0.0, 0.0, ...</td>\n",
       "      <td>[0.0, 0.0, 0.0, 0.0, 0.0, 0.0, 0.0, 0.0, 0.0, ...</td>\n",
       "      <td>[0.0, 0.0, 0.0, 0.0, 0.0, 0.0, 0.0, 0.0, 0.0, ...</td>\n",
       "      <td>[0.0, 0.0, 0.0, 0.0, 0.0, 0.0, 0.0, 0.0, 0.0, ...</td>\n",
       "      <td>[0.0, 0.0, 0.0, 0.0, 0.0, 0.0, 0.0, 0.0, 0.0, ...</td>\n",
       "      <td>[0.0, 0.0, 0.0, 0.0, 0.0, 0.0, 0.0, 0.0, 0.0, ...</td>\n",
       "      <td>1.000000</td>\n",
       "      <td>1.000000</td>\n",
       "    </tr>\n",
       "    <tr>\n",
       "      <th>4983</th>\n",
       "      <td>2639566</td>\n",
       "      <td>1.0</td>\n",
       "      <td>[0.0, 0.0, 0.0, 0.0, 0.0, 0.0, 0.0, 0.0, 0.0, ...</td>\n",
       "      <td>[0.0, 0.0, 0.0, 0.0, 0.0, 0.0, 0.0, 0.0, 0.0, ...</td>\n",
       "      <td>[0.0, 0.0, 0.0, 0.0, 0.0, 0.0, 0.0, 0.0, 0.0, ...</td>\n",
       "      <td>[0.0, 0.0, 0.0, 0.0, 0.0, 0.0, 0.0, 0.0, 0.0, ...</td>\n",
       "      <td>[0.0, 0.0, 0.0, 0.0, 0.0, 0.0, 0.0, 0.0, 0.0, ...</td>\n",
       "      <td>[0.0, 0.0, 0.0, 0.0, 0.0, 0.0, 0.0, 0.0, 0.0, ...</td>\n",
       "      <td>[0.0, 0.0, 0.0, 0.0, 0.0, 0.0, 0.0, 0.0, 0.0, ...</td>\n",
       "      <td>[0.0, 0.0, 0.0, 0.0, 0.0, 3.1780538303479458, ...</td>\n",
       "      <td>...</td>\n",
       "      <td>[0.0, 0.0, 0.0, 0.0, 0.0, 0.0, 0.0, 0.0, 0.0, ...</td>\n",
       "      <td>[0.0, 0.0, 0.0, 0.0, 0.0, 0.0, 0.0, 0.0, 0.0, ...</td>\n",
       "      <td>[0.0, 0.0, 0.0, 0.0, 0.0, 0.0, 0.0, 0.0, 0.0, ...</td>\n",
       "      <td>[0.0, 0.0, 0.0, 0.0, 0.0, 0.0, 0.0, 0.0, 0.0, ...</td>\n",
       "      <td>[0.0, 0.0, 0.0, 0.0, 0.0, 0.0, 0.0, 0.0, 0.0, ...</td>\n",
       "      <td>[0.0, 0.0, 0.0, 0.0, 0.0, 0.0, 0.0, 0.0, 0.0, ...</td>\n",
       "      <td>[0.0, 0.0, 0.0, 0.0, 0.0, 0.0, 0.0, 0.0, 0.0, ...</td>\n",
       "      <td>[0.0, 0.0, 0.0, 0.0, 0.0, 0.0, 0.0, 0.0, 0.0, ...</td>\n",
       "      <td>1.000000</td>\n",
       "      <td>1.000000</td>\n",
       "    </tr>\n",
       "    <tr>\n",
       "      <th>4984</th>\n",
       "      <td>123904</td>\n",
       "      <td>1.0</td>\n",
       "      <td>[0.0, 0.0, 0.0, 0.0, 0.0, 0.0, 0.0, 0.0, 0.0, ...</td>\n",
       "      <td>[0.0, 0.0, 0.0, 0.0, 0.0, 0.0, 0.0, 0.0, 0.0, ...</td>\n",
       "      <td>[0.0, 0.0, 0.0, 0.0, 0.0, 0.0, 0.0, 0.0, 0.0, ...</td>\n",
       "      <td>[0.0, 0.0, 0.0, 0.0, 0.0, 0.0, 0.0, 0.0, 0.0, ...</td>\n",
       "      <td>[0.0, 0.0, 0.0, 0.0, 0.0, 0.0, 0.0, 0.0, 0.0, ...</td>\n",
       "      <td>[0.0, 0.0, 0.0, 0.0, 0.0, 0.0, 0.0, 0.0, 0.0, ...</td>\n",
       "      <td>[0.0, 0.0, 0.0, 0.0, 0.0, 0.0, 0.0, 0.0, 0.0, ...</td>\n",
       "      <td>[0.0, 0.0, 0.0, 0.0, 0.0, 3.1780538303479458, ...</td>\n",
       "      <td>...</td>\n",
       "      <td>[0.0, 0.0, 0.0, 0.0, 0.0, 0.0, 0.0, 0.0, 0.0, ...</td>\n",
       "      <td>[0.0, 0.0, 0.0, 0.0, 0.0, 0.0, 0.0, 0.0, 0.0, ...</td>\n",
       "      <td>[0.0, 0.0, 0.0, 0.0, 0.0, 0.0, 0.0, 0.0, 0.0, ...</td>\n",
       "      <td>[0.0, 0.0, 0.0, 0.0, 0.0, 0.0, 0.0, 0.0, 0.0, ...</td>\n",
       "      <td>[0.0, 0.0, 0.0, 0.0, 0.0, 0.0, 0.0, 0.0, 0.0, ...</td>\n",
       "      <td>[0.0, 0.0, 0.0, 0.0, 0.0, 0.0, 0.0, 0.0, 0.0, ...</td>\n",
       "      <td>[0.0, 0.0, 0.0, 0.0, 0.0, 0.0, 0.0, 0.0, 0.0, ...</td>\n",
       "      <td>[0.0, 0.0, 0.0, 0.0, 0.0, 0.0, 0.0, 0.0, 0.0, ...</td>\n",
       "      <td>1.000000</td>\n",
       "      <td>1.000000</td>\n",
       "    </tr>\n",
       "    <tr>\n",
       "      <th>4985</th>\n",
       "      <td>3041574</td>\n",
       "      <td>1.0</td>\n",
       "      <td>[0.0, 0.0, 0.0, 0.0, 0.0, 0.0, 0.0, 0.0, 0.0, ...</td>\n",
       "      <td>[0.0, 0.0, 0.0, 0.0, 0.0, 0.0, 0.0, 0.0, 0.0, ...</td>\n",
       "      <td>[0.0, 0.0, 0.0, 0.0, 0.0, 0.0, 0.0, 0.0, 0.5, ...</td>\n",
       "      <td>[0.0, 0.0, 0.0, 0.0, 0.0, 0.0, 0.0, 0.0, 0.0, ...</td>\n",
       "      <td>[0.0, 0.0, 0.0, 0.0, 0.0, 0.0, 0.0, 0.0, 0.0, ...</td>\n",
       "      <td>[0.0, 0.0, 0.0, 0.0, 0.0, 0.0, 0.0, 0.0, 2921....</td>\n",
       "      <td>[0.0, 0.0, 0.0, 0.0, 0.0, 0.0, 0.0, 0.0, 0.0, ...</td>\n",
       "      <td>[0.0, 0.0, 0.0, 0.0, 0.0, 3.1780538303479458, ...</td>\n",
       "      <td>...</td>\n",
       "      <td>[0.0, 0.0, 0.0, 0.0, 0.0, 0.0, 0.0, 0.0, 0.0, ...</td>\n",
       "      <td>[0.0, 0.0, 0.0, 0.0, 0.0, 0.0, 0.0, 0.0, 0.0, ...</td>\n",
       "      <td>[0.0, 0.0, 0.0, 0.0, 0.0, 0.0, 0.0, 0.0, 0.0, ...</td>\n",
       "      <td>[0.0, 0.0, 0.0, 0.0, 0.0, 0.0, 0.0, 0.0, 0.0, ...</td>\n",
       "      <td>[0.0, 0.0, 0.0, 0.0, 0.0, 0.0, 0.0, 0.0, 0.0, ...</td>\n",
       "      <td>[0.0, 0.0, 0.0, 0.0, 0.0, 0.0, 0.0, 0.0, 0.0, ...</td>\n",
       "      <td>[0.0, 0.0, 0.0, 0.0, 0.0, 0.0, 0.0, 0.0, 0.217...</td>\n",
       "      <td>[0.0, 0.0, 0.0, 0.0, 0.0, 0.0, 0.0, 0.0, 0.0, ...</td>\n",
       "      <td>7.252005</td>\n",
       "      <td>2.737510</td>\n",
       "    </tr>\n",
       "  </tbody>\n",
       "</table>\n",
       "<p>4986 rows × 63 columns</p>\n",
       "</div>"
      ],
      "text/plain": [
       "      user_id  label-pass-fail  \\\n",
       "0     2632293              0.0   \n",
       "1     1819463              0.0   \n",
       "2      460152              0.0   \n",
       "3     2606388              0.0   \n",
       "4     1343935              1.0   \n",
       "...       ...              ...   \n",
       "4981  2894520              1.0   \n",
       "4982   932224              1.0   \n",
       "4983  2639566              1.0   \n",
       "4984   123904              1.0   \n",
       "4985  3041574              1.0   \n",
       "\n",
       "                                    competency_strength  \\\n",
       "0     [0.3333333333333333, 0.10277777777777777, 0.13...   \n",
       "1     [0.3333333333333333, 0.5, 0.25, 0.166666666666...   \n",
       "2     [0.9473684210526315, 0.825, 0.4047620833333333...   \n",
       "3     [0.5, 0.3333333333333333, 0.0, 0.0, 0.33333333...   \n",
       "4     [0.25, 0.0, 0.0, 0.0, 0.0, 0.0, 0.0, 0.0, 0.0,...   \n",
       "...                                                 ...   \n",
       "4981  [0.0, 0.0, 0.0, 0.0, 0.0, 0.0, 0.0, 0.0, 0.0, ...   \n",
       "4982  [0.0, 0.0, 0.0, 0.0, 0.0, 0.0, 0.0, 0.0, 0.0, ...   \n",
       "4983  [0.0, 0.0, 0.0, 0.0, 0.0, 0.0, 0.0, 0.0, 0.0, ...   \n",
       "4984  [0.0, 0.0, 0.0, 0.0, 0.0, 0.0, 0.0, 0.0, 0.0, ...   \n",
       "4985  [0.0, 0.0, 0.0, 0.0, 0.0, 0.0, 0.0, 0.0, 0.0, ...   \n",
       "\n",
       "                                   competency_alignment  \\\n",
       "0     [0.5, 0.0, 0.0, 0.1, 0.0, 0.0, 0.0, 0.0, 0.0, ...   \n",
       "1     [0.5, 0.25, 0.25, 0.1, 0.0, 0.0, 0.0, 0.5, 0.1...   \n",
       "2     [0.0, 0.0, 0.0, 0.0, 0.0, 0.0, 1.0, 0.0, 0.0, ...   \n",
       "3     [0.5, 0.25, 0.0, 0.0, 0.14285714285714285, 1.0...   \n",
       "4     [0.5, 0.0, 0.0, 0.0, 0.0, 0.0, 0.0, 0.0, 0.0, ...   \n",
       "...                                                 ...   \n",
       "4981  [0.0, 0.0, 0.0, 0.0, 0.0, 0.0, 0.0, 0.0, 0.0, ...   \n",
       "4982  [0.0, 0.0, 0.0, 0.0, 0.0, 0.0, 0.0, 0.0, 0.0, ...   \n",
       "4983  [0.0, 0.0, 0.0, 0.0, 0.0, 0.0, 0.0, 0.0, 0.0, ...   \n",
       "4984  [0.0, 0.0, 0.0, 0.0, 0.0, 0.0, 0.0, 0.0, 0.0, ...   \n",
       "4985  [0.0, 0.0, 0.0, 0.0, 0.0, 0.0, 0.0, 0.0, 0.0, ...   \n",
       "\n",
       "                                competency_anticipation  \\\n",
       "0     [0.025, 0.027777777777777776, 0.0625, 0.045454...   \n",
       "1     [0.025, 0.0, 0.0, 0.09090909090909091, 0.0, 0....   \n",
       "2     [0.0, 0.0, 0.0, 0.045454545454545456, 0.066666...   \n",
       "3     [0.0, 0.0, 0.0, 0.0, 0.0, 0.0, 0.0, 0.0, 0.0, ...   \n",
       "4     [0.0, 0.0, 0.0, 0.0, 0.0, 0.0, 0.0, 0.0, 0.0, ...   \n",
       "...                                                 ...   \n",
       "4981  [0.0, 0.0, 0.0, 0.0, 0.0, 0.0, 0.0, 0.0, 0.0, ...   \n",
       "4982  [0.0, 0.0, 0.0, 0.0, 0.0, 0.0, 0.0, 0.0, 0.0, ...   \n",
       "4983  [0.0, 0.0, 0.0, 0.0, 0.0, 0.0, 0.0, 0.0, 0.0, ...   \n",
       "4984  [0.0, 0.0, 0.0, 0.0, 0.0, 0.0, 0.0, 0.0, 0.0, ...   \n",
       "4985  [0.0, 0.0, 0.0, 0.0, 0.0, 0.0, 0.0, 0.0, 0.5, ...   \n",
       "\n",
       "                                      content_alignment  \\\n",
       "0     [1.0, 0.0, 0.0, 0.15384615384615385, 0.5, 0.25...   \n",
       "1     [1.0, 0.0, 0.0, 0.5384615384615384, 0.75, 0.0,...   \n",
       "2     [0.5, 0.0, 0.0, 0.0, 0.08333333333333333, 0.0,...   \n",
       "3     [1.0, 0.0, 0.0, 0.07692307692307693, 0.4166666...   \n",
       "4     [0.5, 0.0, 0.0, 0.0, 0.08333333333333333, 0.0,...   \n",
       "...                                                 ...   \n",
       "4981  [0.0, 0.0, 0.0, 0.0, 0.0, 0.0, 0.0, 0.0, 0.0, ...   \n",
       "4982  [0.0, 0.0, 0.0, 0.0, 0.0, 0.0, 0.0, 0.0, 0.0, ...   \n",
       "4983  [0.0, 0.0, 0.0, 0.0, 0.0, 0.0, 0.0, 0.0, 0.0, ...   \n",
       "4984  [0.0, 0.0, 0.0, 0.0, 0.0, 0.0, 0.0, 0.0, 0.0, ...   \n",
       "4985  [0.0, 0.0, 0.0, 0.0, 0.0, 0.0, 0.0, 0.0, 0.0, ...   \n",
       "\n",
       "                                   content_anticipation  \\\n",
       "0     [0.11666666666666667, 0.08771929824561403, 0.1...   \n",
       "1     [0.11666666666666667, 0.0, 0.09433962264150944...   \n",
       "2     [0.0, 0.0, 0.0, 0.0, 0.0, 0.0, 0.0, 0.0, 0.0, ...   \n",
       "3     [0.11666666666666667, 0.0, 0.09433962264150944...   \n",
       "4     [0.0, 0.03508771929824561, 0.01886792452830188...   \n",
       "...                                                 ...   \n",
       "4981  [0.0, 0.0, 0.0, 0.0, 0.0, 0.0, 0.0, 0.0, 0.0, ...   \n",
       "4982  [0.0, 0.0, 0.0, 0.0, 0.0, 0.0, 0.0, 0.0, 0.0, ...   \n",
       "4983  [0.0, 0.0, 0.0, 0.0, 0.0, 0.0, 0.0, 0.0, 0.0, ...   \n",
       "4984  [0.0, 0.0, 0.0, 0.0, 0.0, 0.0, 0.0, 0.0, 0.0, ...   \n",
       "4985  [0.0, 0.0, 0.0, 0.0, 0.0, 0.0, 0.0, 0.0, 0.0, ...   \n",
       "\n",
       "                                          student_speed  \\\n",
       "0     [4616.5, 4800.0, 3103.5, 1146.5, 364.0, 1779.0...   \n",
       "1     [1265.0, 0.0, 2884.0000000000005, 1717.6666666...   \n",
       "2     [0.0, 0.0, 1239.0, 2150.5, 753.5, 1218.0, 690....   \n",
       "3     [585.0, 1382.0, 0.0, 0.0, 1254.0, 966.0, 219.0...   \n",
       "4     [1915.0, 0.0, 0.0, 0.0, 0.0, 0.0, 0.0, 0.0, 0....   \n",
       "...                                                 ...   \n",
       "4981  [0.0, 0.0, 0.0, 0.0, 0.0, 0.0, 0.0, 0.0, 0.0, ...   \n",
       "4982  [0.0, 0.0, 0.0, 0.0, 0.0, 0.0, 0.0, 0.0, 0.0, ...   \n",
       "4983  [0.0, 0.0, 0.0, 0.0, 0.0, 0.0, 0.0, 0.0, 0.0, ...   \n",
       "4984  [0.0, 0.0, 0.0, 0.0, 0.0, 0.0, 0.0, 0.0, 0.0, ...   \n",
       "4985  [0.0, 0.0, 0.0, 0.0, 0.0, 0.0, 0.0, 0.0, 2921....   \n",
       "\n",
       "                                          student_shape  \\\n",
       "0     [0.0, 0.0, 0.0, 0.0, 0.0, 0.0, 0.0, 0.0, 0.0, ...   \n",
       "1     [0.0, 1.0, 0.0, 0.0, 0.0, 0.0, 0.0, 0.0, 0.0, ...   \n",
       "2     [0.0, 0.0, 0.0, 0.0, 0.0, 0.0, 0.0, 0.0, 0.0, ...   \n",
       "3     [0.0, 0.0, 0.0, 0.0, 0.0, 0.0, 0.0, 0.0, 0.0, ...   \n",
       "4     [0.0, 0.0, 0.0, 0.0, 0.0, 0.0, 0.0, 0.0, 0.0, ...   \n",
       "...                                                 ...   \n",
       "4981  [0.0, 0.0, 0.0, 0.0, 0.0, 0.0, 0.0, 0.0, 0.0, ...   \n",
       "4982  [0.0, 0.0, 0.0, 0.0, 0.0, 0.0, 0.0, 0.0, 0.0, ...   \n",
       "4983  [0.0, 0.0, 0.0, 0.0, 0.0, 0.0, 0.0, 0.0, 0.0, ...   \n",
       "4984  [0.0, 0.0, 0.0, 0.0, 0.0, 0.0, 0.0, 0.0, 0.0, ...   \n",
       "4985  [0.0, 0.0, 0.0, 0.0, 0.0, 0.0, 0.0, 0.0, 0.0, ...   \n",
       "\n",
       "                                regularity_peak_dayhour  ...  \\\n",
       "0     [3.8489853505047056, 9.25386201069869, 2.45795...  ...   \n",
       "1     [3.590163946871888, 3.1780538303479458, 6.8289...  ...   \n",
       "2     [7.847156057187413, 3.1780538303479458, 6.3561...  ...   \n",
       "3     [17.228238555930574, 5.083079324106266, 16.032...  ...   \n",
       "4     [5.767714515507577, 2.4849066497880004, 3.1780...  ...   \n",
       "...                                                 ...  ...   \n",
       "4981  [0.0, 0.0, 0.0, 0.0, 0.0, 3.1780538303479458, ...  ...   \n",
       "4982  [0.0, 0.0, 0.0, 0.0, 0.0, 3.1780538303479458, ...  ...   \n",
       "4983  [0.0, 0.0, 0.0, 0.0, 0.0, 3.1780538303479458, ...  ...   \n",
       "4984  [0.0, 0.0, 0.0, 0.0, 0.0, 3.1780538303479458, ...  ...   \n",
       "4985  [0.0, 0.0, 0.0, 0.0, 0.0, 3.1780538303479458, ...  ...   \n",
       "\n",
       "                   frequency_action_relative_Video.Play  \\\n",
       "0     [0.0, 0.0, 0.0, 0.0, 0.0, 0.0, 0.0, 0.0, 0.0, ...   \n",
       "1     [0.0, 0.0, 0.0, 0.0, 0.0, 0.0, 0.0, 0.0, 0.0, ...   \n",
       "2     [0.0, 0.0, 0.0, 0.0, 0.0, 0.0, 0.0, 0.0, 0.0, ...   \n",
       "3     [0.0, 0.0, 0.0, 0.0, 0.0, 0.0, 0.0, 0.0, 0.0, ...   \n",
       "4     [0.0, 0.0, 0.0, 0.0, 0.0, 0.0, 0.0, 0.0, 0.0, ...   \n",
       "...                                                 ...   \n",
       "4981  [0.0, 0.0, 0.0, 0.0, 0.0, 0.0, 0.0, 0.0, 0.0, ...   \n",
       "4982  [0.0, 0.0, 0.0, 0.0, 0.0, 0.0, 0.0, 0.0, 0.0, ...   \n",
       "4983  [0.0, 0.0, 0.0, 0.0, 0.0, 0.0, 0.0, 0.0, 0.0, ...   \n",
       "4984  [0.0, 0.0, 0.0, 0.0, 0.0, 0.0, 0.0, 0.0, 0.0, ...   \n",
       "4985  [0.0, 0.0, 0.0, 0.0, 0.0, 0.0, 0.0, 0.0, 0.0, ...   \n",
       "\n",
       "                  frequency_action_relative_Video.Pause  \\\n",
       "0     [0.0, 0.0, 0.0, 0.0, 0.0, 0.0, 0.0, 0.0, 0.0, ...   \n",
       "1     [0.0, 0.0, 0.0, 0.0, 0.0, 0.0, 0.0, 0.0, 0.0, ...   \n",
       "2     [0.0, 0.0, 0.0, 0.0, 0.0, 0.0, 0.0, 0.0, 0.0, ...   \n",
       "3     [0.0, 0.0, 0.0, 0.0, 0.0, 0.0, 0.0, 0.0, 0.0, ...   \n",
       "4     [0.0, 0.0, 0.0, 0.0, 0.0, 0.0, 0.0, 0.0, 0.0, ...   \n",
       "...                                                 ...   \n",
       "4981  [0.0, 0.0, 0.0, 0.0, 0.0, 0.0, 0.0, 0.0, 0.0, ...   \n",
       "4982  [0.0, 0.0, 0.0, 0.0, 0.0, 0.0, 0.0, 0.0, 0.0, ...   \n",
       "4983  [0.0, 0.0, 0.0, 0.0, 0.0, 0.0, 0.0, 0.0, 0.0, ...   \n",
       "4984  [0.0, 0.0, 0.0, 0.0, 0.0, 0.0, 0.0, 0.0, 0.0, ...   \n",
       "4985  [0.0, 0.0, 0.0, 0.0, 0.0, 0.0, 0.0, 0.0, 0.0, ...   \n",
       "\n",
       "                   frequency_action_relative_Video.Load  \\\n",
       "0     [1.0, 1.0, 1.0, 1.0, 1.0, 1.0, 1.0, 0.0, 1.0, ...   \n",
       "1     [1.0, 0.0, 1.0, 1.0, 1.0, 1.0, 0.0, 1.0, 1.0, ...   \n",
       "2     [1.0, 0.0, 0.0, 0.0, 1.0, 0.0, 0.0, 0.0, 0.0, ...   \n",
       "3     [1.0, 0.0, 1.0, 1.0, 1.0, 1.0, 0.0, 0.0, 1.0, ...   \n",
       "4     [1.0, 1.0, 1.0, 0.0, 1.0, 1.0, 1.0, 1.0, 1.0, ...   \n",
       "...                                                 ...   \n",
       "4981  [0.0, 0.0, 0.0, 0.0, 0.0, 0.0, 0.0, 0.0, 0.0, ...   \n",
       "4982  [0.0, 0.0, 0.0, 0.0, 0.0, 0.0, 0.0, 0.0, 0.0, ...   \n",
       "4983  [0.0, 0.0, 0.0, 0.0, 0.0, 0.0, 0.0, 0.0, 0.0, ...   \n",
       "4984  [0.0, 0.0, 0.0, 0.0, 0.0, 0.0, 0.0, 0.0, 0.0, ...   \n",
       "4985  [0.0, 0.0, 0.0, 0.0, 0.0, 0.0, 0.0, 0.0, 0.0, ...   \n",
       "\n",
       "              frequency_action_total_Video.SeekBackward  \\\n",
       "0     [0.0, 0.0, 0.0, 0.0, 0.0, 0.0, 0.0, 0.0, 0.0, ...   \n",
       "1     [0.0, 0.0, 0.0, 0.0, 0.0, 0.0, 0.0, 0.0, 0.0, ...   \n",
       "2     [0.0, 0.0, 0.0, 0.0, 0.0, 0.0, 0.0, 0.0, 0.0, ...   \n",
       "3     [0.0, 0.0, 0.0, 0.0, 0.0, 0.0, 0.0, 0.0, 0.0, ...   \n",
       "4     [0.0, 0.0, 0.0, 0.0, 0.0, 0.0, 0.0, 0.0, 0.0, ...   \n",
       "...                                                 ...   \n",
       "4981  [0.0, 0.0, 0.0, 0.0, 0.0, 0.0, 0.0, 0.0, 0.0, ...   \n",
       "4982  [0.0, 0.0, 0.0, 0.0, 0.0, 0.0, 0.0, 0.0, 0.0, ...   \n",
       "4983  [0.0, 0.0, 0.0, 0.0, 0.0, 0.0, 0.0, 0.0, 0.0, ...   \n",
       "4984  [0.0, 0.0, 0.0, 0.0, 0.0, 0.0, 0.0, 0.0, 0.0, ...   \n",
       "4985  [0.0, 0.0, 0.0, 0.0, 0.0, 0.0, 0.0, 0.0, 0.0, ...   \n",
       "\n",
       "               frequency_action_total_Video.SeekForward  \\\n",
       "0     [0.0, 0.0, 0.0, 0.0, 0.0, 0.0, 0.0, 0.0, 0.0, ...   \n",
       "1     [0.0, 0.0, 0.0, 0.0, 0.0, 0.0, 0.0, 0.0, 0.0, ...   \n",
       "2     [0.0, 0.0, 0.0, 0.0, 0.0, 0.0, 0.0, 0.0, 0.0, ...   \n",
       "3     [0.0, 0.0, 0.0, 0.0, 0.0, 0.0, 0.0, 0.0, 0.0, ...   \n",
       "4     [0.0, 0.0, 0.0, 0.0, 0.0, 0.0, 0.0, 0.0, 0.0, ...   \n",
       "...                                                 ...   \n",
       "4981  [0.0, 0.0, 0.0, 0.0, 0.0, 0.0, 0.0, 0.0, 0.0, ...   \n",
       "4982  [0.0, 0.0, 0.0, 0.0, 0.0, 0.0, 0.0, 0.0, 0.0, ...   \n",
       "4983  [0.0, 0.0, 0.0, 0.0, 0.0, 0.0, 0.0, 0.0, 0.0, ...   \n",
       "4984  [0.0, 0.0, 0.0, 0.0, 0.0, 0.0, 0.0, 0.0, 0.0, ...   \n",
       "4985  [0.0, 0.0, 0.0, 0.0, 0.0, 0.0, 0.0, 0.0, 0.0, ...   \n",
       "\n",
       "                                   speed_playback_ mean  \\\n",
       "0     [1.0, 1.0, 1.0, 1.0, 1.0, 1.0, 1.0, 0.0, 1.0, ...   \n",
       "1     [1.0, 0.0, 1.0, 1.0, 1.0, 1.0, 0.0, 1.0, 1.0, ...   \n",
       "2     [1.0, 0.0, 0.0, 0.0, 1.0, 0.0, 0.0, 0.0, 0.0, ...   \n",
       "3     [1.0, 0.0, 1.0, 1.0, 1.0, 1.0, 0.0, 0.0, 1.0, ...   \n",
       "4     [1.0, 1.0, 1.0, 0.0, 1.0, 1.0, 1.0, 1.0, 1.0, ...   \n",
       "...                                                 ...   \n",
       "4981  [0.0, 0.0, 0.0, 0.0, 0.0, 0.0, 0.0, 0.0, 0.0, ...   \n",
       "4982  [0.0, 0.0, 0.0, 0.0, 0.0, 0.0, 0.0, 0.0, 0.0, ...   \n",
       "4983  [0.0, 0.0, 0.0, 0.0, 0.0, 0.0, 0.0, 0.0, 0.0, ...   \n",
       "4984  [0.0, 0.0, 0.0, 0.0, 0.0, 0.0, 0.0, 0.0, 0.0, ...   \n",
       "4985  [0.0, 0.0, 0.0, 0.0, 0.0, 0.0, 0.0, 0.0, 0.0, ...   \n",
       "\n",
       "                                   relative_time_online  \\\n",
       "0     [0.04203713389121339, 0.10695606694560669, 0.0...   \n",
       "1     [0.106950403295006, 0.0, 0.0267719238029861, 0...   \n",
       "2     [0.05776854823484991, 0.0, 0.0, 0.292807249386...   \n",
       "3     [0.20246430844775848, 0.0, 0.09398017641174866...   \n",
       "4     [0.30957446808510636, 0.0, 0.0, 0.0, 0.0, 0.0,...   \n",
       "...                                                 ...   \n",
       "4981  [0.0, 0.0, 0.0, 0.0, 0.0, 0.0, 0.0, 0.0, 0.0, ...   \n",
       "4982  [0.0, 0.0, 0.0, 0.0, 0.0, 0.0, 0.0, 0.0, 0.0, ...   \n",
       "4983  [0.0, 0.0, 0.0, 0.0, 0.0, 0.0, 0.0, 0.0, 0.0, ...   \n",
       "4984  [0.0, 0.0, 0.0, 0.0, 0.0, 0.0, 0.0, 0.0, 0.0, ...   \n",
       "4985  [0.0, 0.0, 0.0, 0.0, 0.0, 0.0, 0.0, 0.0, 0.217...   \n",
       "\n",
       "                                  relative_video_clicks  \\\n",
       "0     [0.2222222222222222, 0.08080808080808081, 0.12...   \n",
       "1     [0.11702127659574468, 0.0, 0.06382978723404255...   \n",
       "2     [0.6666666666666666, 0.0, 0.0, 0.0, 0.33333333...   \n",
       "3     [0.26436781609195403, 0.0, 0.13793103448275862...   \n",
       "4     [0.21052631578947367, 0.10526315789473684, 0.0...   \n",
       "...                                                 ...   \n",
       "4981  [0.0, 0.0, 0.0, 0.0, 0.0, 0.0, 0.0, 0.0, 0.0, ...   \n",
       "4982  [0.0, 0.0, 0.0, 0.0, 0.0, 0.0, 0.0, 0.0, 0.0, ...   \n",
       "4983  [0.0, 0.0, 0.0, 0.0, 0.0, 0.0, 0.0, 0.0, 0.0, ...   \n",
       "4984  [0.0, 0.0, 0.0, 0.0, 0.0, 0.0, 0.0, 0.0, 0.0, ...   \n",
       "4985  [0.0, 0.0, 0.0, 0.0, 0.0, 0.0, 0.0, 0.0, 0.0, ...   \n",
       "\n",
       "     regularity_periodicity_m2 regularity_periodicity_m3  \n",
       "0                    23.005697                  3.432225  \n",
       "1                    30.139742                  9.681496  \n",
       "2                    11.007916                  5.179264  \n",
       "3                    10.922873                  4.140864  \n",
       "4                     6.573647                  6.079782  \n",
       "...                        ...                       ...  \n",
       "4981                  1.000000                  1.000000  \n",
       "4982                  1.000000                  1.000000  \n",
       "4983                  1.000000                  1.000000  \n",
       "4984                  1.000000                  1.000000  \n",
       "4985                  7.252005                  2.737510  \n",
       "\n",
       "[4986 rows x 63 columns]"
      ]
     },
     "execution_count": 55,
     "metadata": {},
     "output_type": "execute_result"
    }
   ],
   "source": [
    "features_df"
   ]
  },
  {
   "cell_type": "code",
   "execution_count": null,
   "id": "c40c5301",
   "metadata": {},
   "outputs": [],
   "source": []
  },
  {
   "cell_type": "code",
   "execution_count": 33,
   "id": "115410ba",
   "metadata": {},
   "outputs": [],
   "source": [
    "x = features_df['time_sessions sum'].apply(sum)"
   ]
  },
  {
   "cell_type": "code",
   "execution_count": 39,
   "id": "76566a16",
   "metadata": {},
   "outputs": [
    {
     "data": {
      "text/plain": [
       "array([0.03490644, 0.03324396, 0.00604405, ..., 0.        , 0.        ,\n",
       "       0.00879165])"
      ]
     },
     "execution_count": 39,
     "metadata": {},
     "output_type": "execute_result"
    }
   ],
   "source": [
    "normalize(np.array(x).reshape(1, -1)).ravel()"
   ]
  },
  {
   "cell_type": "code",
   "execution_count": 40,
   "id": "da9e6a27",
   "metadata": {},
   "outputs": [],
   "source": [
    "x = features_df['total_clicks_video'].apply(sum)"
   ]
  },
  {
   "cell_type": "code",
   "execution_count": 41,
   "id": "95cf0d30",
   "metadata": {},
   "outputs": [
    {
     "data": {
      "text/plain": [
       "array([0.02902408, 0.02755821, 0.00087952, ..., 0.        , 0.        ,\n",
       "       0.        ])"
      ]
     },
     "execution_count": 41,
     "metadata": {},
     "output_type": "execute_result"
    }
   ],
   "source": [
    "normalize(np.array(x).reshape(1, -1)).ravel()"
   ]
  },
  {
   "cell_type": "code",
   "execution_count": null,
   "id": "9d0323ab",
   "metadata": {},
   "outputs": [],
   "source": []
  },
  {
   "cell_type": "code",
   "execution_count": 42,
   "id": "50c4b35b",
   "metadata": {},
   "outputs": [],
   "source": [
    "x = features_df[['total_clicks_video', 'time_sessions sum']]"
   ]
  },
  {
   "cell_type": "code",
   "execution_count": 43,
   "id": "bbf86a65",
   "metadata": {},
   "outputs": [
    {
     "data": {
      "text/html": [
       "<div>\n",
       "<style scoped>\n",
       "    .dataframe tbody tr th:only-of-type {\n",
       "        vertical-align: middle;\n",
       "    }\n",
       "\n",
       "    .dataframe tbody tr th {\n",
       "        vertical-align: top;\n",
       "    }\n",
       "\n",
       "    .dataframe thead th {\n",
       "        text-align: right;\n",
       "    }\n",
       "</style>\n",
       "<table border=\"1\" class=\"dataframe\">\n",
       "  <thead>\n",
       "    <tr style=\"text-align: right;\">\n",
       "      <th></th>\n",
       "      <th>total_clicks_video</th>\n",
       "      <th>time_sessions sum</th>\n",
       "    </tr>\n",
       "  </thead>\n",
       "  <tbody>\n",
       "    <tr>\n",
       "      <th>0</th>\n",
       "      <td>[22.0, 8.0, 12.0, 12.0, 7.0, 9.0, 3.0, 0.0, 10...</td>\n",
       "      <td>[1286.0, 3272.0, 2447.0, 3432.0, 2513.0, 2761....</td>\n",
       "    </tr>\n",
       "    <tr>\n",
       "      <th>1</th>\n",
       "      <td>[11.0, 0.0, 6.0, 16.0, 21.0, 5.0, 0.0, 14.0, 5...</td>\n",
       "      <td>[3116.0, 0.0, 780.0, 4873.0, 0.0, 0.0, 0.0, 95...</td>\n",
       "    </tr>\n",
       "    <tr>\n",
       "      <th>2</th>\n",
       "      <td>[2.0, 0.0, 0.0, 0.0, 1.0, 0.0, 0.0, 0.0, 0.0, ...</td>\n",
       "      <td>[306.0, 0.0, 0.0, 1551.0, 0.0, 1218.0, 1381.0,...</td>\n",
       "    </tr>\n",
       "    <tr>\n",
       "      <th>3</th>\n",
       "      <td>[23.0, 0.0, 12.0, 3.0, 23.0, 23.0, 0.0, 0.0, 3...</td>\n",
       "      <td>[4453.0, 0.0, 2067.0, 0.0, 10266.0, 4399.0, 0....</td>\n",
       "    </tr>\n",
       "    <tr>\n",
       "      <th>4</th>\n",
       "      <td>[4.0, 2.0, 1.0, 0.0, 1.0, 2.0, 1.0, 2.0, 3.0, ...</td>\n",
       "      <td>[873.0, 0.0, 0.0, 0.0, 0.0, 0.0, 0.0, 0.0, 0.0...</td>\n",
       "    </tr>\n",
       "    <tr>\n",
       "      <th>...</th>\n",
       "      <td>...</td>\n",
       "      <td>...</td>\n",
       "    </tr>\n",
       "    <tr>\n",
       "      <th>4981</th>\n",
       "      <td>[0.0, 0.0, 0.0, 0.0, 0.0, 0.0, 0.0, 0.0, 0.0, ...</td>\n",
       "      <td>[0.0, 0.0, 0.0, 0.0, 0.0, 0.0, 0.0, 0.0, 0.0, ...</td>\n",
       "    </tr>\n",
       "    <tr>\n",
       "      <th>4982</th>\n",
       "      <td>[0.0, 0.0, 0.0, 0.0, 0.0, 0.0, 0.0, 0.0, 0.0, ...</td>\n",
       "      <td>[0.0, 0.0, 0.0, 0.0, 0.0, 0.0, 0.0, 0.0, 0.0, ...</td>\n",
       "    </tr>\n",
       "    <tr>\n",
       "      <th>4983</th>\n",
       "      <td>[0.0, 0.0, 0.0, 0.0, 0.0, 0.0, 0.0, 0.0, 0.0, ...</td>\n",
       "      <td>[0.0, 0.0, 0.0, 0.0, 0.0, 0.0, 0.0, 0.0, 0.0, ...</td>\n",
       "    </tr>\n",
       "    <tr>\n",
       "      <th>4984</th>\n",
       "      <td>[0.0, 0.0, 0.0, 0.0, 0.0, 0.0, 0.0, 0.0, 0.0, ...</td>\n",
       "      <td>[0.0, 0.0, 0.0, 0.0, 0.0, 0.0, 0.0, 0.0, 0.0, ...</td>\n",
       "    </tr>\n",
       "    <tr>\n",
       "      <th>4985</th>\n",
       "      <td>[0.0, 0.0, 0.0, 0.0, 0.0, 0.0, 0.0, 0.0, 0.0, ...</td>\n",
       "      <td>[0.0, 0.0, 0.0, 0.0, 0.0, 0.0, 0.0, 0.0, 1678....</td>\n",
       "    </tr>\n",
       "  </tbody>\n",
       "</table>\n",
       "<p>4986 rows × 2 columns</p>\n",
       "</div>"
      ],
      "text/plain": [
       "                                     total_clicks_video  \\\n",
       "0     [22.0, 8.0, 12.0, 12.0, 7.0, 9.0, 3.0, 0.0, 10...   \n",
       "1     [11.0, 0.0, 6.0, 16.0, 21.0, 5.0, 0.0, 14.0, 5...   \n",
       "2     [2.0, 0.0, 0.0, 0.0, 1.0, 0.0, 0.0, 0.0, 0.0, ...   \n",
       "3     [23.0, 0.0, 12.0, 3.0, 23.0, 23.0, 0.0, 0.0, 3...   \n",
       "4     [4.0, 2.0, 1.0, 0.0, 1.0, 2.0, 1.0, 2.0, 3.0, ...   \n",
       "...                                                 ...   \n",
       "4981  [0.0, 0.0, 0.0, 0.0, 0.0, 0.0, 0.0, 0.0, 0.0, ...   \n",
       "4982  [0.0, 0.0, 0.0, 0.0, 0.0, 0.0, 0.0, 0.0, 0.0, ...   \n",
       "4983  [0.0, 0.0, 0.0, 0.0, 0.0, 0.0, 0.0, 0.0, 0.0, ...   \n",
       "4984  [0.0, 0.0, 0.0, 0.0, 0.0, 0.0, 0.0, 0.0, 0.0, ...   \n",
       "4985  [0.0, 0.0, 0.0, 0.0, 0.0, 0.0, 0.0, 0.0, 0.0, ...   \n",
       "\n",
       "                                      time_sessions sum  \n",
       "0     [1286.0, 3272.0, 2447.0, 3432.0, 2513.0, 2761....  \n",
       "1     [3116.0, 0.0, 780.0, 4873.0, 0.0, 0.0, 0.0, 95...  \n",
       "2     [306.0, 0.0, 0.0, 1551.0, 0.0, 1218.0, 1381.0,...  \n",
       "3     [4453.0, 0.0, 2067.0, 0.0, 10266.0, 4399.0, 0....  \n",
       "4     [873.0, 0.0, 0.0, 0.0, 0.0, 0.0, 0.0, 0.0, 0.0...  \n",
       "...                                                 ...  \n",
       "4981  [0.0, 0.0, 0.0, 0.0, 0.0, 0.0, 0.0, 0.0, 0.0, ...  \n",
       "4982  [0.0, 0.0, 0.0, 0.0, 0.0, 0.0, 0.0, 0.0, 0.0, ...  \n",
       "4983  [0.0, 0.0, 0.0, 0.0, 0.0, 0.0, 0.0, 0.0, 0.0, ...  \n",
       "4984  [0.0, 0.0, 0.0, 0.0, 0.0, 0.0, 0.0, 0.0, 0.0, ...  \n",
       "4985  [0.0, 0.0, 0.0, 0.0, 0.0, 0.0, 0.0, 0.0, 1678....  \n",
       "\n",
       "[4986 rows x 2 columns]"
      ]
     },
     "execution_count": 43,
     "metadata": {},
     "output_type": "execute_result"
    }
   ],
   "source": [
    "x"
   ]
  },
  {
   "cell_type": "code",
   "execution_count": 260,
   "id": "50c5fd43",
   "metadata": {},
   "outputs": [
    {
     "data": {
      "text/plain": [
       "[4919, 4919]"
      ]
     },
     "execution_count": 260,
     "metadata": {},
     "output_type": "execute_result"
    }
   ],
   "source": [
    "passed_args"
   ]
  },
  {
   "cell_type": "code",
   "execution_count": 262,
   "id": "bb400149",
   "metadata": {},
   "outputs": [
    {
     "data": {
      "text/plain": [
       "tensor([1, 1])"
      ]
     },
     "execution_count": 262,
     "metadata": {},
     "output_type": "execute_result"
    }
   ],
   "source": [
    "y_tensor[passed_args]"
   ]
  },
  {
   "cell_type": "code",
   "execution_count": null,
   "id": "a7bd79bd",
   "metadata": {},
   "outputs": [],
   "source": []
  },
  {
   "cell_type": "markdown",
   "id": "e21e58c8",
   "metadata": {},
   "source": [
    "experimental_sets = []\n",
    "experimental_sets = [[top_effort_con, bot_effort_con, \n",
    "                      first_half_con, second_half_con, \n",
    "                      uniform_con, top_proactivity_con, bot_proactivity_con,\n",
    "                      top_control_con, bot_control_con\n",
    "                      ]]"
   ]
  },
  {
   "cell_type": "markdown",
   "id": "41d93519",
   "metadata": {},
   "source": [
    "# Defining model"
   ]
  },
  {
   "cell_type": "code",
   "execution_count": 42,
   "id": "b307d348",
   "metadata": {},
   "outputs": [
    {
     "name": "stdout",
     "output_type": "stream",
     "text": [
      " \n"
     ]
    }
   ],
   "source": [
    "\n",
    "max_len = 1000\n",
    "n_classes = 2\n",
    "global_structure = torch.ones(d_inp, d_inp)\n",
    "saved_model_path = f\"../models/n1_mlp2_best_raindrop_{MOOC}_{percentile}.pt\"\n",
    "batch_size = 256\n",
    "n_splits = 1\n",
    "\n",
    "d_static = 9\n",
    "static_info = 1\n",
    "d_ob = 4\n",
    "d_model = d_inp * d_ob\n",
    "nhid = 2 * d_model\n",
    "nlayers = 1\n",
    "nhead = 2\n",
    "dropout = 0.2\n",
    "sensor_wise_mask = False\n",
    "MAX = 100\n",
    "aggreg = 'mean'\n",
    "\n",
    "\n",
    "model = Raindrop_v2(d_inp, d_model, nhead, nhid, nlayers, dropout, max_len,\n",
    "                                        d_static, MAX, 0.5, aggreg, n_classes, global_structure,\n",
    "                                        sensor_wise_mask=sensor_wise_mask)\n",
    "\n",
    "model.cuda()\n",
    "model.load_state_dict(torch.load(saved_model_path))\n",
    "model.eval()\n",
    "print(' ')"
   ]
  },
  {
   "cell_type": "code",
   "execution_count": 43,
   "id": "8c5213ed",
   "metadata": {},
   "outputs": [
    {
     "name": "stderr",
     "output_type": "stream",
     "text": [
      "/opt/conda/envs/py39/lib/python3.9/site-packages/captum/concept/_utils/classifier.py:130: UserWarning: Using default classifier for TCAV which keeps input both train and test datasets in the memory. Consider defining your own classifier that doesn't rely heavily on memory, for large number of concepts, by extending `Classifer` abstract class\n",
      "  warnings.warn(\n"
     ]
    }
   ],
   "source": [
    "layers = ['mlp_static']\n",
    "mytcav = TCAV(model=model, layers=layers, attribute_to_layer_input=True)"
   ]
  },
  {
   "cell_type": "code",
   "execution_count": 44,
   "id": "8f7cd018",
   "metadata": {},
   "outputs": [],
   "source": [
    "def assemble_scores(scores, experimental_sets, idx, score_layer, score_type):\n",
    "    score_list = []\n",
    "    for concepts in experimental_sets:\n",
    "        score_list.append(scores[\"-\".join([str(c.id) for c in concepts])][score_layer][score_type][idx])\n",
    "        \n",
    "    return score_list"
   ]
  },
  {
   "cell_type": "code",
   "execution_count": 234,
   "id": "4680ad9c",
   "metadata": {},
   "outputs": [
    {
     "name": "stderr",
     "output_type": "stream",
     "text": [
      "/beerslaw/ML4ED/Raindrop/code/models_rd.py:314: UserWarning: indexing with dtype torch.uint8 is now deprecated, please use a dtype torch.bool instead. (Triggered internally at  /opt/conda/conda-bld/pytorch_1659484809662/work/aten/src/ATen/native/IndexingUtils.h:27.)\n",
      "  adj[torch.eye(self.d_inp).byte()] = 1\n"
     ]
    }
   ],
   "source": [
    "passed_args = [4919, 4919]\n",
    "\n",
    "inputs = {'src': P_tensor[:, passed_args, :].cuda(), \n",
    "                            'static': P_static_tensor[passed_args, :].cuda(),\n",
    "                            'times': P_time_tensor[:, passed_args].cuda(),\n",
    "                            'lengths': torch.sum(P_time_tensor > 0, dim=0)[passed_args].cuda()\n",
    "                        }\n",
    "\n",
    "y_out = model.forward(*inputs.values())\n",
    "y_out = np.argmax(torch.squeeze(torch.sigmoid(y_out)).detach().cpu().numpy(), axis=1)\n",
    "\n"
   ]
  },
  {
   "cell_type": "code",
   "execution_count": 235,
   "id": "37c23b40",
   "metadata": {},
   "outputs": [
    {
     "data": {
      "text/plain": [
       "array([1, 1])"
      ]
     },
     "execution_count": 235,
     "metadata": {},
     "output_type": "execute_result"
    }
   ],
   "source": [
    "y_out"
   ]
  },
  {
   "cell_type": "code",
   "execution_count": null,
   "id": "2b42f1a9",
   "metadata": {},
   "outputs": [],
   "source": []
  },
  {
   "cell_type": "code",
   "execution_count": 252,
   "id": "9843f6e5",
   "metadata": {},
   "outputs": [
    {
     "name": "stderr",
     "output_type": "stream",
     "text": [
      "/beerslaw/ML4ED/Raindrop/code/models_rd.py:314: UserWarning: indexing with dtype torch.uint8 is now deprecated, please use a dtype torch.bool instead. (Triggered internally at  /opt/conda/conda-bld/pytorch_1659484809662/work/aten/src/ATen/native/IndexingUtils.h:27.)\n",
      "  adj[torch.eye(self.d_inp).byte()] = 1\n"
     ]
    }
   ],
   "source": [
    "#passed_args = np.where(ytest == test_target)[0]\n",
    "#passed_args = passed_args[np.random.choice(len(passed_args), size=(200, ), replace=False)]\n",
    "#scores = mytcav.interpret(inputs = {'src': Ptest_tensor[:, passed_args, :].cuda(), \n",
    "#                            'static': Ptest_static_tensor[passed_args, :].cuda(),\n",
    "#                            'times': Ptest_time_tensor[:, passed_args].cuda(),\n",
    "#                            'lengths': torch.sum(Ptest_time_tensor > 0, dim=0)[passed_args].cuda()\n",
    "#                        }, \n",
    "#                 experimental_sets= experimental_sets,\n",
    "#                 target = Target\n",
    "#   )\n",
    "\n",
    "passed_args = [4919, 4919]\n",
    "#passed_args = np.where(y_tensor == test_target)[0]\n",
    "#passed_args = passed_args[np.random.choice(len(passed_args), size=(200, ), replace=False)]\n",
    "scores = mytcav.interpret(inputs = {'src': P_tensor[:, passed_args, :].cuda(), \n",
    "                            'static': P_static_tensor[passed_args, :].cuda(),\n",
    "                            'times': P_time_tensor[:, passed_args].cuda(),\n",
    "                            'lengths': torch.sum(P_time_tensor > 0, dim=0)[passed_args].cuda()\n",
    "                        }, \n",
    "                 experimental_sets= experimental_sets,\n",
    "                 target = Target\n",
    "   )\n",
    "\n",
    "#passed_args = np.where(top_effort_y_tensor == test_target)[0]\n",
    "#scores = mytcav.interpret(inputs = {'src': top_effort_P_tensor[:, passed_args, :].cuda(), \n",
    "#                            'static': top_effort_P_static_tensor[passed_args, :].cuda(),\n",
    "#                            'times': top_effort_P_time_tensor[:, passed_args].cuda(),\n",
    "#                            'lengths': torch.sum(top_effort_P_time_tensor > 0, dim=0)[passed_args].cuda()\n",
    "#                        }, \n",
    "#                 experimental_sets= experimental_sets,\n",
    "#                 target = Target\n",
    "#                                          )\n",
    "\n",
    "#scores = mytcav.interpret(inputs = {'src': Pval_tensor.cuda(), \n",
    "#                            'static': Pval_static_tensor.cuda(),\n",
    "#                            'times': Pval_time_tensor.cuda(),\n",
    "#                            'lengths': torch.sum(Pval_time_tensor > 0, dim=0).cuda()\n",
    "#                        }, \n",
    "#                 experimental_sets= experimental_sets,\n",
    "#                 target = 0\n",
    "#                                          )"
   ]
  },
  {
   "cell_type": "code",
   "execution_count": null,
   "id": "3eb7d024",
   "metadata": {},
   "outputs": [],
   "source": []
  },
  {
   "cell_type": "code",
   "execution_count": 253,
   "id": "33cdb8f8",
   "metadata": {},
   "outputs": [],
   "source": [
    "def format_float(f):\n",
    "    return float('{:.3f}'.format(f) if abs(f) >= 0.0005 else '{:.3e}'.format(f))\n",
    "\n",
    "def plot_tcav_scores(experimental_sets, tcav_scores):\n",
    "    fig, ax = plt.subplots(1, len(experimental_sets), figsize = (25, 7))\n",
    "\n",
    "    barWidth = 1 / (len(experimental_sets[0]) + 1)\n",
    "\n",
    "    for idx_es, concepts in enumerate(experimental_sets):\n",
    "\n",
    "        concepts = experimental_sets[idx_es]\n",
    "        concepts_key = concepts_to_str(concepts)\n",
    "\n",
    "        pos = [np.arange(len(layers))]\n",
    "        for i in range(1, len(concepts)):\n",
    "            pos.append([(x + barWidth) for x in pos[i-1]])\n",
    "        _ax = (ax[idx_es] if len(experimental_sets) > 1 else ax)\n",
    "        for i in range(len(concepts)):\n",
    "            val = [format_float(scores['sign_count'][i]) for layer, scores in tcav_scores[concepts_key].items()]\n",
    "            _ax.bar(pos[i], val, width=barWidth, edgecolor='white', label=concepts[i].name)\n",
    "\n",
    "        # Add xticks on the middle of the group bars\n",
    "        _ax.set_xlabel('Set {}'.format(str(idx_es)), fontweight='bold', fontsize=16)\n",
    "        _ax.set_xticks([r + 0.3 * barWidth for r in range(len(layers))])\n",
    "        _ax.set_xticklabels(layers, fontsize=16)\n",
    "\n",
    "        # Create legend & Show graphic\n",
    "        _ax.legend(fontsize=16)\n",
    "\n",
    "    plt.show()"
   ]
  },
  {
   "cell_type": "code",
   "execution_count": 254,
   "id": "51b85dd2",
   "metadata": {},
   "outputs": [],
   "source": [
    "#plot_tcav_scores(experimental_sets, scores)"
   ]
  },
  {
   "cell_type": "code",
   "execution_count": 255,
   "id": "c251b2c1",
   "metadata": {},
   "outputs": [],
   "source": [
    "def get_pval(scores, experimental_sets, score_layer, score_type, alpha=0.05, print_ret=False):\n",
    "    \n",
    "    P1 = assemble_scores(scores, experimental_sets, 0, score_layer, score_type)\n",
    "    P2 = assemble_scores(scores, experimental_sets, 1, score_layer, score_type)\n",
    "    \n",
    "    if print_ret:\n",
    "        print('P1[mean, std]: ', format_float(np.mean(P1)), format_float(np.std(P1)))\n",
    "        print('P2[mean, std]: ', format_float(np.mean(P2)), format_float(np.std(P2)))\n",
    "\n",
    "    P1 = [item.cpu() for item in P1]\n",
    "    P2 = [item.cpu() for item in P2]        \n",
    "    _, pval = ttest_ind(P1, P2)\n",
    "\n",
    "    if print_ret:\n",
    "        print(\"p-values:\", format_float(pval))\n",
    "\n",
    "    if pval < alpha:    # alpha value is 0.05 or 5%\n",
    "        relation = \"Disjoint\"\n",
    "        if print_ret:\n",
    "            print(\"Disjoint\")\n",
    "    else:\n",
    "        relation = \"Overlap\"\n",
    "        if print_ret:\n",
    "            print(\"Overlap\")\n",
    "        \n",
    "    return P1, P2, format_float(pval), relation\n",
    "n = num_rands\n",
    "def show_boxplots(layer, metric='sign_count'):\n",
    "\n",
    "    def format_label_text(experimental_sets):\n",
    "        concept_id_list = [exp.name if i == 0 else \\\n",
    "                             exp.name.split('_')[0] for i, exp in enumerate(experimental_sets[0])]\n",
    "        return concept_id_list\n",
    "\n",
    "    n_plots = 9\n",
    "\n",
    "    fig, ax = plt.subplots(1, n_plots, figsize = (25, 7 * 1))\n",
    "    #fig, ax = plt.subplots(3, 3, figsize = (25, 7 * 3))\n",
    "    fs = 18\n",
    "    for i in range(n_plots):\n",
    "        esl = experimental_sets[i * n : (i+1) * n]\n",
    "        P1, P2, pval, relation = get_pval(scores, esl, layer, metric)\n",
    "\n",
    "        ax[i].set_ylim([0, 1])\n",
    "        ax[i].set_title(layer + \"-\" + metric + \" (pval=\" + str(pval) + \" - \" + relation + \")\", fontsize=fs)\n",
    "        ax[i].boxplot([P1, P2], showfliers=True)\n",
    "        \n",
    "        ax[i].set_xticklabels(format_label_text(esl), fontsize=fs)\n",
    "\n",
    "    plt.show()"
   ]
  },
  {
   "cell_type": "code",
   "execution_count": 256,
   "id": "c6b033be",
   "metadata": {},
   "outputs": [],
   "source": [
    "#show_boxplots('mlp_static')"
   ]
  },
  {
   "cell_type": "code",
   "execution_count": 257,
   "id": "e625da75",
   "metadata": {},
   "outputs": [],
   "source": [
    "def format_label_text(experimental_sets):\n",
    "    concept_id_list = [exp.name if i == 0 else \\\n",
    "                         exp.name.split('_')[0] for i, exp in enumerate(experimental_sets[0])]\n",
    "    concept_id_list = [ ' '.join(i.split(' ')[:-1]).replace(' ', '$ \\n $')  if len(i.split(' '))>1 else i for i in concept_id_list]\n",
    "    return concept_id_list"
   ]
  },
  {
   "cell_type": "code",
   "execution_count": 258,
   "id": "9e6a87dc",
   "metadata": {},
   "outputs": [],
   "source": [
    "plt.rcParams.update({\n",
    "    \"text.usetex\": True,\n",
    "    \"font.family\": \"sans-serif\",\n",
    "    \"font.sans-serif\": [\"Helvetica\"]})\n",
    "def tex_func(list_str):\n",
    "    a = []\n",
    "    for string in list_str:\n",
    "        a.append('$'+string+'$')\n",
    "    return a"
   ]
  },
  {
   "cell_type": "code",
   "execution_count": 259,
   "id": "de72ab44",
   "metadata": {
    "scrolled": false
   },
   "outputs": [
    {
     "data": {
      "image/png": "[encoded data removed]",
      "text/plain": [
       "<Figure size 1000x2800 with 5 Axes>"
      ]
     },
     "metadata": {},
     "output_type": "display_data"
    }
   ],
   "source": [
    "layer = 'mlp_static'\n",
    "metric='sign_count'\n",
    "n_plots = 11\n",
    "\n",
    "n = num_rands\n",
    "\n",
    "#fig, ax = plt.subplots(1, n_plots, figsize = (25, 7 * 1))\n",
    "fig, ax = plt.subplots(int(num_result_concepts), 1, figsize = (10, 28))\n",
    "\n",
    "fs = 35\n",
    "\n",
    "effort_pal = ['gold', 'khaki', 'gray']\n",
    "consistency_pal = ['darkgreen', 'mediumseagreen', 'palegreen', 'gray']\n",
    "regularity_pal = ['c', 'cyan', 'gray']\n",
    "proactivity_pal = ['darkviolet', 'violet', 'gray']\n",
    "control_pal = ['r', 'tomato', 'gray']\n",
    "assessment_pal = ['mediumblue', 'dodgerblue', 'gray']\n",
    "\n",
    "pals_dict = {'Effort': effort_pal,\n",
    "            'Consistency': consistency_pal,\n",
    "            'Regularity': regularity_pal,\n",
    "            'Proactivity': proactivity_pal,\n",
    "            'Control': control_pal,\n",
    "            'Assessment': assessment_pal}\n",
    "\n",
    "my_palette = ['skyblue', 'violet', 'cyan', 'gray']\n",
    "for i in range(int(num_result_concepts)):\n",
    "    esl = experimental_sets[(i) * n : ((i)+1) * n]\n",
    "    Ps = []\n",
    "    for z in range(len(esl[0])):\n",
    "            Ps.append([item.cpu() for item in assemble_scores(scores, esl, z, layer, metric)])\n",
    "    #ax[i].boxplot(Ps, showfliers=True)\n",
    "    pal = my_palette[-len(Ps):]\n",
    "    sns.boxplot(data=Ps, ax=ax[i], showfliers=True, width=0.3, medianprops={\"color\": \"black\", \"linewidth\": 5}, \n",
    "                palette=pals_dict[esl[0][0].name.split(' ')[-1]]\n",
    "               )\n",
    "    ax[i].set_xticklabels(tex_func(format_label_text(esl)))\n",
    "    ax[i].set_ylabel('$' + esl[0][0].name.split(' ')[-1] + '$', fontsize = fs*1.5)\n",
    "    ax[i].tick_params(axis='both', which='major', labelsize = fs)\n",
    "    \n",
    "\n",
    "#ax[2].set_xticklabels(tex_func([\"a \\\\ b\", '2', '3']))\n",
    "plt.tight_layout()\n",
    "plt.show()\n",
    "\n",
    "#for i in range(1):\n",
    "#    for j in range(5):\n",
    "\n",
    "#        esl = experimental_sets[(i*5 + j) * n : ((i*5 + j)+1) * n]\n",
    "        #P1, P2, pval, relation = get_pval(scores, esl, layer, metric)\n",
    "#        Ps = []\n",
    "#        for z in range(len(esl[0])):\n",
    "#            Ps.append([item.cpu() for item in assemble_scores(scores, esl, z, layer, metric)])\n",
    "\n",
    "        #ax[i, j].set_ylim([0, 1])\n",
    "        \n",
    "        #ax[i, j].set_title(layer + \"-\" + metric + \" (pval=\" + str(pval) + \" - \" + relation + \")\", fontsize=fs)\n",
    "        #ax[i, j].set_title(format_label_text(esl)[0] + \" (pval=\" + str(pval) + \" - \" + relation + \")\", fontsize=fs)\n",
    "#        ax[i, j].boxplot(Ps, showfliers=True)\n",
    "\n",
    "#        ax[i, j].set_xticklabels(format_label_text(esl), fontsize=fs)\n",
    "\n",
    "#plt.show()\n"
   ]
  },
  {
   "cell_type": "code",
   "execution_count": null,
   "id": "5bc15e7f",
   "metadata": {},
   "outputs": [],
   "source": []
  },
  {
   "cell_type": "code",
   "execution_count": null,
   "id": "5c477719",
   "metadata": {},
   "outputs": [],
   "source": []
  },
  {
   "cell_type": "code",
   "execution_count": null,
   "id": "0e0f93c9",
   "metadata": {},
   "outputs": [],
   "source": []
  },
  {
   "cell_type": "code",
   "execution_count": null,
   "id": "42cfebd2",
   "metadata": {},
   "outputs": [],
   "source": []
  },
  {
   "cell_type": "code",
   "execution_count": null,
   "id": "b9617441",
   "metadata": {},
   "outputs": [],
   "source": []
  },
  {
   "cell_type": "code",
   "execution_count": null,
   "id": "213e7e84",
   "metadata": {},
   "outputs": [],
   "source": []
  },
  {
   "cell_type": "code",
   "execution_count": null,
   "id": "ae12d533",
   "metadata": {},
   "outputs": [],
   "source": []
  },
  {
   "cell_type": "code",
   "execution_count": null,
   "id": "ef4da10c",
   "metadata": {},
   "outputs": [],
   "source": []
  },
  {
   "cell_type": "code",
   "execution_count": null,
   "id": "8c571614",
   "metadata": {},
   "outputs": [],
   "source": []
  },
  {
   "cell_type": "code",
   "execution_count": null,
   "id": "a59ad29a",
   "metadata": {},
   "outputs": [],
   "source": []
  },
  {
   "cell_type": "code",
   "execution_count": null,
   "id": "b23affc9",
   "metadata": {},
   "outputs": [],
   "source": []
  },
  {
   "cell_type": "code",
   "execution_count": null,
   "id": "cbe61bae",
   "metadata": {},
   "outputs": [],
   "source": []
  },
  {
   "cell_type": "code",
   "execution_count": null,
   "id": "3abc2179",
   "metadata": {},
   "outputs": [],
   "source": []
  },
  {
   "cell_type": "code",
   "execution_count": null,
   "id": "7bf86464",
   "metadata": {},
   "outputs": [],
   "source": []
  },
  {
   "cell_type": "code",
   "execution_count": null,
   "id": "990f9de6",
   "metadata": {},
   "outputs": [],
   "source": []
  },
  {
   "cell_type": "code",
   "execution_count": null,
   "id": "1eec8255",
   "metadata": {},
   "outputs": [],
   "source": []
  },
  {
   "cell_type": "code",
   "execution_count": null,
   "id": "46ad708c",
   "metadata": {},
   "outputs": [],
   "source": []
  },
  {
   "cell_type": "code",
   "execution_count": null,
   "id": "18666693",
   "metadata": {},
   "outputs": [],
   "source": []
  },
  {
   "cell_type": "code",
   "execution_count": 46,
   "id": "6d8daed0",
   "metadata": {},
   "outputs": [
    {
     "data": {
      "text/plain": [
       "'Assessment'"
      ]
     },
     "execution_count": 46,
     "metadata": {},
     "output_type": "execute_result"
    }
   ],
   "source": [
    "esl[0][0].name.split(' ')[1]"
   ]
  },
  {
   "cell_type": "code",
   "execution_count": null,
   "id": "3204b0a9",
   "metadata": {},
   "outputs": [],
   "source": []
  },
  {
   "cell_type": "code",
   "execution_count": 57,
   "id": "30fd0c30",
   "metadata": {},
   "outputs": [
    {
     "ename": "TypeError",
     "evalue": "_set_ticklabels() missing 1 required positional argument: 'labels'",
     "output_type": "error",
     "traceback": [
      "\u001b[0;31m---------------------------------------------------------------------------\u001b[0m",
      "\u001b[0;31mTypeError\u001b[0m                                 Traceback (most recent call last)",
      "Input \u001b[0;32mIn [57]\u001b[0m, in \u001b[0;36m<cell line: 1>\u001b[0;34m()\u001b[0m\n\u001b[0;32m----> 1\u001b[0m \u001b[43max\u001b[49m\u001b[43m[\u001b[49m\u001b[38;5;241;43m2\u001b[39;49m\u001b[43m]\u001b[49m\u001b[38;5;241;43m.\u001b[39;49m\u001b[43mset_xticklabels\u001b[49m\u001b[43m(\u001b[49m\u001b[43m)\u001b[49m\n",
      "File \u001b[0;32m/opt/conda/envs/py39/lib/python3.9/site-packages/matplotlib/axes/_base.py:75\u001b[0m, in \u001b[0;36m_axis_method_wrapper.__set_name__.<locals>.wrapper\u001b[0;34m(self, *args, **kwargs)\u001b[0m\n\u001b[1;32m     74\u001b[0m \u001b[38;5;28;01mdef\u001b[39;00m \u001b[38;5;21mwrapper\u001b[39m(\u001b[38;5;28mself\u001b[39m, \u001b[38;5;241m*\u001b[39margs, \u001b[38;5;241m*\u001b[39m\u001b[38;5;241m*\u001b[39mkwargs):\n\u001b[0;32m---> 75\u001b[0m     \u001b[38;5;28;01mreturn\u001b[39;00m \u001b[43mget_method\u001b[49m\u001b[43m(\u001b[49m\u001b[38;5;28;43mself\u001b[39;49m\u001b[43m)\u001b[49m\u001b[43m(\u001b[49m\u001b[38;5;241;43m*\u001b[39;49m\u001b[43margs\u001b[49m\u001b[43m,\u001b[49m\u001b[43m \u001b[49m\u001b[38;5;241;43m*\u001b[39;49m\u001b[38;5;241;43m*\u001b[39;49m\u001b[43mkwargs\u001b[49m\u001b[43m)\u001b[49m\n",
      "\u001b[0;31mTypeError\u001b[0m: _set_ticklabels() missing 1 required positional argument: 'labels'"
     ]
    }
   ],
   "source": [
    "ax[2].set_xticklabels()"
   ]
  },
  {
   "cell_type": "code",
   "execution_count": null,
   "id": "4e363d8b",
   "metadata": {},
   "outputs": [],
   "source": []
  },
  {
   "cell_type": "code",
   "execution_count": null,
   "id": "f82214d2",
   "metadata": {},
   "outputs": [],
   "source": []
  },
  {
   "cell_type": "code",
   "execution_count": null,
   "id": "d53eddb6",
   "metadata": {},
   "outputs": [],
   "source": []
  },
  {
   "cell_type": "code",
   "execution_count": null,
   "id": "550d6fd6",
   "metadata": {},
   "outputs": [],
   "source": []
  },
  {
   "cell_type": "code",
   "execution_count": null,
   "id": "f1c42d08",
   "metadata": {},
   "outputs": [],
   "source": []
  },
  {
   "cell_type": "code",
   "execution_count": null,
   "id": "bcddb3a1",
   "metadata": {},
   "outputs": [],
   "source": []
  },
  {
   "cell_type": "code",
   "execution_count": null,
   "id": "f6b83719",
   "metadata": {},
   "outputs": [],
   "source": []
  },
  {
   "cell_type": "code",
   "execution_count": null,
   "id": "95394eb7",
   "metadata": {},
   "outputs": [],
   "source": []
  },
  {
   "cell_type": "code",
   "execution_count": null,
   "id": "31942e3a",
   "metadata": {},
   "outputs": [],
   "source": []
  },
  {
   "cell_type": "code",
   "execution_count": null,
   "id": "e3dbe40d",
   "metadata": {},
   "outputs": [],
   "source": []
  },
  {
   "cell_type": "code",
   "execution_count": null,
   "id": "6ddd4fcc",
   "metadata": {},
   "outputs": [],
   "source": []
  },
  {
   "cell_type": "code",
   "execution_count": null,
   "id": "b2c8a9c2",
   "metadata": {},
   "outputs": [],
   "source": []
  },
  {
   "cell_type": "code",
   "execution_count": null,
   "id": "0772bae2",
   "metadata": {},
   "outputs": [],
   "source": []
  },
  {
   "cell_type": "code",
   "execution_count": null,
   "id": "2eb91bb1",
   "metadata": {},
   "outputs": [],
   "source": []
  },
  {
   "cell_type": "code",
   "execution_count": null,
   "id": "b336bb39",
   "metadata": {},
   "outputs": [],
   "source": []
  },
  {
   "cell_type": "code",
   "execution_count": null,
   "id": "9a505b42",
   "metadata": {},
   "outputs": [],
   "source": []
  },
  {
   "cell_type": "code",
   "execution_count": null,
   "id": "75e40d08",
   "metadata": {},
   "outputs": [],
   "source": []
  },
  {
   "cell_type": "code",
   "execution_count": null,
   "id": "267c1406",
   "metadata": {},
   "outputs": [],
   "source": []
  },
  {
   "cell_type": "code",
   "execution_count": null,
   "id": "ddb6af40",
   "metadata": {},
   "outputs": [],
   "source": []
  },
  {
   "cell_type": "code",
   "execution_count": null,
   "id": "5a2b4efc",
   "metadata": {},
   "outputs": [],
   "source": []
  },
  {
   "cell_type": "code",
   "execution_count": null,
   "id": "07c06b56",
   "metadata": {},
   "outputs": [],
   "source": []
  },
  {
   "cell_type": "code",
   "execution_count": null,
   "id": "a6406b35",
   "metadata": {},
   "outputs": [],
   "source": []
  },
  {
   "cell_type": "code",
   "execution_count": null,
   "id": "1e9b4c9b",
   "metadata": {},
   "outputs": [],
   "source": []
  },
  {
   "cell_type": "code",
   "execution_count": null,
   "id": "9f0e3817",
   "metadata": {},
   "outputs": [],
   "source": []
  },
  {
   "cell_type": "code",
   "execution_count": null,
   "id": "5d6ab470",
   "metadata": {},
   "outputs": [],
   "source": []
  },
  {
   "cell_type": "code",
   "execution_count": null,
   "id": "0d30efe8",
   "metadata": {},
   "outputs": [],
   "source": []
  },
  {
   "cell_type": "code",
   "execution_count": null,
   "id": "083ac1aa",
   "metadata": {},
   "outputs": [],
   "source": []
  },
  {
   "cell_type": "code",
   "execution_count": null,
   "id": "97840b79",
   "metadata": {},
   "outputs": [],
   "source": []
  },
  {
   "cell_type": "code",
   "execution_count": null,
   "id": "82b77705",
   "metadata": {},
   "outputs": [],
   "source": []
  },
  {
   "cell_type": "code",
   "execution_count": null,
   "id": "8f5e0291",
   "metadata": {},
   "outputs": [],
   "source": []
  },
  {
   "cell_type": "code",
   "execution_count": null,
   "id": "ab5e29c8",
   "metadata": {},
   "outputs": [],
   "source": []
  },
  {
   "cell_type": "code",
   "execution_count": null,
   "id": "d3f496ec",
   "metadata": {},
   "outputs": [],
   "source": []
  },
  {
   "cell_type": "code",
   "execution_count": null,
   "id": "88b4891e",
   "metadata": {},
   "outputs": [],
   "source": []
  },
  {
   "cell_type": "code",
   "execution_count": null,
   "id": "0d8021fc",
   "metadata": {},
   "outputs": [],
   "source": []
  },
  {
   "cell_type": "code",
   "execution_count": null,
   "id": "965943c5",
   "metadata": {},
   "outputs": [],
   "source": []
  },
  {
   "cell_type": "code",
   "execution_count": null,
   "id": "39a7f01d",
   "metadata": {},
   "outputs": [],
   "source": []
  },
  {
   "cell_type": "code",
   "execution_count": null,
   "id": "36e973e5",
   "metadata": {},
   "outputs": [],
   "source": []
  },
  {
   "cell_type": "code",
   "execution_count": null,
   "id": "53675b2e",
   "metadata": {},
   "outputs": [],
   "source": []
  },
  {
   "cell_type": "code",
   "execution_count": null,
   "id": "267f128b",
   "metadata": {},
   "outputs": [],
   "source": []
  },
  {
   "cell_type": "code",
   "execution_count": null,
   "id": "8fc3c1f5",
   "metadata": {},
   "outputs": [],
   "source": []
  },
  {
   "cell_type": "code",
   "execution_count": null,
   "id": "d9cd57b8",
   "metadata": {},
   "outputs": [],
   "source": []
  },
  {
   "cell_type": "code",
   "execution_count": null,
   "id": "ddb448fb",
   "metadata": {},
   "outputs": [],
   "source": []
  },
  {
   "cell_type": "code",
   "execution_count": null,
   "id": "8581eb23",
   "metadata": {},
   "outputs": [],
   "source": []
  },
  {
   "cell_type": "code",
   "execution_count": null,
   "id": "69efefb6",
   "metadata": {},
   "outputs": [],
   "source": []
  },
  {
   "cell_type": "code",
   "execution_count": null,
   "id": "cf4fe309",
   "metadata": {},
   "outputs": [],
   "source": []
  },
  {
   "cell_type": "code",
   "execution_count": null,
   "id": "fae7c973",
   "metadata": {},
   "outputs": [],
   "source": []
  },
  {
   "cell_type": "code",
   "execution_count": null,
   "id": "e151004c",
   "metadata": {},
   "outputs": [],
   "source": []
  },
  {
   "cell_type": "code",
   "execution_count": null,
   "id": "836fc1d3",
   "metadata": {},
   "outputs": [],
   "source": []
  },
  {
   "cell_type": "code",
   "execution_count": null,
   "id": "1e631e2d",
   "metadata": {},
   "outputs": [],
   "source": []
  },
  {
   "cell_type": "code",
   "execution_count": null,
   "id": "331b5113",
   "metadata": {},
   "outputs": [],
   "source": []
  },
  {
   "cell_type": "code",
   "execution_count": null,
   "id": "a3008651",
   "metadata": {},
   "outputs": [],
   "source": []
  },
  {
   "cell_type": "code",
   "execution_count": null,
   "id": "a9a0e8f6",
   "metadata": {},
   "outputs": [],
   "source": []
  },
  {
   "cell_type": "markdown",
   "id": "1efe24f7",
   "metadata": {},
   "source": [
    "0, 0,"
   ]
  },
  {
   "cell_type": "code",
   "execution_count": null,
   "id": "43433db8",
   "metadata": {},
   "outputs": [],
   "source": [
    "plot_tcav_scores(experimental_sets, scores)"
   ]
  },
  {
   "cell_type": "markdown",
   "id": "db3a4a48",
   "metadata": {},
   "source": [
    "0, 1"
   ]
  },
  {
   "cell_type": "code",
   "execution_count": 116,
   "id": "b4cdbcb9",
   "metadata": {},
   "outputs": [
    {
     "data": {
      "image/png": "[encoded data removed]",
      "text/plain": [
       "<Figure size 1800x504 with 1 Axes>"
      ]
     },
     "metadata": {
      "needs_background": "light"
     },
     "output_type": "display_data"
    }
   ],
   "source": [
    "plot_tcav_scores(experimental_sets, scores)"
   ]
  },
  {
   "cell_type": "markdown",
   "id": "c6e90301",
   "metadata": {},
   "source": [
    "1, 0"
   ]
  },
  {
   "cell_type": "code",
   "execution_count": 38,
   "id": "6e30d211",
   "metadata": {},
   "outputs": [
    {
     "data": {
      "image/png": "[encoded data removed]",
      "text/plain": [
       "<Figure size 1800x504 with 1 Axes>"
      ]
     },
     "metadata": {
      "needs_background": "light"
     },
     "output_type": "display_data"
    }
   ],
   "source": [
    "plot_tcav_scores(experimental_sets, scores)"
   ]
  },
  {
   "cell_type": "code",
   "execution_count": null,
   "id": "320dd8e8",
   "metadata": {},
   "outputs": [],
   "source": [
    "1, 1"
   ]
  },
  {
   "cell_type": "code",
   "execution_count": 38,
   "id": "a2d8b376",
   "metadata": {},
   "outputs": [
    {
     "data": {
      "image/png": "[encoded data removed]",
      "text/plain": [
       "<Figure size 1800x504 with 1 Axes>"
      ]
     },
     "metadata": {
      "needs_background": "light"
     },
     "output_type": "display_data"
    }
   ],
   "source": [
    "plot_tcav_scores(experimental_sets, scores)"
   ]
  },
  {
   "cell_type": "code",
   "execution_count": null,
   "id": "bfe58ed2",
   "metadata": {},
   "outputs": [],
   "source": []
  },
  {
   "cell_type": "code",
   "execution_count": null,
   "id": "6de4ceae",
   "metadata": {},
   "outputs": [],
   "source": []
  },
  {
   "cell_type": "code",
   "execution_count": null,
   "id": "a46578e3",
   "metadata": {},
   "outputs": [],
   "source": []
  },
  {
   "cell_type": "code",
   "execution_count": null,
   "id": "e02ac0ad",
   "metadata": {},
   "outputs": [],
   "source": []
  },
  {
   "cell_type": "code",
   "execution_count": null,
   "id": "980037bb",
   "metadata": {},
   "outputs": [],
   "source": []
  }
 ],
 "metadata": {
  "kernelspec": {
   "display_name": "py39",
   "language": "python",
   "name": "py39"
  },
  "language_info": {
   "codemirror_mode": {
    "name": "ipython",
    "version": 3
   },
   "file_extension": ".py",
   "mimetype": "text/x-python",
   "name": "python",
   "nbconvert_exporter": "python",
   "pygments_lexer": "ipython3",
   "version": "3.9.13"
  }
 },
 "nbformat": 4,
 "nbformat_minor": 5
}
