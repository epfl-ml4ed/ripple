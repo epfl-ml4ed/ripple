{
 "cells": [
  {
   "cell_type": "code",
   "execution_count": 1,
   "id": "5b16a522",
   "metadata": {},
   "outputs": [],
   "source": [
    "import numpy as np\n",
    "import pandas as pd\n",
    "import os\n",
    "from sklearn.model_selection import train_test_split"
   ]
  },
  {
   "cell_type": "markdown",
   "id": "ac9c1509",
   "metadata": {},
   "source": [
    "## Unified train, val, and test sets to be used both on Raindrop and all the baselines\n",
    "In order for the model comparisons to be fair, we use a single script to prepare the train, validation, and test indices for each of the courses. Each model then reads the same indices and uses it to stratify the data. We found this approach specifically more efficient than keeping a random seed for two reasons:\n",
    "1. To handle missing data, students with no interactions, etc. just once and for all the models.\n",
    "2. To keep track of individual students and their predictions accross various models."
   ]
  },
  {
   "cell_type": "code",
   "execution_count": 2,
   "id": "3272618b",
   "metadata": {},
   "outputs": [],
   "source": [
    "data_path = '/../data'\n",
    "easy_fail_path = os.path.join(data_path, 'extracting_concepts')\n",
    "mooc_path = os.path.join(data_path, 'mooc')"
   ]
  },
  {
   "cell_type": "code",
   "execution_count": 3,
   "id": "a121c473",
   "metadata": {},
   "outputs": [],
   "source": [
    "week_type = 'eq_week'\n",
    "feature_type = \"boroujeni_et_al\""
   ]
  },
  {
   "cell_type": "code",
   "execution_count": 4,
   "id": "77faba0c",
   "metadata": {},
   "outputs": [],
   "source": [
    "courses_list = ['villesafricaines_002.csv',\n",
    " 'villesafricaines_003.csv',\n",
    " 'microcontroleurs_004.csv',\n",
    " 'dsp_004.csv',\n",
    " 'hwts_001.csv',\n",
    " 'dsp_001.csv',\n",
    " 'progfun_002.csv',\n",
    " 'microcontroleurs_003.csv',\n",
    " 'geomatique_003.csv',\n",
    " 'villesafricaines_001.csv',\n",
    " 'progfun_003.csv',\n",
    " 'dsp_002.csv',\n",
    " 'structures_002.csv',\n",
    " 'initprogcpp_001.csv',\n",
    " 'analysenumerique_003.csv',\n",
    " 'microcontroleurs_006.csv',\n",
    " 'dsp_005.csv',\n",
    " 'hwts_002.csv',\n",
    " 'dsp_006.csv',\n",
    " 'analysenumerique_002.csv',\n",
    " 'structures_003.csv',\n",
    " 'microcontroleurs_005.csv',\n",
    " 'venture_001.csv',\n",
    " 'analysenumerique_001.csv',\n",
    " 'cpp_fr_001.csv',\n",
    " 'structures_001.csv']\n",
    "courses_list = [i.split('.')[0] for i in courses_list]"
   ]
  },
  {
   "cell_type": "code",
   "execution_count": 5,
   "id": "b4aeaf72",
   "metadata": {},
   "outputs": [],
   "source": [
    "train_size = 0.8\n",
    "val_size = 0.1\n",
    "test_size = 0.1"
   ]
  },
  {
   "cell_type": "code",
   "execution_count": 6,
   "id": "01a1bcdb",
   "metadata": {},
   "outputs": [
    {
     "name": "stdout",
     "output_type": "stream",
     "text": [
      "course: villesafricaines_002 with a balance of: 0.922\n",
      "course: villesafricaines_003 with a balance of: 0.8950301904319554\n",
      "course: microcontroleurs_004 with a balance of: 0.9179342058719491\n",
      "course: dsp_004 with a balance of: 0.8368876080691643\n",
      "course: hwts_001 with a balance of: 0.5428571428571428\n",
      "course: dsp_001 with a balance of: 0.7303510960613081\n",
      "course: progfun_002 with a balance of: 0.18252551020408164\n",
      "course: microcontroleurs_003 with a balance of: 0.5061728395061729\n",
      "course: geomatique_003 with a balance of: 0.5486725663716814\n",
      "course: villesafricaines_001 with a balance of: 0.8864602307225258\n",
      "course: progfun_003 with a balance of: 0.47928558276560485\n",
      "course: dsp_002 with a balance of: 0.7664821338701561\n",
      "course: structures_002 with a balance of: 0.15463917525773196\n",
      "course: initprogcpp_001 with a balance of: 0.3658872077028886\n",
      "course: analysenumerique_003 with a balance of: 0.25272331154684097\n",
      "course: microcontroleurs_006 with a balance of: 0.891156462585034\n",
      "course: dsp_005 with a balance of: 0.8284069097888676\n",
      "course: hwts_002 with a balance of: 0.5063538611925709\n",
      "course: dsp_006 with a balance of: 0.7597004765146358\n",
      "course: analysenumerique_002 with a balance of: 0.2837301587301587\n",
      "course: structures_003 with a balance of: 0.6878612716763006\n",
      "course: microcontroleurs_005 with a balance of: 0.9200454717696097\n",
      "course: venture_001 with a balance of: 0.9697630922693267\n",
      "course: analysenumerique_001 with a balance of: 0.9148514851485149\n",
      "course: cpp_fr_001 with a balance of: 0.6151898734177215\n",
      "course: structures_001 with a balance of: 0.3368421052631579\n"
     ]
    }
   ],
   "source": [
    "for course in courses_list:\n",
    "    # Read a sample easy_fail_features file for the course\n",
    "    easy_fail_list = pd.read_csv(\n",
    "        os.path.join(easy_fail_path, \n",
    "                     f\"{week_type}-{feature_type}-{course.replace('-', '_')}\", \n",
    "                     'feature_labels.csv'))   \n",
    "    \n",
    "    \n",
    "    students_num = len(easy_fail_list)\n",
    "    args = np.arange(students_num)\n",
    "    # We need labels to stratify the splitting for making sure a good balance is preserved\n",
    "    labels = list(easy_fail_list['label-pass-fail'].apply(int))\n",
    "    \n",
    "    # Split just the arguments so we can use them everywhere (assuming no shuffling happended anywhere)\n",
    "    args_train, args_test, _, labels_test = train_test_split(args, \n",
    "                                                           labels, \n",
    "                                                           train_size = train_size, \n",
    "                                                           stratify = labels, \n",
    "                                                           random_state = 1)\n",
    "    args_val, args_test = train_test_split(args_test, \n",
    "                                           train_size = 0.5, \n",
    "                                           stratify = labels_test, \n",
    "                                           random_state = 0)\n",
    "    \n",
    "    np.save(os.path.join(data_path, 'split_args', f\"split_{course.replace('-','_')}.npy\"), \n",
    "            np.asanyarray([args_train, args_val, args_test], dtype=object))\n",
    "    print(f\"course: {course} with a balance of: {sum(labels)/len(labels)}\")"
   ]
  }
 ],
 "metadata": {
  "kernelspec": {
   "display_name": "py39",
   "language": "python",
   "name": "py39"
  },
  "language_info": {
   "codemirror_mode": {
    "name": "ipython",
    "version": 3
   },
   "file_extension": ".py",
   "mimetype": "text/x-python",
   "name": "python",
   "nbconvert_exporter": "python",
   "pygments_lexer": "ipython3",
   "version": "3.9.12"
  }
 },
 "nbformat": 4,
 "nbformat_minor": 5
}
