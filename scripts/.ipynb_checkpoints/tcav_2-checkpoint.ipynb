{
 "cells": [
  {
   "cell_type": "code",
   "execution_count": null,
   "id": "88cc02ba",
   "metadata": {},
   "outputs": [],
   "source": []
  },
  {
   "cell_type": "markdown",
   "id": "df59df94",
   "metadata": {},
   "source": [
    "### Remove saved concepts when trying new course"
   ]
  },
  {
   "cell_type": "code",
   "execution_count": 1,
   "id": "0b27ee5a",
   "metadata": {},
   "outputs": [
    {
     "name": "stdout",
     "output_type": "stream",
     "text": [
      "rm: cannot remove 'cav': No such file or directory\r\n"
     ]
    }
   ],
   "source": [
    "%rm -r cav\n",
    "%rm -r Raindrop/code/cav"
   ]
  },
  {
   "cell_type": "code",
   "execution_count": 2,
   "id": "2c7ca7b2",
   "metadata": {},
   "outputs": [
    {
     "name": "stderr",
     "output_type": "stream",
     "text": [
      "/opt/conda/envs/py39/lib/python3.9/site-packages/tqdm/auto.py:22: TqdmWarning: IProgress not found. Please update jupyter and ipywidgets. See https://ipywidgets.readthedocs.io/en/stable/user_install.html\n",
      "  from .autonotebook import tqdm as notebook_tqdm\n"
     ]
    }
   ],
   "source": [
    "import numpy as np\n",
    "import os\n",
    "import pandas as pd\n",
    "import ast\n",
    "from matplotlib import pyplot as plt\n",
    "\n",
    "from captum.attr import LayerGradientXActivation, LayerIntegratedGradients\n",
    "\n",
    "from captum.concept import TCAV\n",
    "from captum.concept import Concept\n",
    "\n",
    "from captum.concept._utils.data_iterator import dataset_to_dataloader, CustomIterableDataset\n",
    "from captum.concept._utils.common import concepts_to_str\n",
    "from scipy.stats import ttest_ind\n",
    "import torch\n",
    "import random\n",
    "import seaborn as sns"
   ]
  },
  {
   "cell_type": "code",
   "execution_count": 3,
   "id": "0b78b5cd",
   "metadata": {},
   "outputs": [
    {
     "name": "stdout",
     "output_type": "stream",
     "text": [
      "/../RIPPLE/Raindrop/code\n"
     ]
    }
   ],
   "source": [
    "%cd Raindrop/code\n",
    "from models_rd import *\n",
    "from utils_rd import *"
   ]
  },
  {
   "cell_type": "code",
   "execution_count": 4,
   "id": "6d0b6ce3",
   "metadata": {},
   "outputs": [],
   "source": [
    "Target = 1\n",
    "test_target = 1\n",
    "num_rands = 100\n",
    "d_inp = 12\n",
    "np.random.seed(1)\n",
    "torch.manual_seed(1)\n",
    "torch.cuda.manual_seed(1)\n",
    "random.seed(0)\n",
    "base_path = '/../data/prep_data'\n",
    "data_path = '/../data'\n",
    "easy_fail_path = '/../data/extracting_concepts/'\n",
    "MOOC = 'villesafricaines-001'\n",
    "percentile = 40\n",
    "Pdict_list = np.load(os.path.join(base_path, f\"{MOOC}_{percentile}_data_hard_fail.npy\"), allow_pickle=True)\n",
    "arr_outcomes = np.load(os.path.join(base_path, f\"{MOOC}_{percentile}_y_hard_fail.npy\"), allow_pickle=True)"
   ]
  },
  {
   "cell_type": "code",
   "execution_count": 5,
   "id": "56e8469e",
   "metadata": {},
   "outputs": [],
   "source": [
    "marras_feats = pd.read_csv(f'/../data/extracting_concepts/eq_week-marras_et_al-{MOOC.replace(\"-\", \"_\")}/feature_labels.csv')\n",
    "number_id_mapping = pd.read_csv(f'/../data/extracting_concepts/user_id_mapping-{MOOC.replace(\"-\", \"_\")}.csv')\n",
    "\n",
    "hard_fail_idx = number_id_mapping.merge(marras_feats, on='Unnamed: 0', how='inner')['Unnamed: 0']\n",
    "number_id_mapping = number_id_mapping.merge(marras_feats, on='Unnamed: 0', how='inner')[['user_id', 'label-pass-fail']]\n"
   ]
  },
  {
   "cell_type": "code",
   "execution_count": 6,
   "id": "9abdb93d",
   "metadata": {},
   "outputs": [],
   "source": [
    "marras_features = np.load(f\"{easy_fail_path}/eq_week-marras_et_al-{MOOC.replace('-', '_')}/feature_values.npz\")['feature_values']\n",
    "boroujeni_features = np.load(f\"{easy_fail_path}/eq_week-boroujeni_et_al-{MOOC.replace('-', '_')}/feature_values.npz\")['feature_values']\n",
    "chen_features = np.load(f\"{easy_fail_path}/eq_week-chen_cui-{MOOC.replace('-', '_')}/feature_values.npz\")['feature_values']\n",
    "lalle_features = np.load(f\"{easy_fail_path}/eq_week-lalle_conati-{MOOC.replace('-', '_')}/feature_values.npz\")['feature_values']\n",
    "mubarak_features = np.load(f\"{easy_fail_path}/eq_week-mubarak_et_al-{MOOC.replace('-', '_')}/feature_values.npz\")['feature_values']\n",
    "\n",
    "mubarak_features = mubarak_features[hard_fail_idx]\n",
    "\n",
    "marras_features = np.nan_to_num(marras_features, nan=0)\n",
    "boroujeni_features = np.nan_to_num(boroujeni_features, nan=0)\n",
    "chen_features = np.nan_to_num(chen_features, nan=0)\n",
    "lalle_features = np.nan_to_num(lalle_features, nan=0)\n",
    "mubarak_features = np.nan_to_num(mubarak_features, nan=0)\n",
    "\n",
    "marras_names = open(f\"{easy_fail_path}/eq_week-marras_et_al-{MOOC.replace('-', '_')}/settings.txt\", 'r').read()\n",
    "marras_names = ast.literal_eval(marras_names)['feature_names']\n",
    "boroujeni_names = open(f\"{easy_fail_path}/eq_week-boroujeni_et_al-{MOOC.replace('-', '_')}/settings.txt\", 'r').read()\n",
    "boroujeni_names = ast.literal_eval(boroujeni_names)['feature_names']\n",
    "chen_names = open(f\"{easy_fail_path}/eq_week-chen_cui-{MOOC.replace('-', '_')}/settings.txt\", 'r').read()\n",
    "chen_names = ast.literal_eval(chen_names)['feature_names']\n",
    "lalle_names = open(f\"{easy_fail_path}/eq_week-lalle_conati-{MOOC.replace('-', '_')}/settings.txt\", 'r').read()\n",
    "lalle_names = ast.literal_eval(lalle_names)['feature_names']\n",
    "mubarak_names = open(f\"{easy_fail_path}/eq_week-mubarak_et_al-{MOOC.replace('-', '_')}/settings.txt\", 'r').read()\n",
    "mubarak_names = ast.literal_eval(mubarak_names)['feature_names']\n",
    "\n",
    "marras_names = [f\"{'_'.join(name.split('_')[:-1])} {name.split('_')[-1].split(' ')[1]}\" if 'function ' in name else name for name in marras_names]\n",
    "boroujeni_names = [f\"{'_'.join(name.split('_')[:-1])} {name.split('_')[-1].split(' ')[1]}\" if 'function ' in name else name for name in boroujeni_names]\n",
    "chen_names = [f\"{'_'.join(name.split('_')[:-1])} {name.split('_')[-1].split(' ')[1]}\" if 'function ' in name else name for name in chen_names]\n",
    "lalle_names = [f\"{'_'.join(name.split('_')[:-1])} {name.split('_')[-1].split(' ')[1]}\" if 'function ' in name else name for name in lalle_names]\n",
    "mubarak_names = [f\"{'_'.join(name.split('_')[:-1])} {name.split('_')[-1].split(' ')[1]}\" if 'function ' in name else name for name in mubarak_names]\n",
    "\n",
    "features_df = pd.DataFrame()\n",
    "features_df['user_id'] = number_id_mapping['user_id']\n",
    "features_df['label-pass-fail'] = number_id_mapping['label-pass-fail']\n",
    "features_df[marras_names] = [[student[:, i] for i in range(marras_features.shape[2])] for student in marras_features]\n",
    "features_df[boroujeni_names] = [[student[:, i] for i in range(boroujeni_features.shape[2])] for student in boroujeni_features]\n",
    "features_df[chen_names] = [[student[:, i] for i in range(chen_features.shape[2])] for student in chen_features]\n",
    "features_df[lalle_names] = [[student[:, i] for i in range(lalle_features.shape[2])] for student in lalle_features]\n",
    "features_df[mubarak_names] = [[student[:, i] for i in range(mubarak_features.shape[2])] for student in mubarak_features]\n",
    "\n",
    "features_df['relative_time_online'] = features_df['time_sessions sum'].apply(lambda x: [i/sum(x) for i in x] if sum(x) != 0 else x)\n",
    "features_df['relative_video_clicks'] = features_df['total_clicks_video'].apply(lambda x: [i/sum(x) for i in x] if sum(x) != 0 else x)\n",
    "\n",
    "\n",
    "boroujeni_lq_features = np.load(f\"{easy_fail_path}/lq_week-boroujeni_et_al-{MOOC.replace('-', '_')}/feature_values.npz\", allow_pickle=True)['feature_values']\n",
    "boroujeni_lq_features = boroujeni_lq_features[hard_fail_idx]\n",
    "boroujeni_features = np.nan_to_num(boroujeni_lq_features, nan=0)\n",
    "\n",
    "boroujeni_lq_names = open(f\"{easy_fail_path}/lq_week-boroujeni_et_al-{MOOC.replace('-', '_')}/settings.txt\", 'r').read()\n",
    "boroujeni_lq_names = ast.literal_eval(boroujeni_lq_names)['feature_names']\n",
    "boroujeni_lq_names = [f\"{'_'.join(name.split('_')[:-1])} {name.split('_')[-1].split(' ')[1]}\" if 'function ' in name else name for name in boroujeni_lq_names]\n",
    "boroujeni_lq_features = boroujeni_lq_features[:, -1]\n",
    "features_df[boroujeni_lq_names[-3:]] = [student[-3:] for student in boroujeni_lq_features]\n",
    "\n"
   ]
  },
  {
   "cell_type": "code",
   "execution_count": 7,
   "id": "7569a989",
   "metadata": {},
   "outputs": [],
   "source": [
    "args_train, args_val, args_test = np.load(os.path.join(data_path, \n",
    "                                                               'split_args', f\"split_{MOOC.replace('-', '_')}.npy\"),\n",
    "                                                 allow_pickle=True)\n",
    "Ptrain = Pdict_list[args_train]\n",
    "Pval = Pdict_list[args_val]\n",
    "Ptest = Pdict_list[args_test]\n",
    "ytrain = arr_outcomes[args_train, :]\n",
    "yval = arr_outcomes[args_val, :]\n",
    "ytest = arr_outcomes[args_test, :]\n",
    "\n",
    "\n",
    "train_zero_indices = [i for i, item in enumerate(Ptrain) if item['length'] == 0]\n",
    "#zero_Ptrain = Ptrain[zero_indices]\n",
    "Ptrain = np.delete(Ptrain, train_zero_indices, axis=0)\n",
    "ytrain = np.delete(ytrain, train_zero_indices, axis=0)\n",
    "\n",
    "val_zero_indices = [i for i, item in enumerate(Pval) if item['length'] == 0]\n",
    "#zero_Ptrain = Ptrain[zero_indices]\n",
    "Pval = np.delete(Pval, val_zero_indices, axis=0)\n",
    "yval = np.delete(yval, val_zero_indices, axis=0)\n",
    "\n",
    "test_zero_indices = [i for i, item in enumerate(Ptest) if item['length'] == 0]\n",
    "zero_ytest = ytest[test_zero_indices]\n",
    "Ptest = np.delete(Ptest, test_zero_indices, axis=0)  \n",
    "ytest = np.delete(ytest, test_zero_indices, axis=0)"
   ]
  },
  {
   "cell_type": "code",
   "execution_count": 8,
   "id": "e90908c3",
   "metadata": {},
   "outputs": [
    {
     "name": "stderr",
     "output_type": "stream",
     "text": [
      "/opt/conda/envs/py39/lib/python3.9/site-packages/numpy/core/fromnumeric.py:86: VisibleDeprecationWarning: Creating an ndarray from ragged nested sequences (which is a list-or-tuple of lists-or-tuples-or ndarrays with different lengths or shapes) is deprecated. If you meant to do this, you must specify 'dtype=object' when creating the ndarray.\n",
      "  return ufunc.reduce(obj, axis, dtype, out, **passkwargs)\n"
     ]
    }
   ],
   "source": [
    "T, F = Ptrain[0]['arr'].shape\n",
    "D = len(Ptrain[0]['extended_static'])\n",
    "\n",
    "Ptrain_tensor = np.zeros((len(Ptrain), T, F))\n",
    "Ptrain_static_tensor = np.zeros((len(Ptrain), D))\n",
    "\n",
    "for i in range(len(Ptrain)):\n",
    "    Ptrain_tensor[i] = Ptrain[i]['arr']\n",
    "    Ptrain_static_tensor[i] = Ptrain[i]['extended_static']\n",
    "\n",
    "mf, stdf = getStats(Ptrain_tensor)\n",
    "ms, ss = getStats_static(Ptrain_static_tensor, dataset='P12')\n",
    "\n",
    "Ptrain_tensor, Ptrain_static_tensor, Ptrain_time_tensor, ytrain_tensor = tensorize_normalize(Ptrain, ytrain, mf,\n",
    "                                                                                             stdf, ms, ss)\n",
    "Pval_tensor, Pval_static_tensor, Pval_time_tensor, yval_tensor = tensorize_normalize(Pval, yval, mf, stdf, ms, ss)\n",
    "\n",
    "Ptest_tensor, Ptest_static_tensor, Ptest_time_tensor, ytest_tensor = tensorize_normalize(Ptest, ytest, mf, stdf, ms, ss)\n",
    "\n",
    "\n",
    "Ptrain_tensor = Ptrain_tensor.permute(1, 0, 2)\n",
    "Pval_tensor = Pval_tensor.permute(1, 0, 2)\n",
    "Ptest_tensor = Ptest_tensor.permute(1, 0, 2)\n",
    "\n",
    "Ptrain_time_tensor = Ptrain_time_tensor.squeeze(2).permute(1, 0)\n",
    "Pval_time_tensor = Pval_time_tensor.squeeze(2).permute(1, 0)\n",
    "Ptest_time_tensor = Ptest_time_tensor.squeeze(2).permute(1, 0)"
   ]
  },
  {
   "cell_type": "code",
   "execution_count": 9,
   "id": "edd1fdee",
   "metadata": {},
   "outputs": [],
   "source": [
    "P_tensor = torch.cat([Ptrain_tensor, Pval_tensor], axis=1)\n",
    "P_static_tensor = torch.cat([Ptrain_static_tensor, Pval_static_tensor])\n",
    "P_time_tensor = torch.cat([Ptrain_time_tensor, Pval_time_tensor], axis=1)\n",
    "y_tensor = torch.cat([ytrain_tensor, yval_tensor])\n",
    "\n",
    "user_id_list = [item['id'] for item in Ptrain]\n",
    "user_id_list += [item['id'] for item in Pval]"
   ]
  },
  {
   "cell_type": "code",
   "execution_count": 10,
   "id": "36a88971",
   "metadata": {},
   "outputs": [],
   "source": [
    "features_df = features_df.drop(args_test, axis=0)\n",
    "features_df = features_df.drop(args_train[train_zero_indices])\n",
    "features_df = features_df.drop(args_val[val_zero_indices])\n",
    "\n",
    "features_df = features_df.reset_index(drop=True)"
   ]
  },
  {
   "cell_type": "code",
   "execution_count": 11,
   "id": "9fcc56e9",
   "metadata": {},
   "outputs": [],
   "source": [
    "num_con_students = P_tensor.shape[1]\n",
    "num_test_students = Ptest_tensor.shape[1]\n",
    "assert num_con_students == len(features_df)"
   ]
  },
  {
   "cell_type": "markdown",
   "id": "cf61e016",
   "metadata": {},
   "source": [
    "# Extracting user_ids corresponding to a rule"
   ]
  },
  {
   "cell_type": "markdown",
   "id": "3c712ed7",
   "metadata": {},
   "source": [
    "### Random concepts"
   ]
  },
  {
   "cell_type": "code",
   "execution_count": 12,
   "id": "8c0f208e",
   "metadata": {},
   "outputs": [],
   "source": [
    "rand_concepts = []\n",
    "\n",
    "for rand_idx in range(num_rands):\n",
    "    rand_args = np.random.choice(num_con_students, size=(100,), replace=False)\n",
    "    \n",
    "    rand_P_tensor = P_tensor[:, rand_args, :]\n",
    "    rand_P_static_tensor = P_static_tensor[rand_args]\n",
    "    rand_P_time_tensor = P_time_tensor[:, rand_args]\n",
    "    rand_y_tensor = y_tensor[rand_args]\n",
    "    \n",
    "    rand_concept = Concept(id=1000+rand_idx, name=f\"rand_{rand_idx}\", data_iter=dataset_to_dataloader(tuple([{'src': rand_P_tensor.cuda(), \n",
    "                                                                        'static': rand_P_static_tensor.cuda(),\n",
    "                                                                        'times': rand_P_time_tensor.cuda(),\n",
    "                                                                        'lengths': torch.sum(rand_P_time_tensor > 0, dim=0).cuda()\n",
    "                                                                              }])))\n",
    "    rand_concepts.append(rand_concept)\n",
    "    "
   ]
  },
  {
   "cell_type": "code",
   "execution_count": 13,
   "id": "4b0f93f8",
   "metadata": {},
   "outputs": [
    {
     "data": {
      "text/plain": [
       "tensor([0.7576])"
      ]
     },
     "execution_count": 13,
     "metadata": {},
     "output_type": "execute_result"
    }
   ],
   "source": [
    "torch.rand(1)"
   ]
  },
  {
   "cell_type": "markdown",
   "id": "c6d9af91",
   "metadata": {},
   "source": [
    "# Defining rule functions"
   ]
  },
  {
   "cell_type": "code",
   "execution_count": 14,
   "id": "7f592fce",
   "metadata": {},
   "outputs": [],
   "source": [
    "def give_top_bot_percent(input_series, n):\n",
    "    series = input_series[input_series != 0]\n",
    "    return series.iloc[np.argsort(series)[-int(len(series)*n):]], series.iloc[np.argsort(series)[:int(len(series)*n)]]"
   ]
  },
  {
   "cell_type": "code",
   "execution_count": 15,
   "id": "ca834957",
   "metadata": {},
   "outputs": [],
   "source": [
    "experimental_sets = []"
   ]
  },
  {
   "cell_type": "markdown",
   "id": "634d0e1f",
   "metadata": {},
   "source": [
    "## Effort concept:"
   ]
  },
  {
   "cell_type": "code",
   "execution_count": 16,
   "id": "2d8c1002",
   "metadata": {},
   "outputs": [],
   "source": [
    "def effort(features_df, n):\n",
    "    # Top: Intersection\n",
    "    # Bot: Union\n",
    "    effort_df = features_df[['user_id', 'time_sessions sum', 'total_clicks_video']]\n",
    "    \n",
    "    top_time_sessions_sum, bot_time_sessions_sum = give_top_bot_percent(effort_df['time_sessions sum'].apply(sum), n)\n",
    "    top_total_video_clicks, bot_total_video_clicks = give_top_bot_percent(effort_df['total_clicks_video'].apply(sum), n)\n",
    "    \n",
    "    top_intersection = np.array(list(set(top_time_sessions_sum.index).intersection(top_total_video_clicks.index)))\n",
    "    bot_intersection = np.array(list(set(bot_time_sessions_sum.index).union(bot_total_video_clicks.index)))\n",
    "    \n",
    "    lim = np.min([len(top_intersection), len(bot_intersection)])\n",
    "    \n",
    "    top_intersection = top_intersection[np.random.choice(len(top_intersection), size=(lim,), replace=False)] if len(top_intersection) > lim else top_intersection\n",
    "    bot_intersection = bot_intersection[np.random.choice(len(bot_intersection), size=(lim,), replace=False)] if len(bot_intersection) > lim else bot_intersection\n",
    "    \n",
    "    return top_intersection, bot_intersection"
   ]
  },
  {
   "cell_type": "code",
   "execution_count": 17,
   "id": "62e75e21",
   "metadata": {},
   "outputs": [
    {
     "name": "stdout",
     "output_type": "stream",
     "text": [
      "111\n",
      "111\n"
     ]
    }
   ],
   "source": [
    "top_effort_args, bot_effort_args = effort(features_df, 0.05)\n",
    "\n",
    "top_effort_P_tensor = P_tensor[:, top_effort_args, :]\n",
    "top_effort_P_static_tensor = P_static_tensor[top_effort_args]\n",
    "top_effort_P_time_tensor = P_time_tensor[:, top_effort_args]\n",
    "top_effort_y_tensor = y_tensor[top_effort_args]\n",
    "\n",
    "top_effort_con = Concept(id=0, name=\"High Effort\", data_iter=dataset_to_dataloader(tuple([{'src': top_effort_P_tensor.cuda(), \n",
    "                                                                    'static': top_effort_P_static_tensor.cuda(),\n",
    "                                                                    'times': top_effort_P_time_tensor.cuda(),\n",
    "                                                                    'lengths': torch.sum(top_effort_P_time_tensor > 0, dim=0).cuda()\n",
    "                                                                          }])))\n",
    "\n",
    "bot_effort_P_tensor = P_tensor[:, bot_effort_args, :]\n",
    "bot_effort_P_static_tensor = P_static_tensor[bot_effort_args]\n",
    "bot_effort_P_time_tensor = P_time_tensor[:, bot_effort_args]\n",
    "bot_effort_y_tensor = y_tensor[bot_effort_args]\n",
    "\n",
    "bot_effort_con = Concept(id=1, name=\"Low Effort\", data_iter=dataset_to_dataloader(tuple([{'src': bot_effort_P_tensor.cuda(), \n",
    "                                                                    'static': bot_effort_P_static_tensor.cuda(),\n",
    "                                                                    'times': bot_effort_P_time_tensor.cuda(),\n",
    "                                                                    'lengths': torch.sum(bot_effort_P_time_tensor > 0, dim=0).cuda()\n",
    "                                                                          }])))\n",
    "\n",
    "\n",
    "#for rand_concept in rand_concepts:\n",
    "#    experimental_sets.append([top_effort_con, rand_concept])\n",
    "#for rand_concept in rand_concepts:\n",
    "#    experimental_sets.append([bot_effort_con, rand_concept])   \n",
    "if len(top_effort_args) > 0:\n",
    "    for rand_concept in rand_concepts:\n",
    "        experimental_sets.append([top_effort_con, bot_effort_con, rand_concept])\n",
    "    \n",
    "print(len(top_effort_args))\n",
    "print(len(bot_effort_args))"
   ]
  },
  {
   "cell_type": "markdown",
   "id": "2f1dc4f3",
   "metadata": {},
   "source": [
    "### "
   ]
  },
  {
   "cell_type": "markdown",
   "id": "d77b23f7",
   "metadata": {},
   "source": [
    "## Consistency concept:"
   ]
  },
  {
   "cell_type": "code",
   "execution_count": 18,
   "id": "161efc36",
   "metadata": {},
   "outputs": [],
   "source": [
    "def consistency(features_df, n, add_mean_session = True):\n",
    "    add_mean_session = True\n",
    "    consistency_df = features_df[['relative_time_online', 'relative_video_clicks', 'time_sessions mean']]\n",
    "\n",
    "\n",
    "    ratio_1 = consistency_df['relative_time_online'].apply(lambda x: sum(x[int(len(x)/2):])/sum(x[:int(len(x)/2)]))\n",
    "    ratio_1.replace([np.inf, -np.inf], np.nan, inplace=True)\n",
    "    ratio_1.fillna(0, inplace=True)\n",
    "\n",
    "\n",
    "\n",
    "\n",
    "\n",
    "    ratio_2 = consistency_df['relative_video_clicks'].apply(lambda x: sum(x[int(len(x)/2):])/sum(x[:int(len(x)/2)]))\n",
    "    ratio_2.replace([np.inf, -np.inf], np.nan, inplace=True)\n",
    "    ratio_2.fillna(0, inplace=True)    \n",
    "\n",
    "\n",
    "\n",
    "    ratio_3 = consistency_df['relative_video_clicks'].apply(lambda x: sum(x[int(len(x)/2):])/sum(x[:int(len(x)/2)]))\n",
    "    ratio_3.replace([np.inf, -np.inf], np.nan, inplace=True)\n",
    "    ratio_3.fillna(0, inplace=True)   \n",
    "\n",
    "    ratio = (ratio_1 + ratio_2 + ratio_3)/3 if add_mean_session else (ratio_1 + ratio_2)/2\n",
    "\n",
    "\n",
    "    first_half, second_half = give_top_bot_percent(ratio, n)\n",
    "    _, uniform = give_top_bot_percent(np.abs(ratio - 1), n)\n",
    "\n",
    "    first_half = np.array(first_half.index)\n",
    "    second_half = np.array(second_half.index)\n",
    "    uniform = np.array(uniform.index)\n",
    "\n",
    "    lim = np.min([len(first_half), len(uniform)])\n",
    "\n",
    "    first_half = first_half[np.random.choice(len(first_half), size=(lim,), replace=False)] if len(first_half) > lim else first_half\n",
    "    second_half = second_half[np.random.choice(len(second_half), size=(lim,), replace=False)] if len(second_half) > lim else second_half\n",
    "    uniform = uniform[np.random.choice(len(uniform), size=(lim,), replace=False)] if len(uniform) > lim else uniform\n",
    "\n",
    "\n",
    "    return first_half, second_half, uniform\n"
   ]
  },
  {
   "cell_type": "code",
   "execution_count": 19,
   "id": "45396c9e",
   "metadata": {},
   "outputs": [
    {
     "name": "stdout",
     "output_type": "stream",
     "text": [
      "94\n",
      "94\n",
      "94\n"
     ]
    }
   ],
   "source": [
    "first_half_args, second_half_args, uniform_args = consistency(features_df, 0.1)\n",
    "\n",
    "first_half_P_tensor = P_tensor[:, first_half_args, :]\n",
    "first_half_P_static_tensor = P_static_tensor[first_half_args]\n",
    "first_half_P_time_tensor = P_time_tensor[:, first_half_args]\n",
    "first_half_y_tensor = y_tensor[first_half_args]\n",
    "\n",
    "first_half_con = Concept(id=10, name=\"First Half Consistency\", data_iter=dataset_to_dataloader(tuple([{'src': first_half_P_tensor.cuda(), \n",
    "                                                                    'static': first_half_P_static_tensor.cuda(),\n",
    "                                                                    'times': first_half_P_time_tensor.cuda(),\n",
    "                                                                    'lengths': torch.sum(first_half_P_time_tensor > 0, dim=0).cuda()\n",
    "                                                                          }])))\n",
    "\n",
    "\n",
    "second_half_P_tensor = P_tensor[:, second_half_args, :]\n",
    "second_half_P_static_tensor = P_static_tensor[second_half_args]\n",
    "second_half_P_time_tensor = P_time_tensor[:, second_half_args]\n",
    "second_half_y_tensor = y_tensor[second_half_args]\n",
    "\n",
    "second_half_con = Concept(id=11, name=\"Second Half Consistency\", data_iter=dataset_to_dataloader(tuple([{'src': second_half_P_tensor.cuda(), \n",
    "                                                                    'static': second_half_P_static_tensor.cuda(),\n",
    "                                                                    'times': second_half_P_time_tensor.cuda(),\n",
    "                                                                    'lengths': torch.sum(second_half_P_time_tensor > 0, dim=0).cuda()\n",
    "                                                                          }])))\n",
    "\n",
    "uniform_P_tensor = P_tensor[:, uniform_args, :]\n",
    "uniform_P_static_tensor = P_static_tensor[uniform_args]\n",
    "uniform_P_time_tensor = P_time_tensor[:, uniform_args]\n",
    "uniform_y_tensor = y_tensor[uniform_args]\n",
    "\n",
    "uniform_con = Concept(id=12, name=\"Uniform Consistency\", data_iter=dataset_to_dataloader(tuple([{'src': uniform_P_tensor.cuda(), \n",
    "                                                                    'static': uniform_P_static_tensor.cuda(),\n",
    "                                                                    'times': uniform_P_time_tensor.cuda(),\n",
    "                                                                    'lengths': torch.sum(uniform_P_time_tensor > 0, dim=0).cuda()\n",
    "                                                                          }])))\n",
    "\n",
    "\n",
    "\n",
    "\n",
    "#for rand_concept in rand_concepts:\n",
    "#    experimental_sets.append([first_half_con, rand_concept])\n",
    "#for rand_concept in rand_concepts:\n",
    "#    experimental_sets.append([second_half_con, rand_concept])    \n",
    "#for rand_concept in rand_concepts:\n",
    "#    experimental_sets.append([uniform_con, rand_concept])  \n",
    "if len(first_half_args) > 0:\n",
    "    for rand_concept in rand_concepts:\n",
    "        experimental_sets.append([first_half_con, second_half_con, uniform_con, rand_concept])\n",
    "\n",
    "\n",
    "\n",
    "print(len(first_half_args))\n",
    "print(len(second_half_args))\n",
    "print(len(uniform_args))"
   ]
  },
  {
   "cell_type": "markdown",
   "id": "6e56ffca",
   "metadata": {},
   "source": [
    "## Regularity concept:"
   ]
  },
  {
   "cell_type": "code",
   "execution_count": 20,
   "id": "edfe8d3c",
   "metadata": {},
   "outputs": [],
   "source": [
    "\n",
    "def regularity(features_df, n):\n",
    "    # Top Intersection\n",
    "    # Bot Union\n",
    "    regularity_df = features_df[['user_id', 'regularity_periodicity_m1', 'regularity_periodicity_m2', 'regularity_periodicity_m3']]\n",
    "    top_m1, bot_m1 = give_top_bot_percent(regularity_df['regularity_periodicity_m1'], n)\n",
    "    top_m2, bot_m2 = give_top_bot_percent(regularity_df['regularity_periodicity_m2'], n)\n",
    "    top_m3, bot_m3 = give_top_bot_percent(regularity_df['regularity_periodicity_m3'], n)\n",
    "    \n",
    "    top_intersection = np.array(list(set(top_m1.index).intersection(top_m2.index).intersection(top_m3.index)))\n",
    "    bot_intersection = np.array(list(set(bot_m1.index).union(bot_m2.index).union(bot_m3.index)))\n",
    "    \n",
    "    lim = np.min([len(top_intersection), len(bot_intersection)])\n",
    "    \n",
    "    top_intersection = top_intersection[np.random.choice(len(top_intersection), size=(lim,), replace=False)] if len(top_intersection) > lim else top_intersection\n",
    "    bot_intersection = bot_intersection[np.random.choice(len(bot_intersection), size=(lim,), replace=False)] if len(bot_intersection) > lim else bot_intersection\n",
    "\n",
    "    \n",
    "    return top_intersection, bot_intersection"
   ]
  },
  {
   "cell_type": "code",
   "execution_count": 21,
   "id": "18b470fd",
   "metadata": {},
   "outputs": [
    {
     "name": "stdout",
     "output_type": "stream",
     "text": [
      "108\n",
      "108\n"
     ]
    }
   ],
   "source": [
    "top_regularity_args, bot_regularity_args = regularity(features_df, 0.06)\n",
    "\n",
    "top_regularity_P_tensor = P_tensor[:, top_regularity_args, :]\n",
    "top_regularity_P_static_tensor = P_static_tensor[top_regularity_args]\n",
    "top_regularity_P_time_tensor = P_time_tensor[:, top_regularity_args]\n",
    "top_regularity_y_tensor = y_tensor[top_regularity_args]\n",
    "\n",
    "top_regularity_con = Concept(id=20, name=\"High Regularity\", data_iter=dataset_to_dataloader(tuple([{'src': top_regularity_P_tensor.cuda(), \n",
    "                                                                    'static': top_regularity_P_static_tensor.cuda(),\n",
    "                                                                    'times': top_regularity_P_time_tensor.cuda(),\n",
    "                                                                    'lengths': torch.sum(top_regularity_P_time_tensor > 0, dim=0).cuda()\n",
    "                                                                          }])))\n",
    "\n",
    "bot_regularity_P_tensor = P_tensor[:, bot_regularity_args, :]\n",
    "bot_regularity_P_static_tensor = P_static_tensor[bot_regularity_args]\n",
    "bot_regularity_P_time_tensor = P_time_tensor[:, bot_regularity_args]\n",
    "bot_regularity_y_tensor = y_tensor[bot_regularity_args]\n",
    "\n",
    "bot_regularity_con = Concept(id=21, name=\"Low Regularity\", data_iter=dataset_to_dataloader(tuple([{'src': bot_regularity_P_tensor.cuda(), \n",
    "                                                                    'static': bot_regularity_P_static_tensor.cuda(),\n",
    "                                                                    'times': bot_regularity_P_time_tensor.cuda(),\n",
    "                                                                    'lengths': torch.sum(bot_regularity_P_time_tensor > 0, dim=0).cuda()\n",
    "                                                                          }])))\n",
    "\n",
    "#if len(top_regularity_args) > 0:\n",
    "#    for rand_concept in rand_concepts:\n",
    "#        experimental_sets.append([top_regularity_con, rand_concept])\n",
    "#        \n",
    "#if len(bot_regularity_args) > 0:\n",
    "#    for rand_concept in rand_concepts:\n",
    "#        experimental_sets.append([bot_regularity_con, rand_concept])    \n",
    "\n",
    "if len(top_regularity_args) > 0:\n",
    "    for rand_concept in rand_concepts:\n",
    "        experimental_sets.append([top_regularity_con, bot_regularity_con, rand_concept])\n",
    "\n",
    "    \n",
    "    \n",
    "print(len(top_regularity_args))\n",
    "print(len(bot_regularity_args))"
   ]
  },
  {
   "cell_type": "markdown",
   "id": "403d7f4b",
   "metadata": {},
   "source": [
    "## Proactivity concept:"
   ]
  },
  {
   "cell_type": "code",
   "execution_count": 22,
   "id": "deec4a62",
   "metadata": {},
   "outputs": [],
   "source": [
    "def proactivity(features_df, n):\n",
    "\n",
    "    # Top: Intersection\n",
    "    # Bot: Union\n",
    "    proactivity_df = features_df[['user_id', 'content_anticipation', 'delay_lecture']]\n",
    "    \n",
    "    top_anticipation, bot_anticipation = give_top_bot_percent(proactivity_df['content_anticipation'].apply(sum), n)\n",
    "    top_delay, bot_delay = give_top_bot_percent(proactivity_df['delay_lecture'].apply(sum), n)\n",
    "    \n",
    "    top_intersection = np.array(list(set(top_anticipation.index).union(bot_delay.index)))\n",
    "    bot_intersection = np.array(list(set(bot_anticipation.index).union(top_delay.index)))\n",
    "    \n",
    "    lim = np.min([len(top_intersection), len(bot_intersection)])\n",
    "    \n",
    "    top_intersection = top_intersection[np.random.choice(len(top_intersection), size=(lim,), replace=False)] if len(top_intersection) > lim else top_intersection\n",
    "    bot_intersection = bot_intersection[np.random.choice(len(bot_intersection), size=(lim,), replace=False)] if len(bot_intersection) > lim else bot_intersection\n",
    "    \n",
    "    return top_intersection, bot_intersection"
   ]
  },
  {
   "cell_type": "code",
   "execution_count": 23,
   "id": "c5cae808",
   "metadata": {},
   "outputs": [
    {
     "name": "stdout",
     "output_type": "stream",
     "text": [
      "101\n",
      "101\n"
     ]
    }
   ],
   "source": [
    "top_proactivity_args, bot_proactivity_args = proactivity(features_df, 0.04)\n",
    "\n",
    "top_proactivity_P_tensor = P_tensor[:, top_proactivity_args, :]\n",
    "top_proactivity_P_static_tensor = P_static_tensor[top_proactivity_args]\n",
    "top_proactivity_P_time_tensor = P_time_tensor[:, top_proactivity_args]\n",
    "top_proactivity_y_tensor = y_tensor[top_proactivity_args]\n",
    "\n",
    "top_proactivity_con = Concept(id=30, name=\"High Proactivity\", data_iter=dataset_to_dataloader(tuple([{'src': top_proactivity_P_tensor.cuda(), \n",
    "                                                                    'static': top_proactivity_P_static_tensor.cuda(),\n",
    "                                                                    'times': top_proactivity_P_time_tensor.cuda(),\n",
    "                                                                    'lengths': torch.sum(top_proactivity_P_time_tensor > 0, dim=0).cuda()\n",
    "                                                                          }])))\n",
    "\n",
    "bot_proactivity_P_tensor = P_tensor[:, bot_proactivity_args, :]\n",
    "bot_proactivity_P_static_tensor = P_static_tensor[bot_proactivity_args]\n",
    "bot_proactivity_P_time_tensor = P_time_tensor[:, bot_proactivity_args]\n",
    "bot_proactivity_y_tensor = y_tensor[bot_proactivity_args]\n",
    "\n",
    "bot_proactivity_con = Concept(id=31, name=\"Low Proactivity\", data_iter=dataset_to_dataloader(tuple([{'src': bot_proactivity_P_tensor.cuda(), \n",
    "                                                                    'static': bot_proactivity_P_static_tensor.cuda(),\n",
    "                                                                    'times': bot_proactivity_P_time_tensor.cuda(),\n",
    "                                                                    'lengths': torch.sum(bot_proactivity_P_time_tensor > 0, dim=0).cuda()\n",
    "                                                                          }])))\n",
    "\n",
    "\n",
    "#for rand_concept in rand_concepts:\n",
    "#    experimental_sets.append([top_proactivity_con, rand_concept])\n",
    "#for rand_concept in rand_concepts:\n",
    "#    experimental_sets.append([bot_proactivity_con, rand_concept])    \n",
    "\n",
    "if len(top_proactivity_args) > 0:\n",
    "    for rand_concept in rand_concepts:\n",
    "        experimental_sets.append([top_proactivity_con, bot_proactivity_con, rand_concept])\n",
    "\n",
    "\n",
    "print(len(top_proactivity_args))\n",
    "print(len(bot_proactivity_args))"
   ]
  },
  {
   "cell_type": "code",
   "execution_count": null,
   "id": "45e20336",
   "metadata": {},
   "outputs": [],
   "source": []
  },
  {
   "cell_type": "markdown",
   "id": "4bf01972",
   "metadata": {},
   "source": [
    "## Control concept:"
   ]
  },
  {
   "cell_type": "code",
   "execution_count": 24,
   "id": "d6e7180c",
   "metadata": {},
   "outputs": [],
   "source": [
    "def control(features_df, n):\n",
    "    # Waiting for more features\n",
    "    \n",
    "    control_df = features_df[['user_id', 'frequency_action_Video.Pause', 'fraction_spent_ratio_duration_Video.Play', 'speed_playback_ mean']]\n",
    "    \n",
    "    top_pause_freq, bot_pause_freq = give_top_bot_percent(control_df['frequency_action_Video.Pause'].apply(sum), n)\n",
    "    top_frac_spent, bot_frac_spent = give_top_bot_percent(control_df['fraction_spent_ratio_duration_Video.Play'].apply(sum), n)\n",
    "    top_change_rate, bot_change_rate = give_top_bot_percent(control_df['speed_playback_ mean'].apply(sum), n)\n",
    "    \n",
    "    top_intersection = np.array(list(set(top_pause_freq.index).union(top_frac_spent.index).union(top_change_rate.index)))\n",
    "    bot_intersection = np.array(list(set(bot_pause_freq.index).union(bot_frac_spent.index).union(bot_change_rate.index)))\n",
    "    #top_intersection = np.array(list(set(top_frac_spent.index).intersection(top_change_rate.index)))\n",
    "    #bot_intersection = np.array(list(set(bot_frac_spent.index).intersection(bot_change_rate.index)))\n",
    "   \n",
    "    lim = np.min([len(top_intersection), len(bot_intersection)])\n",
    "    \n",
    "    top_intersection = top_intersection[np.random.choice(len(top_intersection), size=(lim,), replace=False)] if len(top_intersection) > lim else top_intersection\n",
    "    bot_intersection = bot_intersection[np.random.choice(len(bot_intersection), size=(lim,), replace=False)] if len(bot_intersection) > lim else bot_intersection\n",
    "    \n",
    "    return top_intersection, bot_intersection"
   ]
  },
  {
   "cell_type": "code",
   "execution_count": 25,
   "id": "45de83d6",
   "metadata": {},
   "outputs": [
    {
     "name": "stdout",
     "output_type": "stream",
     "text": [
      "99\n",
      "99\n"
     ]
    }
   ],
   "source": [
    "top_control_args, bot_control_args = control(features_df, 0.015)\n",
    "\n",
    "top_control_P_tensor = P_tensor[:, top_control_args, :]\n",
    "top_control_P_static_tensor = P_static_tensor[top_control_args]\n",
    "top_control_P_time_tensor = P_time_tensor[:, top_control_args]\n",
    "top_control_y_tensor = y_tensor[top_control_args]\n",
    "\n",
    "top_control_con = Concept(id=40, name=\"High Control\", data_iter=dataset_to_dataloader(tuple([{'src': top_control_P_tensor.cuda(), \n",
    "                                                                    'static': top_control_P_static_tensor.cuda(),\n",
    "                                                                    'times': top_control_P_time_tensor.cuda(),\n",
    "                                                                    'lengths': torch.sum(top_control_P_time_tensor > 0, dim=0).cuda()\n",
    "                                                                          }])))\n",
    "\n",
    "bot_control_P_tensor = P_tensor[:, bot_control_args, :]\n",
    "bot_control_P_static_tensor = P_static_tensor[bot_control_args]\n",
    "bot_control_P_time_tensor = P_time_tensor[:, bot_control_args]\n",
    "bot_control_y_tensor = y_tensor[bot_control_args]\n",
    "\n",
    "bot_control_con = Concept(id=41, name=\"Low Control\", data_iter=dataset_to_dataloader(tuple([{'src': bot_control_P_tensor.cuda(), \n",
    "                                                                    'static': bot_control_P_static_tensor.cuda(),\n",
    "                                                                    'times': bot_control_P_time_tensor.cuda(),\n",
    "                                                                    'lengths': torch.sum(bot_control_P_time_tensor > 0, dim=0).cuda()\n",
    "                                                                          }])))\n",
    "\n",
    "#if len(top_control_args) > 0:\n",
    "#    for rand_concept in rand_concepts:\n",
    "#        experimental_sets.append([top_control_con, rand_concept])\n",
    "        \n",
    "#if len(bot_control_args) > 0:\n",
    "#    for rand_concept in rand_concepts:\n",
    "#        experimental_sets.append([bot_control_con, rand_concept])    \n",
    "\n",
    "if len(top_control_args) > 0:\n",
    "    for rand_concept in rand_concepts:\n",
    "        experimental_sets.append([top_control_con, bot_control_con, rand_concept])\n",
    "\n",
    "print(len(top_control_args))\n",
    "print(len(bot_control_args))"
   ]
  },
  {
   "cell_type": "code",
   "execution_count": null,
   "id": "2779f9a7",
   "metadata": {},
   "outputs": [],
   "source": []
  },
  {
   "cell_type": "code",
   "execution_count": null,
   "id": "46234174",
   "metadata": {},
   "outputs": [],
   "source": []
  },
  {
   "cell_type": "markdown",
   "id": "ac68db5a",
   "metadata": {},
   "source": [
    "## Assessment concept:"
   ]
  },
  {
   "cell_type": "code",
   "execution_count": 26,
   "id": "fe823aae",
   "metadata": {},
   "outputs": [],
   "source": [
    "def assessment(features_df, n):\n",
    "    # Top: Intersection\n",
    "    # Bot: Union\n",
    "    assessment_df = features_df[['user_id', 'competency_strength', 'student_shape']]\n",
    "    \n",
    "    top_competency_strength, bot_competency_strength = give_top_bot_percent(assessment_df['competency_strength'].apply(sum), n)\n",
    "    top_student_shape, bot_student_shape = give_top_bot_percent(assessment_df['student_shape'].apply(sum), n)\n",
    "    \n",
    "    top_intersection = np.array(list(set(top_student_shape.index).intersection(top_competency_strength.index)))\n",
    "    bot_intersection = np.array(list(set(bot_student_shape.index).union(bot_competency_strength.index)))\n",
    "    \n",
    "    lim = np.min([len(top_intersection), len(bot_intersection)])\n",
    "    \n",
    "    top_intersection = top_intersection[np.random.choice(len(top_intersection), size=(lim,), replace=False)] if len(top_intersection) > lim else top_intersection\n",
    "    bot_intersection = bot_intersection[np.random.choice(len(bot_intersection), size=(lim,), replace=False)] if len(bot_intersection) > lim else bot_intersection\n",
    "    \n",
    "    return top_intersection, bot_intersection"
   ]
  },
  {
   "cell_type": "code",
   "execution_count": 27,
   "id": "fe324570",
   "metadata": {},
   "outputs": [
    {
     "name": "stdout",
     "output_type": "stream",
     "text": [
      "0\n",
      "0\n"
     ]
    }
   ],
   "source": [
    "top_assessment_args, bot_assessment_args = assessment(features_df, 0.35)\n",
    "\n",
    "top_assessment_P_tensor = P_tensor[:, top_assessment_args, :]\n",
    "top_assessment_P_static_tensor = P_static_tensor[top_assessment_args]\n",
    "top_assessment_P_time_tensor = P_time_tensor[:, top_assessment_args]\n",
    "top_assessment_y_tensor = y_tensor[top_assessment_args]\n",
    "\n",
    "top_assessment_con = Concept(id=50, name=\"High Assessment\", data_iter=dataset_to_dataloader(tuple([{'src': top_assessment_P_tensor.cuda(), \n",
    "                                                                    'static': top_assessment_P_static_tensor.cuda(),\n",
    "                                                                    'times': top_assessment_P_time_tensor.cuda(),\n",
    "                                                                    'lengths': torch.sum(top_assessment_P_time_tensor > 0, dim=0).cuda()\n",
    "                                                                          }])))\n",
    "\n",
    "bot_assessment_P_tensor = P_tensor[:, bot_assessment_args, :]\n",
    "bot_assessment_P_static_tensor = P_static_tensor[bot_assessment_args]\n",
    "bot_assessment_P_time_tensor = P_time_tensor[:, bot_assessment_args]\n",
    "bot_assessment_y_tensor = y_tensor[bot_assessment_args]\n",
    "\n",
    "bot_assessment_con = Concept(id=51, name=\"Low Assessment\", data_iter=dataset_to_dataloader(tuple([{'src': bot_assessment_P_tensor.cuda(), \n",
    "                                                                    'static': bot_assessment_P_static_tensor.cuda(),\n",
    "                                                                    'times': bot_assessment_P_time_tensor.cuda(),\n",
    "                                                                    'lengths': torch.sum(bot_assessment_P_time_tensor > 0, dim=0).cuda()\n",
    "                                                                          }])))\n",
    "\n",
    "#if len(top_assessment_args) > 0:\n",
    "#    for rand_concept in rand_concepts:\n",
    "#        experimental_sets.append([top_assessment_con, rand_concept])\n",
    "#if len(bot_assessment_args) > 0:\n",
    "#    for rand_concept in rand_concepts:\n",
    "#        experimental_sets.append([bot_assessment_con, rand_concept])    \n",
    "if len(top_assessment_args) > 0:\n",
    "    for rand_concept in rand_concepts:\n",
    "        experimental_sets.append([top_assessment_con, bot_assessment_con, rand_concept])\n",
    "\n",
    "\n",
    "print(len(top_assessment_args))\n",
    "print(len(bot_assessment_args))"
   ]
  },
  {
   "cell_type": "code",
   "execution_count": null,
   "id": "1511c55d",
   "metadata": {},
   "outputs": [],
   "source": []
  },
  {
   "cell_type": "code",
   "execution_count": null,
   "id": "f3e7667e",
   "metadata": {},
   "outputs": [],
   "source": []
  },
  {
   "cell_type": "code",
   "execution_count": null,
   "id": "685e82e9",
   "metadata": {},
   "outputs": [],
   "source": []
  },
  {
   "cell_type": "code",
   "execution_count": 28,
   "id": "ef6d666c",
   "metadata": {},
   "outputs": [
    {
     "name": "stdout",
     "output_type": "stream",
     "text": [
      "5.0\n"
     ]
    }
   ],
   "source": [
    "num_result_concepts = len(experimental_sets)/num_rands\n",
    "print(num_result_concepts)"
   ]
  },
  {
   "cell_type": "markdown",
   "id": "41d93519",
   "metadata": {},
   "source": [
    "# Defining model"
   ]
  },
  {
   "cell_type": "code",
   "execution_count": 29,
   "id": "b307d348",
   "metadata": {},
   "outputs": [
    {
     "name": "stdout",
     "output_type": "stream",
     "text": [
      " \n"
     ]
    }
   ],
   "source": [
    "\n",
    "max_len = 1000\n",
    "n_classes = 2\n",
    "global_structure = torch.ones(d_inp, d_inp)\n",
    "saved_model_path = f\"../models/n1_mlp2_best_raindrop_{MOOC}_{percentile}.pt\"\n",
    "batch_size = 256\n",
    "n_splits = 1\n",
    "\n",
    "d_static = 9\n",
    "static_info = 1\n",
    "d_ob = 4\n",
    "d_model = d_inp * d_ob\n",
    "nhid = 2 * d_model\n",
    "nlayers = 1\n",
    "nhead = 2\n",
    "dropout = 0.2\n",
    "sensor_wise_mask = False\n",
    "MAX = 100\n",
    "aggreg = 'mean'\n",
    "\n",
    "\n",
    "model = Raindrop_v2(d_inp, d_model, nhead, nhid, nlayers, dropout, max_len,\n",
    "                                        d_static, MAX, 0.5, aggreg, n_classes, global_structure,\n",
    "                                        sensor_wise_mask=sensor_wise_mask)\n",
    "\n",
    "model.cuda()\n",
    "model.load_state_dict(torch.load(saved_model_path))\n",
    "model.eval()\n",
    "print(' ')"
   ]
  },
  {
   "cell_type": "code",
   "execution_count": 30,
   "id": "8c5213ed",
   "metadata": {},
   "outputs": [
    {
     "name": "stderr",
     "output_type": "stream",
     "text": [
      "/opt/conda/envs/py39/lib/python3.9/site-packages/captum/concept/_utils/classifier.py:130: UserWarning: Using default classifier for TCAV which keeps input both train and test datasets in the memory. Consider defining your own classifier that doesn't rely heavily on memory, for large number of concepts, by extending `Classifer` abstract class\n",
      "  warnings.warn(\n"
     ]
    }
   ],
   "source": [
    "layers = ['mlp_static']\n",
    "mytcav = TCAV(model=model, layers=layers, attribute_to_layer_input=True)"
   ]
  },
  {
   "cell_type": "code",
   "execution_count": 31,
   "id": "8f7cd018",
   "metadata": {},
   "outputs": [],
   "source": [
    "def assemble_scores(scores, experimental_sets, idx, score_layer, score_type):\n",
    "    score_list = []\n",
    "    for concepts in experimental_sets:\n",
    "        score_list.append(scores[\"-\".join([str(c.id) for c in concepts])][score_layer][score_type][idx])\n",
    "        \n",
    "    return score_list"
   ]
  },
  {
   "cell_type": "code",
   "execution_count": null,
   "id": "3b08b3ce",
   "metadata": {},
   "outputs": [],
   "source": []
  },
  {
   "cell_type": "code",
   "execution_count": 32,
   "id": "9843f6e5",
   "metadata": {},
   "outputs": [
    {
     "name": "stderr",
     "output_type": "stream",
     "text": [
      "/../RIPPLE/Raindrop/code/models_rd.py:314: UserWarning: indexing with dtype torch.uint8 is now deprecated, please use a dtype torch.bool instead. (Triggered internally at  /opt/conda/conda-bld/pytorch_1659484809662/work/aten/src/ATen/native/IndexingUtils.h:27.)\n",
      "  adj[torch.eye(self.d_inp).byte()] = 1\n"
     ]
    },
    {
     "name": "stdout",
     "output_type": "stream",
     "text": [
      "146\n"
     ]
    },
    {
     "name": "stderr",
     "output_type": "stream",
     "text": [
      "/opt/conda/envs/py39/lib/python3.9/site-packages/captum/_utils/models/linear_model/train.py:351: UserWarning: Creating a tensor from a list of numpy.ndarrays is extremely slow. Please consider converting the list to a single numpy.ndarray with numpy.array() before converting to a tensor. (Triggered internally at  /opt/conda/conda-bld/pytorch_1659484809662/work/torch/csrc/utils/tensor_new.cpp:201.)\n",
      "  bias_values = torch.FloatTensor([sklearn_model.intercept_]).to(  # type: ignore\n",
      "/../RIPPLE/Raindrop/code/models_rd.py:314: UserWarning: indexing with dtype torch.uint8 is now deprecated, please use a dtype torch.bool instead. (Triggered internally at  /opt/conda/conda-bld/pytorch_1659484809662/work/aten/src/ATen/native/IndexingUtils.h:27.)\n",
      "  adj[torch.eye(self.d_inp).byte()] = 1\n"
     ]
    }
   ],
   "source": [
    "#passed_args = np.where(ytest == 0)[0]\n",
    "\n",
    "#inputs = {'src': Ptest_tensor[:, passed_args, :].cuda(), \n",
    "#                            'static': Ptest_static_tensor[passed_args, :].cuda(),\n",
    "#                            'times': Ptest_time_tensor[:, passed_args].cuda(),\n",
    "#                            'lengths': torch.sum(Ptest_time_tensor > 0, dim=0)[passed_args].cuda()\n",
    "#                        }\n",
    "\n",
    "\n",
    "inputs = {'src': Ptest_tensor.cuda(), \n",
    "                            'static': Ptest_static_tensor.cuda(),\n",
    "                            'times': Ptest_time_tensor.cuda(),\n",
    "                            'lengths': torch.sum(Ptest_time_tensor > 0, dim=0).cuda()\n",
    "                        }\n",
    "\n",
    "\n",
    "y_out = model.forward(*inputs.values())\n",
    "y_out = np.argmax(torch.squeeze(torch.sigmoid(y_out)).detach().cpu().numpy(), axis=1)\n",
    "\n",
    "#true_args = np.where(y_out == test_target)[0]\n",
    "#passed_args = passed_args[true_args]\n",
    "passed_args = np.where(y_out == test_target)[0]\n",
    "print(len(passed_args))\n",
    "\n",
    "scores = mytcav.interpret(inputs = {'src': Ptest_tensor[:, passed_args, :].cuda(), \n",
    "                            'static': Ptest_static_tensor[passed_args, :].cuda(),\n",
    "                            'times': Ptest_time_tensor[:, passed_args].cuda(),\n",
    "                            'lengths': torch.sum(Ptest_time_tensor > 0, dim=0)[passed_args].cuda()\n",
    "                        }, \n",
    "                 experimental_sets= experimental_sets,\n",
    "                 target = Target\n",
    "   )\n",
    "\n",
    "\n",
    "#passed_args = passed_args[np.random.choice(len(passed_args), size=(200, ), replace=False)]\n",
    "#scores = mytcav.interpret(inputs = {'src': Ptest_tensor[:, passed_args, :].cuda(), \n",
    "#                            'static': Ptest_static_tensor[passed_args, :].cuda(),\n",
    "#                            'times': Ptest_time_tensor[:, passed_args].cuda(),\n",
    "#                            'lengths': torch.sum(Ptest_time_tensor > 0, dim=0)[passed_args].cuda()\n",
    "#                        }, \n",
    "#                 experimental_sets= experimental_sets,\n",
    "#                 target = Target\n",
    "#   )\n",
    "\n",
    "#passed_args = np.where(y_tensor == test_target)[0]\n",
    "#passed_args = passed_args[np.random.choice(len(passed_args), size=(200, ), replace=False)]\n",
    "#scores = mytcav.interpret(inputs = {'src': P_tensor[:, passed_args, :].cuda(), \n",
    "#                            'static': P_static_tensor[passed_args, :].cuda(),\n",
    "#                            'times': P_time_tensor[:, passed_args].cuda(),\n",
    "#                            'lengths': torch.sum(P_time_tensor > 0, dim=0)[passed_args].cuda()\n",
    "#                        }, \n",
    "#                 experimental_sets= experimental_sets,\n",
    "#                 target = Target\n",
    "#   )\n",
    "\n",
    "#passed_args = np.where(top_effort_y_tensor == test_target)[0]\n",
    "#scores = mytcav.interpret(inputs = {'src': top_effort_P_tensor[:, passed_args, :].cuda(), \n",
    "#                            'static': top_effort_P_static_tensor[passed_args, :].cuda(),\n",
    "#                            'times': top_effort_P_time_tensor[:, passed_args].cuda(),\n",
    "#                            'lengths': torch.sum(top_effort_P_time_tensor > 0, dim=0)[passed_args].cuda()\n",
    "#                        }, \n",
    "#                 experimental_sets= experimental_sets,\n",
    "#                 target = Target\n",
    "#                                          )\n",
    "\n",
    "#scores = mytcav.interpret(inputs = {'src': Pval_tensor.cuda(), \n",
    "#                            'static': Pval_static_tensor.cuda(),\n",
    "#                            'times': Pval_time_tensor.cuda(),\n",
    "#                            'lengths': torch.sum(Pval_time_tensor > 0, dim=0).cuda()\n",
    "#                        }, \n",
    "#                 experimental_sets= experimental_sets,\n",
    "#                 target = 0\n",
    "#                                          )"
   ]
  },
  {
   "cell_type": "code",
   "execution_count": null,
   "id": "ff5198a9",
   "metadata": {},
   "outputs": [],
   "source": []
  },
  {
   "cell_type": "code",
   "execution_count": 33,
   "id": "33cdb8f8",
   "metadata": {},
   "outputs": [],
   "source": [
    "def format_float(f):\n",
    "    return float('{:.3f}'.format(f) if abs(f) >= 0.0005 else '{:.3e}'.format(f))\n",
    "\n",
    "def plot_tcav_scores(experimental_sets, tcav_scores):\n",
    "    fig, ax = plt.subplots(1, len(experimental_sets), figsize = (25, 7))\n",
    "\n",
    "    barWidth = 1 / (len(experimental_sets[0]) + 1)\n",
    "\n",
    "    for idx_es, concepts in enumerate(experimental_sets):\n",
    "\n",
    "        concepts = experimental_sets[idx_es]\n",
    "        concepts_key = concepts_to_str(concepts)\n",
    "\n",
    "        pos = [np.arange(len(layers))]\n",
    "        for i in range(1, len(concepts)):\n",
    "            pos.append([(x + barWidth) for x in pos[i-1]])\n",
    "        _ax = (ax[idx_es] if len(experimental_sets) > 1 else ax)\n",
    "        for i in range(len(concepts)):\n",
    "            val = [format_float(scores['sign_count'][i]) for layer, scores in tcav_scores[concepts_key].items()]\n",
    "            _ax.bar(pos[i], val, width=barWidth, edgecolor='white', label=concepts[i].name)\n",
    "\n",
    "        # Add xticks on the middle of the group bars\n",
    "        _ax.set_xlabel('Set {}'.format(str(idx_es)), fontweight='bold', fontsize=16)\n",
    "        _ax.set_xticks([r + 0.3 * barWidth for r in range(len(layers))])\n",
    "        _ax.set_xticklabels(layers, fontsize=16)\n",
    "\n",
    "        # Create legend & Show graphic\n",
    "        _ax.legend(fontsize=16)\n",
    "\n",
    "    plt.show()"
   ]
  },
  {
   "cell_type": "code",
   "execution_count": 34,
   "id": "51b85dd2",
   "metadata": {},
   "outputs": [],
   "source": [
    "#plot_tcav_scores(experimental_sets, scores)"
   ]
  },
  {
   "cell_type": "code",
   "execution_count": 35,
   "id": "c251b2c1",
   "metadata": {},
   "outputs": [],
   "source": [
    "def get_pval(scores, experimental_sets, score_layer, score_type, alpha=0.05, print_ret=False):\n",
    "    \n",
    "    P1 = assemble_scores(scores, experimental_sets, 0, score_layer, score_type)\n",
    "    P2 = assemble_scores(scores, experimental_sets, 1, score_layer, score_type)\n",
    "    \n",
    "    if print_ret:\n",
    "        print('P1[mean, std]: ', format_float(np.mean(P1)), format_float(np.std(P1)))\n",
    "        print('P2[mean, std]: ', format_float(np.mean(P2)), format_float(np.std(P2)))\n",
    "\n",
    "    P1 = [item.cpu() for item in P1]\n",
    "    P2 = [item.cpu() for item in P2]        \n",
    "    _, pval = ttest_ind(P1, P2)\n",
    "\n",
    "    if print_ret:\n",
    "        print(\"p-values:\", format_float(pval))\n",
    "\n",
    "    if pval < alpha:    # alpha value is 0.05 or 5%\n",
    "        relation = \"Disjoint\"\n",
    "        if print_ret:\n",
    "            print(\"Disjoint\")\n",
    "    else:\n",
    "        relation = \"Overlap\"\n",
    "        if print_ret:\n",
    "            print(\"Overlap\")\n",
    "        \n",
    "    return P1, P2, format_float(pval), relation\n",
    "n = num_rands\n",
    "def show_boxplots(layer, metric='sign_count'):\n",
    "\n",
    "    def format_label_text(experimental_sets):\n",
    "        concept_id_list = [exp.name if i == 0 else \\\n",
    "                             exp.name.split('_')[0] for i, exp in enumerate(experimental_sets[0])]\n",
    "        return concept_id_list\n",
    "\n",
    "    n_plots = 9\n",
    "\n",
    "    fig, ax = plt.subplots(1, n_plots, figsize = (25, 7 * 1))\n",
    "    #fig, ax = plt.subplots(3, 3, figsize = (25, 7 * 3))\n",
    "    fs = 18\n",
    "    for i in range(n_plots):\n",
    "        esl = experimental_sets[i * n : (i+1) * n]\n",
    "        P1, P2, pval, relation = get_pval(scores, esl, layer, metric)\n",
    "\n",
    "        ax[i].set_ylim([0, 1])\n",
    "        ax[i].set_title(layer + \"-\" + metric + \" (pval=\" + str(pval) + \" - \" + relation + \")\", fontsize=fs)\n",
    "        ax[i].boxplot([P1, P2], showfliers=True)\n",
    "        \n",
    "        ax[i].set_xticklabels(format_label_text(esl), fontsize=fs)\n",
    "\n",
    "    plt.show()"
   ]
  },
  {
   "cell_type": "code",
   "execution_count": 36,
   "id": "c6b033be",
   "metadata": {},
   "outputs": [],
   "source": [
    "#show_boxplots('mlp_static')"
   ]
  },
  {
   "cell_type": "code",
   "execution_count": 37,
   "id": "e625da75",
   "metadata": {},
   "outputs": [],
   "source": [
    "def format_label_text(experimental_sets):\n",
    "    concept_id_list = [exp.name if i == 0 else \\\n",
    "                         exp.name.split('_')[0] for i, exp in enumerate(experimental_sets[0])]\n",
    "    concept_id_list = [ ' '.join(i.split(' ')[:-1]).replace(' ', '$ \\n $')  if len(i.split(' '))>1 else i for i in concept_id_list]\n",
    "    return concept_id_list"
   ]
  },
  {
   "cell_type": "code",
   "execution_count": 38,
   "id": "6b012c47",
   "metadata": {},
   "outputs": [],
   "source": [
    "plt.rcParams.update({\n",
    "    \"text.usetex\": True,\n",
    "    \"font.family\": \"sans-serif\",\n",
    "    \"font.sans-serif\": [\"Helvetica\"]})\n",
    "def tex_func(list_str):\n",
    "    a = []\n",
    "    for string in list_str:\n",
    "        a.append('$'+string+'$')\n",
    "    return a"
   ]
  },
  {
   "cell_type": "code",
   "execution_count": 39,
   "id": "de72ab44",
   "metadata": {
    "scrolled": false
   },
   "outputs": [
    {
     "data": {
      "image/png": "[encoded data removed]",
      "text/plain": [
       "<Figure size 1000x2800 with 5 Axes>"
      ]
     },
     "metadata": {},
     "output_type": "display_data"
    }
   ],
   "source": [
    "layer = 'mlp_static'\n",
    "metric='sign_count'\n",
    "n_plots = 11\n",
    "\n",
    "n = num_rands\n",
    "\n",
    "#fig, ax = plt.subplots(1, n_plots, figsize = (25, 7 * 1))\n",
    "fig, ax = plt.subplots(int(num_result_concepts), 1, figsize = (10, 28))\n",
    "\n",
    "fs = 35\n",
    "\n",
    "effort_pal = ['gold', 'khaki', 'gray']\n",
    "consistency_pal = ['darkgreen', 'mediumseagreen', 'palegreen', 'gray']\n",
    "regularity_pal = ['c', 'cyan', 'gray']\n",
    "proactivity_pal = ['darkviolet', 'violet', 'gray']\n",
    "control_pal = ['r', 'tomato', 'gray']\n",
    "assessment_pal = ['mediumblue', 'dodgerblue', 'gray']\n",
    "\n",
    "pals_dict = {'Effort': effort_pal,\n",
    "            'Consistency': consistency_pal,\n",
    "            'Regularity': regularity_pal,\n",
    "            'Proactivity': proactivity_pal,\n",
    "            'Control': control_pal,\n",
    "            'Assessment': assessment_pal}\n",
    "\n",
    "my_palette = ['skyblue', 'violet', 'cyan', 'gray']\n",
    "for i in range(int(num_result_concepts)):\n",
    "    esl = experimental_sets[(i) * n : ((i)+1) * n]\n",
    "    Ps = []\n",
    "    for z in range(len(esl[0])):\n",
    "            Ps.append([item.cpu() for item in assemble_scores(scores, esl, z, layer, metric)])\n",
    "    #ax[i].boxplot(Ps, showfliers=True)\n",
    "    pal = my_palette[-len(Ps):]\n",
    "    sns.boxplot(data=Ps, ax=ax[i], showfliers=True, width=0.3, medianprops={\"color\": \"black\", \"linewidth\": 5}, \n",
    "                palette=pals_dict[esl[0][0].name.split(' ')[-1]]\n",
    "               )\n",
    "    ax[i].set_xticklabels(tex_func(format_label_text(esl)))\n",
    "    ax[i].set_ylabel('$' + esl[0][0].name.split(' ')[-1] + '$', fontsize = fs*1.5)\n",
    "    ax[i].tick_params(axis='both', which='major', labelsize = fs)\n",
    "    \n",
    "\n",
    "#ax[2].set_xticklabels(tex_func([\"a \\\\ b\", '2', '3']))\n",
    "plt.tight_layout()\n",
    "plt.show()\n",
    "\n",
    "#for i in range(1):\n",
    "#    for j in range(5):\n",
    "\n",
    "#        esl = experimental_sets[(i*5 + j) * n : ((i*5 + j)+1) * n]\n",
    "        #P1, P2, pval, relation = get_pval(scores, esl, layer, metric)\n",
    "#        Ps = []\n",
    "#        for z in range(len(esl[0])):\n",
    "#            Ps.append([item.cpu() for item in assemble_scores(scores, esl, z, layer, metric)])\n",
    "\n",
    "        #ax[i, j].set_ylim([0, 1])\n",
    "        \n",
    "        #ax[i, j].set_title(layer + \"-\" + metric + \" (pval=\" + str(pval) + \" - \" + relation + \")\", fontsize=fs)\n",
    "        #ax[i, j].set_title(format_label_text(esl)[0] + \" (pval=\" + str(pval) + \" - \" + relation + \")\", fontsize=fs)\n",
    "#        ax[i, j].boxplot(Ps, showfliers=True)\n",
    "\n",
    "#        ax[i, j].set_xticklabels(format_label_text(esl), fontsize=fs)\n",
    "\n",
    "#plt.show()\n"
   ]
  },
  {
   "cell_type": "code",
   "execution_count": null,
   "id": "42cfebd2",
   "metadata": {},
   "outputs": [],
   "source": []
  },
  {
   "cell_type": "code",
   "execution_count": null,
   "id": "213e7e84",
   "metadata": {},
   "outputs": [],
   "source": []
  },
  {
   "cell_type": "code",
   "execution_count": null,
   "id": "ae12d533",
   "metadata": {},
   "outputs": [],
   "source": []
  },
  {
   "cell_type": "code",
   "execution_count": null,
   "id": "ef4da10c",
   "metadata": {},
   "outputs": [],
   "source": []
  },
  {
   "cell_type": "code",
   "execution_count": null,
   "id": "8c571614",
   "metadata": {},
   "outputs": [],
   "source": []
  },
  {
   "cell_type": "code",
   "execution_count": null,
   "id": "a3008651",
   "metadata": {},
   "outputs": [],
   "source": []
  }
 ],
 "metadata": {
  "kernelspec": {
   "display_name": "py39",
   "language": "python",
   "name": "py39"
  },
  "language_info": {
   "codemirror_mode": {
    "name": "ipython",
    "version": 3
   },
   "file_extension": ".py",
   "mimetype": "text/x-python",
   "name": "python",
   "nbconvert_exporter": "python",
   "pygments_lexer": "ipython3",
   "version": "3.9.12"
  }
 },
 "nbformat": 4,
 "nbformat_minor": 5
}
